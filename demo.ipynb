{
 "cells": [
  {
   "cell_type": "markdown",
   "id": "f6fbdb5c",
   "metadata": {},
   "source": [
    "In this notebook, we will build a 3D map of a scene from a small set of images and then localize an image downloaded from the Internet. This demo was contributed by [Philipp Lindenberger](https://github.com/Phil26AT/)."
   ]
  },
  {
   "cell_type": "markdown",
   "id": "a72ac394",
   "metadata": {},
   "source": [
    "# Setup\n",
    "Here we define some output paths."
   ]
  },
  {
   "cell_type": "code",
   "execution_count": 6,
   "id": "f376de7b",
   "metadata": {},
   "outputs": [
    {
     "name": "stdout",
     "output_type": "stream",
     "text": [
      "The autoreload extension is already loaded. To reload it, use:\n",
      "  %reload_ext autoreload\n"
     ]
    }
   ],
   "source": [
    "%load_ext autoreload\n",
    "%autoreload 2\n",
    "import tqdm, tqdm.notebook\n",
    "import os\n",
    "import json\n",
    "tqdm.tqdm = tqdm.notebook.tqdm  # notebook-friendly progress bars\n",
    "from pathlib import Path\n",
    "import numpy as np\n",
    "\n",
    "from hloc import (\n",
    "    extract_features,\n",
    "    match_features,\n",
    "    reconstruction,\n",
    "    visualization,\n",
    "    pairs_from_exhaustive,\n",
    "    pairs_from_sequence,\n",
    ")\n",
    "from hloc.visualization import plot_images, read_image\n",
    "from hloc.utils import viz_3d"
   ]
  },
  {
   "cell_type": "code",
   "execution_count": 7,
   "id": "e663b133",
   "metadata": {},
   "outputs": [],
   "source": [
    "\n",
    "images = Path(\"datasets/carV3\")\n",
    "outputs = Path(\"outputs/carV3/\")\n",
    "!rm -rf $outputs\n",
    "sfm_pairs = outputs / \"pairs-sfm.txt\"\n",
    "loc_pairs = outputs / \"pairs-loc.txt\"\n",
    "sfm_dir = outputs / \"sfm\"\n",
    "features = outputs / \"features.h5\"\n",
    "matches = outputs / \"matches.h5\"\n",
    "bbox_file = images / \"bbox_dict.json\"\n",
    "\n",
    "feature_conf = extract_features.confs[\"disk\"]\n",
    "matcher_conf = match_features.confs[\"disk+lightglue\"]"
   ]
  },
  {
   "cell_type": "markdown",
   "id": "edc7b21e",
   "metadata": {},
   "source": [
    "# 3D mapping\n",
    "First we list the images used for mapping. These are all day-time shots of Sacre Coeur."
   ]
  },
  {
   "cell_type": "code",
   "execution_count": 8,
   "id": "2b9e3ef3",
   "metadata": {},
   "outputs": [
    {
     "name": "stdout",
     "output_type": "stream",
     "text": [
      "['images/61.jpg', 'images/62.jpg', 'images/63.jpg', 'images/64.jpg', 'images/65.jpg', 'images/66.jpg', 'images/67.jpg', 'images/68.jpg', 'images/69.jpg', 'images/70.jpg', 'images/71.jpg', 'images/72.jpg', 'images/73.jpg', 'images/74.jpg', 'images/75.jpg', 'images/76.jpg', 'images/77.jpg', 'images/78.jpg', 'images/79.jpg', 'images/80.jpg', 'images/81.jpg', 'images/82.jpg', 'images/83.jpg', 'images/84.jpg', 'images/85.jpg', 'images/86.jpg', 'images/87.jpg', 'images/88.jpg', 'images/89.jpg', 'images/90.jpg', 'images/91.jpg']\n",
      "31 mapping images\n",
      "91 bounding boxes\n",
      "{'images/53.jpg': [1010, 543, 1622, 948], 'images/54.jpg': [812, 531, 1770, 989], 'images/55.jpg': [866, 540, 1715, 991], 'images/56.jpg': [909, 534, 1676, 1002], 'images/57.jpg': [949, 537, 1629, 1003], 'images/58.jpg': [1004, 545, 1570, 1003], 'images/59.jpg': [1051, 528, 1521, 944], 'images/60.jpg': [1041, 542, 1499, 1023], 'images/61.jpg': [512, 901, 892, 1302], 'images/01.jpg': [971, 545, 1523, 996], 'images/02.jpg': [925, 539, 1561, 999], 'images/03.jpg': [883, 537, 1605, 1009], 'images/04.jpg': [816, 532, 1669, 995], 'images/05.jpg': [973, 535, 1563, 947], 'images/06.jpg': [766, 527, 1716, 988], 'images/07.jpg': [945, 542, 1579, 938], 'images/08.jpg': [759, 527, 1728, 986], 'images/09.jpg': [905, 541, 1618, 940], 'images/10.jpg': [881, 544, 1640, 927], 'images/11.jpg': [754, 523, 1750, 974], 'images/12.jpg': [826, 541, 1703, 946], 'images/13.jpg': [804, 541, 1734, 945], 'images/14.jpg': [752, 520, 1780, 961], 'images/15.jpg': [792, 541, 1768, 949], 'images/16.jpg': [778, 543, 1788, 945], 'images/17.jpg': [788, 548, 1812, 946], 'images/18.jpg': [795, 549, 1812, 944], 'images/19.jpg': [829, 549, 1786, 948], 'images/20.jpg': [764, 516, 1782, 967], 'images/21.jpg': [870, 552, 1753, 946], 'images/22.jpg': [902, 553, 1736, 945], 'images/23.jpg': [955, 553, 1686, 943], 'images/24.jpg': [778, 511, 1775, 979], 'images/25.jpg': [1018, 554, 1627, 942], 'images/26.jpg': [802, 505, 1769, 988], 'images/27.jpg': [858, 506, 1722, 996], 'images/28.jpg': [924, 499, 1661, 1001], 'images/29.jpg': [969, 498, 1624, 1006], 'images/30.jpg': [1008, 501, 1586, 1006], 'images/31.jpg': [1043, 498, 1514, 996], 'images/32.jpg': [1059, 551, 1541, 951], 'images/33.jpg': [977, 497, 1536, 1009], 'images/34.jpg': [896, 500, 1619, 1005], 'images/35.jpg': [812, 502, 1699, 1003], 'images/36.jpg': [1001, 558, 1551, 945], 'images/37.jpg': [789, 504, 1731, 996], 'images/38.jpg': [764, 512, 1756, 984], 'images/39.jpg': [932, 552, 1617, 948], 'images/40.jpg': [896, 554, 1655, 942], 'images/41.jpg': [747, 516, 1772, 970], 'images/42.jpg': [832, 550, 1739, 946], 'images/43.jpg': [790, 551, 1789, 940], 'images/44.jpg': [772, 548, 1801, 945], 'images/45.jpg': [778, 548, 1803, 943], 'images/46.jpg': [785, 549, 1805, 941], 'images/47.jpg': [749, 521, 1772, 960], 'images/48.jpg': [813, 541, 1793, 947], 'images/49.jpg': [894, 539, 1742, 951], 'images/50.jpg': [874, 543, 1758, 946], 'images/51.jpg': [942, 543, 1697, 943], 'images/52.jpg': [769, 525, 1784, 972], 'images/64.jpg': [533, 850, 895, 1225], 'images/65.jpg': [538, 836, 895, 1203], 'images/66.jpg': [545, 820, 893, 1174], 'images/67.jpg': [561, 800, 896, 1139], 'images/68.jpg': [574, 768, 896, 1097], 'images/69.jpg': [579, 735, 899, 1060], 'images/70.jpg': [597, 714, 902, 1029], 'images/71.jpg': [607, 692, 898, 975], 'images/72.jpg': [628, 663, 901, 937], 'images/73.jpg': [640, 638, 904, 902], 'images/74.jpg': [646, 612, 898, 857], 'images/75.jpg': [659, 586, 894, 820], 'images/76.jpg': [659, 562, 896, 784], 'images/77.jpg': [669, 540, 883, 749], 'images/78.jpg': [669, 520, 874, 713], 'images/79.jpg': [658, 498, 862, 688], 'images/80.jpg': [647, 486, 849, 663], 'images/81.jpg': [637, 472, 834, 643], 'images/82.jpg': [620, 458, 816, 625], 'images/83.jpg': [595, 442, 798, 606], 'images/84.jpg': [568, 433, 770, 584], 'images/85.jpg': [537, 426, 741, 574], 'images/86.jpg': [511, 419, 717, 558], 'images/87.jpg': [459, 407, 671, 544], 'images/88.jpg': [415, 398, 625, 528], 'images/89.jpg': [384, 393, 594, 523], 'images/90.jpg': [351, 387, 559, 519], 'images/91.jpg': [289, 384, 498, 503], 'images/62.jpg': [517, 887, 892, 1285], 'images/63.jpg': [519, 876, 892, 1256]}\n"
     ]
    }
   ],
   "source": [
    "# references = sorted([p.relative_to(images).as_posix() for p in (images / \"images/\").iterdir()])\n",
    "references = []\n",
    "for root, _, files in os.walk(images / \"images/\"):\n",
    "    for fname in files:\n",
    "        if fname.endswith(\".jpg\") or fname.endswith(\".png\"):\n",
    "            references.append(os.path.join(root.replace(images.as_posix()+'/', ''), fname))\n",
    "references = sorted(references)\n",
    "print(references)\n",
    "print(len(references), \"mapping images\")\n",
    "# plot_images([read_image(images / r) for r in references], dpi=25)\n",
    "bboxes = {}\n",
    "if os.path.exists(bbox_file):\n",
    "    with open(bbox_file, 'r') as f:\n",
    "        dic = json.load(f)\n",
    "    bboxes = {}\n",
    "    for k, v in dic.items():\n",
    "        index = int(k[:2])\n",
    "        # key = os.path.join('images/02', k) if index > 60 else os.path.join('images/01', k)\n",
    "        key = os.path.join('images/', k)\n",
    "        bboxes[key] = v\n",
    "    print(len(bboxes), \"bounding boxes\")\n",
    "print(bboxes)\n",
    "\n"
   ]
  },
  {
   "cell_type": "markdown",
   "id": "d23739ad",
   "metadata": {},
   "source": [
    "Then we extract features and match them across image pairs. Since we deal with few images, we simply match all pairs exhaustively. For larger scenes, we would use image retrieval, as demonstrated in the other notebooks."
   ]
  },
  {
   "cell_type": "code",
   "execution_count": 9,
   "id": "bdd2df10",
   "metadata": {},
   "outputs": [
    {
     "name": "stderr",
     "output_type": "stream",
     "text": [
      "[2024/08/27 17:53:22 hloc INFO] Extracting local features with configuration:\n",
      "{'model': {'max_keypoints': 5000, 'name': 'disk'},\n",
      " 'output': 'feats-disk',\n",
      " 'preprocessing': {'grayscale': False, 'resize_max': 1600}}\n"
     ]
    },
    {
     "data": {
      "application/vnd.jupyter.widget-view+json": {
       "model_id": "10adec069f4048308394e1132a080016",
       "version_major": 2,
       "version_minor": 0
      },
      "text/plain": [
       "  0%|          | 0/31 [00:00<?, ?it/s]"
      ]
     },
     "metadata": {},
     "output_type": "display_data"
    },
    {
     "name": "stderr",
     "output_type": "stream",
     "text": [
      "[2024/08/27 17:53:24 hloc INFO] Finished exporting features.\n",
      "[2024/08/27 17:53:24 hloc INFO] Found 87 pairs.\n",
      "[2024/08/27 17:53:24 hloc INFO] Matching local features with configuration:\n",
      "{'model': {'features': 'disk', 'name': 'lightglue'},\n",
      " 'output': 'matches-disk-lightglue'}\n",
      "/gemini/data-1/miniconda3/lib/python3.8/site-packages/lightglue/lightglue.py:143: UserWarning:\n",
      "\n",
      "FlashAttention is not available. For optimal speed, consider installing torch >= 2.0 or flash-attn.\n",
      "\n"
     ]
    },
    {
     "data": {
      "application/vnd.jupyter.widget-view+json": {
       "model_id": "81fe41e665cf49fdb44796814814719e",
       "version_major": 2,
       "version_minor": 0
      },
      "text/plain": [
       "  0%|          | 0/87 [00:00<?, ?it/s]"
      ]
     },
     "metadata": {},
     "output_type": "display_data"
    },
    {
     "name": "stderr",
     "output_type": "stream",
     "text": [
      "[2024/08/27 17:53:27 hloc INFO] Finished exporting matches.\n"
     ]
    }
   ],
   "source": [
    "# bboxes = None\n",
    "extract_features.main(\n",
    "    feature_conf, images, image_list=references, feature_path=features, bboxes=bboxes\n",
    ")\n",
    "# pairs_from_exhaustive.main(sfm_pairs, image_list=references)\n",
    "pairs_from_sequence.main(sfm_pairs, image_list=references, features=features, window_size=3)\n",
    "match_features.main(matcher_conf, sfm_pairs, features=features, matches=matches);"
   ]
  },
  {
   "cell_type": "markdown",
   "id": "edf9adf4",
   "metadata": {},
   "source": [
    "The we run incremental Structure-From-Motion and display the reconstructed 3D model."
   ]
  },
  {
   "cell_type": "code",
   "execution_count": 10,
   "id": "a52fe785",
   "metadata": {},
   "outputs": [
    {
     "name": "stderr",
     "output_type": "stream",
     "text": [
      "[2024/08/27 17:53:30 hloc INFO] Creating an empty database...\n",
      "[2024/08/27 17:53:30 hloc INFO] Importing images into the database...\n",
      "[2024/08/27 17:53:31 hloc INFO] Importing features into the database...\n"
     ]
    },
    {
     "data": {
      "application/vnd.jupyter.widget-view+json": {
       "model_id": "b5f9f98d8f7d45cfa5aae5234a5be69a",
       "version_major": 2,
       "version_minor": 0
      },
      "text/plain": [
       "  0%|          | 0/31 [00:00<?, ?it/s]"
      ]
     },
     "metadata": {},
     "output_type": "display_data"
    },
    {
     "name": "stderr",
     "output_type": "stream",
     "text": [
      "[2024/08/27 17:53:31 hloc INFO] Importing matches into the database...\n"
     ]
    },
    {
     "data": {
      "application/vnd.jupyter.widget-view+json": {
       "model_id": "efc03ac4d9724deba34387bdf46e9115",
       "version_major": 2,
       "version_minor": 0
      },
      "text/plain": [
       "  0%|          | 0/87 [00:00<?, ?it/s]"
      ]
     },
     "metadata": {},
     "output_type": "display_data"
    },
    {
     "name": "stderr",
     "output_type": "stream",
     "text": [
      "[2024/08/27 17:53:31 hloc INFO] Performing geometric verification of the matches...\n",
      "I20240827 17:53:31.657357 180671 misc.cc:198] \n",
      "==============================================================================\n",
      "Custom feature matching\n",
      "==============================================================================\n",
      "I20240827 17:53:31.669857 180671 feature_matching.cc:1021] Matching block [1/1]\n",
      "I20240827 17:53:31.687426 180671 feature_matching.cc:46]  in 0.018s\n",
      "I20240827 17:53:31.692888 180671 timer.cc:91] Elapsed time: 0.001 [minutes]\n",
      "[2024/08/27 17:53:31 hloc INFO] Running 3D reconstruction...\n",
      "I20240827 17:53:31.731660 180864 misc.cc:198] \n",
      "==============================================================================\n",
      "Loading database\n",
      "==============================================================================\n",
      "I20240827 17:53:31.768481 180864 database_cache.cc:54] Loading cameras...\n",
      "I20240827 17:53:31.771219 180864 database_cache.cc:64]  1 in 0.003s\n",
      "I20240827 17:53:31.771241 180864 database_cache.cc:72] Loading matches...\n",
      "I20240827 17:53:31.773720 180864 database_cache.cc:78]  87 in 0.002s\n",
      "I20240827 17:53:31.773742 180864 database_cache.cc:94] Loading images...\n",
      "I20240827 17:53:31.795120 180864 database_cache.cc:143]  31 in 0.021s (connected 31)\n",
      "I20240827 17:53:31.795148 180864 database_cache.cc:154] Building correspondence graph...\n",
      "I20240827 17:53:31.798153 180864 database_cache.cc:190]  in 0.003s (ignored 0)\n",
      "I20240827 17:53:31.798179 180864 timer.cc:91] Elapsed time: 0.000 [minutes]\n",
      "I20240827 17:53:31.806334 180864 misc.cc:198] \n",
      "==============================================================================\n",
      "Finding good initial image pair\n",
      "==============================================================================\n",
      "I20240827 17:53:31.909018 180864 misc.cc:198] \n",
      "==============================================================================\n",
      "Initializing with image pair #6 and #3\n",
      "==============================================================================\n",
      "I20240827 17:53:31.910311 180864 misc.cc:198] \n",
      "==============================================================================\n",
      "Global bundle adjustment\n",
      "==============================================================================\n",
      "I20240827 17:53:32.039244 180864 misc.cc:205] \n",
      "Bundle adjustment report\n",
      "------------------------\n",
      "I20240827 17:53:32.039285 180864 bundle_adjustment.cc:942] \n",
      "    Residuals : 1456\n",
      "   Parameters : 1099\n",
      "   Iterations : 101\n",
      "         Time : 0.128351 [s]\n",
      " Initial cost : 0.392757 [px]\n",
      "   Final cost : 0.278275 [px]\n",
      "  Termination : No convergence\n",
      "\n",
      "I20240827 17:53:32.039626 180864 incremental_mapper.cc:160] => Filtered observations: 0\n",
      "I20240827 17:53:32.039636 180864 incremental_mapper.cc:167] => Filtered images: 0\n",
      "I20240827 17:53:32.055385 180864 misc.cc:198] \n",
      "==============================================================================\n",
      "Registering image #2 (3)\n",
      "==============================================================================\n",
      "I20240827 17:53:32.055410 180864 incremental_mapper.cc:495] => Image sees 268 / 793 points\n",
      "I20240827 17:53:32.055485 180864 incremental_mapper.cc:535] => Could not register, trying another image.\n",
      "I20240827 17:53:32.055492 180864 misc.cc:198] \n",
      "==============================================================================\n",
      "Registering image #1 (3)\n",
      "==============================================================================\n",
      "I20240827 17:53:32.055497 180864 incremental_mapper.cc:495] => Image sees 262 / 763 points\n",
      "I20240827 17:53:32.055562 180864 incremental_mapper.cc:535] => Could not register, trying another image.\n",
      "I20240827 17:53:32.055568 180864 misc.cc:198] \n",
      "==============================================================================\n",
      "Registering image #4 (3)\n",
      "==============================================================================\n",
      "I20240827 17:53:32.055573 180864 incremental_mapper.cc:495] => Image sees 278 / 730 points\n",
      "I20240827 17:53:32.055651 180864 incremental_mapper.cc:535] => Could not register, trying another image.\n",
      "I20240827 17:53:32.055658 180864 misc.cc:198] \n",
      "==============================================================================\n",
      "Registering image #5 (3)\n",
      "==============================================================================\n",
      "I20240827 17:53:32.055663 180864 incremental_mapper.cc:495] => Image sees 289 / 756 points\n",
      "I20240827 17:53:32.055745 180864 incremental_mapper.cc:535] => Could not register, trying another image.\n",
      "I20240827 17:53:32.055752 180864 misc.cc:198] \n",
      "==============================================================================\n",
      "Registering image #8 (3)\n",
      "==============================================================================\n",
      "I20240827 17:53:32.055785 180864 incremental_mapper.cc:495] => Image sees 229 / 644 points\n",
      "I20240827 17:53:32.055847 180864 incremental_mapper.cc:535] => Could not register, trying another image.\n",
      "I20240827 17:53:32.055855 180864 misc.cc:198] \n",
      "==============================================================================\n",
      "Registering image #7 (3)\n",
      "==============================================================================\n",
      "I20240827 17:53:32.055859 180864 incremental_mapper.cc:495] => Image sees 224 / 605 points\n",
      "I20240827 17:53:32.055919 180864 incremental_mapper.cc:535] => Could not register, trying another image.\n",
      "I20240827 17:53:32.055927 180864 misc.cc:198] \n",
      "==============================================================================\n",
      "Registering image #9 (3)\n",
      "==============================================================================\n",
      "I20240827 17:53:32.055930 180864 incremental_mapper.cc:495] => Image sees 192 / 575 points\n",
      "I20240827 17:53:32.055989 180864 incremental_mapper.cc:535] => Could not register, trying another image.\n",
      "I20240827 17:53:32.055995 180864 misc.cc:198] \n",
      "==============================================================================\n",
      "Retriangulation\n",
      "==============================================================================\n",
      "I20240827 17:53:32.056106 180864 incremental_mapper.cc:175] => Completed observations: 0\n",
      "I20240827 17:53:32.056193 180864 incremental_mapper.cc:178] => Merged observations: 0\n",
      "I20240827 17:53:32.056200 180864 incremental_mapper.cc:105] => Retriangulated observations: 0\n",
      "I20240827 17:53:32.056214 180864 misc.cc:198] \n",
      "==============================================================================\n",
      "Global bundle adjustment\n",
      "==============================================================================\n",
      "I20240827 17:53:32.187502 180864 misc.cc:205] \n",
      "Bundle adjustment report\n",
      "------------------------\n",
      "I20240827 17:53:32.187546 180864 bundle_adjustment.cc:942] \n",
      "    Residuals : 1456\n",
      "   Parameters : 1099\n",
      "   Iterations : 101\n",
      "         Time : 0.130723 [s]\n",
      " Initial cost : 0.278275 [px]\n",
      "   Final cost : 0.26194 [px]\n",
      "  Termination : No convergence\n",
      "\n",
      "I20240827 17:53:32.187876 180864 incremental_mapper.cc:175] => Completed observations: 0\n",
      "I20240827 17:53:32.187966 180864 incremental_mapper.cc:178] => Merged observations: 0\n",
      "I20240827 17:53:32.188091 180864 incremental_mapper.cc:160] => Filtered observations: 0\n",
      "I20240827 17:53:32.188097 180864 incremental_mapper.cc:119] => Changed observations: 0.000000\n",
      "I20240827 17:53:32.188105 180864 incremental_mapper.cc:167] => Filtered images: 0\n",
      "I20240827 17:53:32.188115 180864 misc.cc:198] \n",
      "==============================================================================\n",
      "Registering image #2 (3)\n",
      "==============================================================================\n",
      "I20240827 17:53:32.188122 180864 incremental_mapper.cc:495] => Image sees 268 / 793 points\n",
      "I20240827 17:53:32.188191 180864 incremental_mapper.cc:535] => Could not register, trying another image.\n",
      "I20240827 17:53:32.188199 180864 misc.cc:198] \n",
      "==============================================================================\n",
      "Registering image #1 (3)\n",
      "==============================================================================\n",
      "I20240827 17:53:32.188203 180864 incremental_mapper.cc:495] => Image sees 262 / 763 points\n",
      "I20240827 17:53:32.188266 180864 incremental_mapper.cc:535] => Could not register, trying another image.\n",
      "I20240827 17:53:32.188274 180864 misc.cc:198] \n",
      "==============================================================================\n",
      "Registering image #4 (3)\n",
      "==============================================================================\n",
      "I20240827 17:53:32.188278 180864 incremental_mapper.cc:495] => Image sees 278 / 730 points\n",
      "I20240827 17:53:32.188356 180864 incremental_mapper.cc:535] => Could not register, trying another image.\n",
      "I20240827 17:53:32.188364 180864 misc.cc:198] \n",
      "==============================================================================\n",
      "Registering image #5 (3)\n",
      "==============================================================================\n",
      "I20240827 17:53:32.188390 180864 incremental_mapper.cc:495] => Image sees 289 / 756 points\n",
      "I20240827 17:53:32.188474 180864 incremental_mapper.cc:535] => Could not register, trying another image.\n",
      "I20240827 17:53:32.188481 180864 misc.cc:198] \n",
      "==============================================================================\n",
      "Registering image #8 (3)\n",
      "==============================================================================\n",
      "I20240827 17:53:32.188486 180864 incremental_mapper.cc:495] => Image sees 229 / 644 points\n",
      "I20240827 17:53:32.188547 180864 incremental_mapper.cc:535] => Could not register, trying another image.\n",
      "I20240827 17:53:32.188555 180864 misc.cc:198] \n",
      "==============================================================================\n",
      "Registering image #7 (3)\n",
      "==============================================================================\n",
      "I20240827 17:53:32.188558 180864 incremental_mapper.cc:495] => Image sees 224 / 605 points\n",
      "I20240827 17:53:32.188619 180864 incremental_mapper.cc:535] => Could not register, trying another image.\n",
      "I20240827 17:53:32.188627 180864 misc.cc:198] \n",
      "==============================================================================\n",
      "Registering image #9 (3)\n",
      "==============================================================================\n",
      "I20240827 17:53:32.188630 180864 incremental_mapper.cc:495] => Image sees 192 / 575 points\n",
      "I20240827 17:53:32.188688 180864 incremental_mapper.cc:535] => Could not register, trying another image.\n",
      "I20240827 17:53:32.188975 180864 misc.cc:198] \n",
      "==============================================================================\n",
      "Finding good initial image pair\n",
      "==============================================================================\n",
      "I20240827 17:53:32.261662 180864 misc.cc:198] \n",
      "==============================================================================\n",
      "Initializing with image pair #9 and #12\n",
      "==============================================================================\n",
      "I20240827 17:53:32.262549 180864 misc.cc:198] \n",
      "==============================================================================\n",
      "Global bundle adjustment\n",
      "==============================================================================\n",
      "I20240827 17:53:32.355286 180864 misc.cc:205] \n",
      "Bundle adjustment report\n",
      "------------------------\n",
      "I20240827 17:53:32.355321 180864 bundle_adjustment.cc:942] \n",
      "    Residuals : 1032\n",
      "   Parameters : 781\n",
      "   Iterations : 101\n",
      "         Time : 0.0922968 [s]\n",
      " Initial cost : 0.591124 [px]\n",
      "   Final cost : 0.399235 [px]\n",
      "  Termination : No convergence\n",
      "\n",
      "I20240827 17:53:32.355563 180864 incremental_mapper.cc:160] => Filtered observations: 0\n",
      "I20240827 17:53:32.355573 180864 incremental_mapper.cc:167] => Filtered images: 0\n",
      "I20240827 17:53:32.367136 180864 misc.cc:198] \n",
      "==============================================================================\n",
      "Registering image #8 (3)\n",
      "==============================================================================\n",
      "I20240827 17:53:32.367158 180864 incremental_mapper.cc:495] => Image sees 197 / 644 points\n",
      "I20240827 17:53:32.367224 180864 incremental_mapper.cc:535] => Could not register, trying another image.\n",
      "I20240827 17:53:32.367233 180864 misc.cc:198] \n",
      "==============================================================================\n",
      "Registering image #6 (3)\n",
      "==============================================================================\n",
      "I20240827 17:53:32.367237 180864 incremental_mapper.cc:495] => Image sees 177 / 731 points\n",
      "I20240827 17:53:32.367298 180864 incremental_mapper.cc:535] => Could not register, trying another image.\n",
      "I20240827 17:53:32.367305 180864 misc.cc:198] \n",
      "==============================================================================\n",
      "Registering image #7 (3)\n",
      "==============================================================================\n",
      "I20240827 17:53:32.367311 180864 incremental_mapper.cc:495] => Image sees 178 / 605 points\n",
      "I20240827 17:53:32.367364 180864 incremental_mapper.cc:535] => Could not register, trying another image.\n",
      "I20240827 17:53:32.367390 180864 misc.cc:198] \n",
      "==============================================================================\n",
      "Registering image #11 (3)\n",
      "==============================================================================\n",
      "I20240827 17:53:32.367395 180864 incremental_mapper.cc:495] => Image sees 213 / 469 points\n",
      "I20240827 17:53:32.367452 180864 incremental_mapper.cc:535] => Could not register, trying another image.\n",
      "I20240827 17:53:32.367460 180864 misc.cc:198] \n",
      "==============================================================================\n",
      "Registering image #10 (3)\n",
      "==============================================================================\n",
      "I20240827 17:53:32.367463 180864 incremental_mapper.cc:495] => Image sees 232 / 544 points\n",
      "I20240827 17:53:32.367530 180864 incremental_mapper.cc:535] => Could not register, trying another image.\n",
      "I20240827 17:53:32.367537 180864 misc.cc:198] \n",
      "==============================================================================\n",
      "Registering image #13 (3)\n",
      "==============================================================================\n",
      "I20240827 17:53:32.367542 180864 incremental_mapper.cc:495] => Image sees 173 / 419 points\n",
      "I20240827 17:53:32.367583 180864 incremental_mapper.cc:535] => Could not register, trying another image.\n",
      "I20240827 17:53:32.367590 180864 misc.cc:198] \n",
      "==============================================================================\n",
      "Registering image #14 (3)\n",
      "==============================================================================\n",
      "I20240827 17:53:32.367595 180864 incremental_mapper.cc:495] => Image sees 155 / 403 points\n",
      "I20240827 17:53:32.367636 180864 incremental_mapper.cc:535] => Could not register, trying another image.\n",
      "I20240827 17:53:32.367643 180864 misc.cc:198] \n",
      "==============================================================================\n",
      "Registering image #15 (3)\n",
      "==============================================================================\n",
      "I20240827 17:53:32.367647 180864 incremental_mapper.cc:495] => Image sees 139 / 346 points\n",
      "I20240827 17:53:32.367686 180864 incremental_mapper.cc:535] => Could not register, trying another image.\n",
      "I20240827 17:53:32.367692 180864 misc.cc:198] \n",
      "==============================================================================\n",
      "Retriangulation\n",
      "==============================================================================\n",
      "I20240827 17:53:32.367779 180864 incremental_mapper.cc:175] => Completed observations: 0\n",
      "I20240827 17:53:32.367846 180864 incremental_mapper.cc:178] => Merged observations: 0\n",
      "I20240827 17:53:32.367853 180864 incremental_mapper.cc:105] => Retriangulated observations: 0\n",
      "I20240827 17:53:32.367867 180864 misc.cc:198] \n",
      "==============================================================================\n",
      "Global bundle adjustment\n",
      "==============================================================================\n",
      "I20240827 17:53:32.462260 180864 misc.cc:205] \n",
      "Bundle adjustment report\n",
      "------------------------\n",
      "I20240827 17:53:32.462303 180864 bundle_adjustment.cc:942] \n",
      "    Residuals : 1032\n",
      "   Parameters : 781\n",
      "   Iterations : 101\n",
      "         Time : 0.0939782 [s]\n",
      " Initial cost : 0.399235 [px]\n",
      "   Final cost : 0.372399 [px]\n",
      "  Termination : No convergence\n",
      "\n",
      "I20240827 17:53:32.462571 180864 incremental_mapper.cc:175] => Completed observations: 0\n",
      "I20240827 17:53:32.462642 180864 incremental_mapper.cc:178] => Merged observations: 0\n",
      "I20240827 17:53:32.462754 180864 incremental_mapper.cc:160] => Filtered observations: 0\n",
      "I20240827 17:53:32.462762 180864 incremental_mapper.cc:119] => Changed observations: 0.000000\n",
      "I20240827 17:53:32.462774 180864 incremental_mapper.cc:167] => Filtered images: 0\n",
      "I20240827 17:53:32.462790 180864 misc.cc:198] \n",
      "==============================================================================\n",
      "Registering image #8 (3)\n",
      "==============================================================================\n",
      "I20240827 17:53:32.462796 180864 incremental_mapper.cc:495] => Image sees 197 / 644 points\n",
      "I20240827 17:53:32.462888 180864 incremental_mapper.cc:535] => Could not register, trying another image.\n",
      "I20240827 17:53:32.462893 180864 misc.cc:198] \n",
      "==============================================================================\n",
      "Registering image #6 (3)\n",
      "==============================================================================\n",
      "I20240827 17:53:32.462921 180864 incremental_mapper.cc:495] => Image sees 177 / 731 points\n",
      "I20240827 17:53:32.462985 180864 incremental_mapper.cc:535] => Could not register, trying another image.\n",
      "I20240827 17:53:32.462990 180864 misc.cc:198] \n",
      "==============================================================================\n",
      "Registering image #7 (3)\n",
      "==============================================================================\n",
      "I20240827 17:53:32.462996 180864 incremental_mapper.cc:495] => Image sees 178 / 605 points\n",
      "I20240827 17:53:32.463050 180864 incremental_mapper.cc:535] => Could not register, trying another image.\n",
      "I20240827 17:53:32.463055 180864 misc.cc:198] \n",
      "==============================================================================\n",
      "Registering image #11 (3)\n",
      "==============================================================================\n",
      "I20240827 17:53:32.463059 180864 incremental_mapper.cc:495] => Image sees 213 / 469 points\n",
      "I20240827 17:53:32.463114 180864 incremental_mapper.cc:535] => Could not register, trying another image.\n",
      "I20240827 17:53:32.463119 180864 misc.cc:198] \n",
      "==============================================================================\n",
      "Registering image #10 (3)\n",
      "==============================================================================\n",
      "I20240827 17:53:32.463124 180864 incremental_mapper.cc:495] => Image sees 232 / 544 points\n",
      "I20240827 17:53:32.463186 180864 incremental_mapper.cc:535] => Could not register, trying another image.\n",
      "I20240827 17:53:32.463194 180864 misc.cc:198] \n",
      "==============================================================================\n",
      "Registering image #13 (3)\n",
      "==============================================================================\n",
      "I20240827 17:53:32.463199 180864 incremental_mapper.cc:495] => Image sees 173 / 419 points\n",
      "I20240827 17:53:32.463241 180864 incremental_mapper.cc:535] => Could not register, trying another image.\n",
      "I20240827 17:53:32.463249 180864 misc.cc:198] \n",
      "==============================================================================\n",
      "Registering image #14 (3)\n",
      "==============================================================================\n",
      "I20240827 17:53:32.463253 180864 incremental_mapper.cc:495] => Image sees 155 / 403 points\n",
      "I20240827 17:53:32.463294 180864 incremental_mapper.cc:535] => Could not register, trying another image.\n",
      "I20240827 17:53:32.463301 180864 misc.cc:198] \n",
      "==============================================================================\n",
      "Registering image #15 (3)\n",
      "==============================================================================\n",
      "I20240827 17:53:32.463305 180864 incremental_mapper.cc:495] => Image sees 139 / 346 points\n",
      "I20240827 17:53:32.463346 180864 incremental_mapper.cc:535] => Could not register, trying another image.\n",
      "I20240827 17:53:32.463670 180864 misc.cc:198] \n",
      "==============================================================================\n",
      "Finding good initial image pair\n",
      "==============================================================================\n",
      "I20240827 17:53:32.494689 180864 misc.cc:198] \n",
      "==============================================================================\n",
      "Initializing with image pair #11 and #14\n",
      "==============================================================================\n",
      "I20240827 17:53:32.495596 180864 misc.cc:198] \n",
      "==============================================================================\n",
      "Global bundle adjustment\n",
      "==============================================================================\n",
      "I20240827 17:53:32.584479 180864 misc.cc:205] \n",
      "Bundle adjustment report\n",
      "------------------------\n",
      "I20240827 17:53:32.584525 180864 bundle_adjustment.cc:942] \n",
      "    Residuals : 980\n",
      "   Parameters : 742\n",
      "   Iterations : 101\n",
      "         Time : 0.088455 [s]\n",
      " Initial cost : 0.34946 [px]\n",
      "   Final cost : 0.270204 [px]\n",
      "  Termination : No convergence\n",
      "\n",
      "I20240827 17:53:32.584780 180864 incremental_mapper.cc:160] => Filtered observations: 0\n",
      "I20240827 17:53:32.584810 180864 incremental_mapper.cc:167] => Filtered images: 0\n",
      "I20240827 17:53:32.596479 180864 misc.cc:198] \n",
      "==============================================================================\n",
      "Registering image #8 (3)\n",
      "==============================================================================\n",
      "I20240827 17:53:32.596503 180864 incremental_mapper.cc:495] => Image sees 159 / 644 points\n",
      "I20240827 17:53:32.596565 180864 incremental_mapper.cc:535] => Could not register, trying another image.\n",
      "I20240827 17:53:32.596572 180864 misc.cc:198] \n",
      "==============================================================================\n",
      "Registering image #9 (3)\n",
      "==============================================================================\n",
      "I20240827 17:53:32.596576 180864 incremental_mapper.cc:495] => Image sees 170 / 575 points\n",
      "I20240827 17:53:32.596630 180864 incremental_mapper.cc:535] => Could not register, trying another image.\n",
      "I20240827 17:53:32.596638 180864 misc.cc:198] \n",
      "==============================================================================\n",
      "Registering image #10 (3)\n",
      "==============================================================================\n",
      "I20240827 17:53:32.596642 180864 incremental_mapper.cc:495] => Image sees 171 / 544 points\n",
      "I20240827 17:53:32.596693 180864 incremental_mapper.cc:535] => Could not register, trying another image.\n",
      "I20240827 17:53:32.596700 180864 misc.cc:198] \n",
      "==============================================================================\n",
      "Registering image #12 (3)\n",
      "==============================================================================\n",
      "I20240827 17:53:32.596704 180864 incremental_mapper.cc:495] => Image sees 204 / 473 points\n",
      "I20240827 17:53:32.596760 180864 incremental_mapper.cc:535] => Could not register, trying another image.\n",
      "I20240827 17:53:32.596766 180864 misc.cc:198] \n",
      "==============================================================================\n",
      "Registering image #13 (3)\n",
      "==============================================================================\n",
      "I20240827 17:53:32.596771 180864 incremental_mapper.cc:495] => Image sees 194 / 419 points\n",
      "I20240827 17:53:32.596822 180864 incremental_mapper.cc:535] => Could not register, trying another image.\n",
      "I20240827 17:53:32.596828 180864 misc.cc:198] \n",
      "==============================================================================\n",
      "Registering image #15 (3)\n",
      "==============================================================================\n",
      "I20240827 17:53:32.596832 180864 incremental_mapper.cc:495] => Image sees 170 / 346 points\n",
      "I20240827 17:53:32.596869 180864 incremental_mapper.cc:535] => Could not register, trying another image.\n",
      "I20240827 17:53:32.596877 180864 misc.cc:198] \n",
      "==============================================================================\n",
      "Registering image #16 (3)\n",
      "==============================================================================\n",
      "I20240827 17:53:32.596881 180864 incremental_mapper.cc:495] => Image sees 134 / 360 points\n",
      "I20240827 17:53:32.596917 180864 incremental_mapper.cc:535] => Could not register, trying another image.\n",
      "I20240827 17:53:32.596925 180864 misc.cc:198] \n",
      "==============================================================================\n",
      "Registering image #17 (3)\n",
      "==============================================================================\n",
      "I20240827 17:53:32.596930 180864 incremental_mapper.cc:495] => Image sees 118 / 334 points\n",
      "I20240827 17:53:32.596966 180864 incremental_mapper.cc:535] => Could not register, trying another image.\n",
      "I20240827 17:53:32.596972 180864 misc.cc:198] \n",
      "==============================================================================\n",
      "Retriangulation\n",
      "==============================================================================\n",
      "I20240827 17:53:32.597059 180864 incremental_mapper.cc:175] => Completed observations: 0\n",
      "I20240827 17:53:32.597123 180864 incremental_mapper.cc:178] => Merged observations: 0\n",
      "I20240827 17:53:32.597129 180864 incremental_mapper.cc:105] => Retriangulated observations: 0\n",
      "I20240827 17:53:32.597146 180864 misc.cc:198] \n",
      "==============================================================================\n",
      "Global bundle adjustment\n",
      "==============================================================================\n",
      "I20240827 17:53:32.686026 180864 misc.cc:205] \n",
      "Bundle adjustment report\n",
      "------------------------\n",
      "I20240827 17:53:32.686060 180864 bundle_adjustment.cc:942] \n",
      "    Residuals : 980\n",
      "   Parameters : 742\n",
      "   Iterations : 101\n",
      "         Time : 0.0884619 [s]\n",
      " Initial cost : 0.270204 [px]\n",
      "   Final cost : 0.260908 [px]\n",
      "  Termination : No convergence\n",
      "\n",
      "I20240827 17:53:32.686311 180864 incremental_mapper.cc:175] => Completed observations: 0\n",
      "I20240827 17:53:32.686384 180864 incremental_mapper.cc:178] => Merged observations: 0\n",
      "I20240827 17:53:32.686479 180864 incremental_mapper.cc:160] => Filtered observations: 0\n",
      "I20240827 17:53:32.686486 180864 incremental_mapper.cc:119] => Changed observations: 0.000000\n",
      "I20240827 17:53:32.686494 180864 incremental_mapper.cc:167] => Filtered images: 0\n",
      "I20240827 17:53:32.686504 180864 misc.cc:198] \n",
      "==============================================================================\n",
      "Registering image #8 (3)\n",
      "==============================================================================\n",
      "I20240827 17:53:32.686512 180864 incremental_mapper.cc:495] => Image sees 159 / 644 points\n",
      "I20240827 17:53:32.686574 180864 incremental_mapper.cc:535] => Could not register, trying another image.\n",
      "I20240827 17:53:32.686582 180864 misc.cc:198] \n",
      "==============================================================================\n",
      "Registering image #9 (3)\n",
      "==============================================================================\n",
      "I20240827 17:53:32.686586 180864 incremental_mapper.cc:495] => Image sees 170 / 575 points\n",
      "I20240827 17:53:32.686654 180864 incremental_mapper.cc:535] => Could not register, trying another image.\n",
      "I20240827 17:53:32.686661 180864 misc.cc:198] \n",
      "==============================================================================\n",
      "Registering image #10 (3)\n",
      "==============================================================================\n",
      "I20240827 17:53:32.686666 180864 incremental_mapper.cc:495] => Image sees 171 / 544 points\n",
      "I20240827 17:53:32.686717 180864 incremental_mapper.cc:535] => Could not register, trying another image.\n",
      "I20240827 17:53:32.686723 180864 misc.cc:198] \n",
      "==============================================================================\n",
      "Registering image #12 (3)\n",
      "==============================================================================\n",
      "I20240827 17:53:32.686728 180864 incremental_mapper.cc:495] => Image sees 204 / 473 points\n",
      "I20240827 17:53:32.686797 180864 incremental_mapper.cc:535] => Could not register, trying another image.\n",
      "I20240827 17:53:32.686805 180864 misc.cc:198] \n",
      "==============================================================================\n",
      "Registering image #13 (3)\n",
      "==============================================================================\n",
      "I20240827 17:53:32.686810 180864 incremental_mapper.cc:495] => Image sees 194 / 419 points\n",
      "I20240827 17:53:32.686859 180864 incremental_mapper.cc:535] => Could not register, trying another image.\n",
      "I20240827 17:53:32.686866 180864 misc.cc:198] \n",
      "==============================================================================\n",
      "Registering image #15 (3)\n",
      "==============================================================================\n",
      "I20240827 17:53:32.686872 180864 incremental_mapper.cc:495] => Image sees 170 / 346 points\n",
      "I20240827 17:53:32.686908 180864 incremental_mapper.cc:535] => Could not register, trying another image.\n",
      "I20240827 17:53:32.686915 180864 misc.cc:198] \n",
      "==============================================================================\n",
      "Registering image #16 (3)\n",
      "==============================================================================\n",
      "I20240827 17:53:32.686920 180864 incremental_mapper.cc:495] => Image sees 134 / 360 points\n",
      "I20240827 17:53:32.686955 180864 incremental_mapper.cc:535] => Could not register, trying another image.\n",
      "I20240827 17:53:32.686964 180864 misc.cc:198] \n",
      "==============================================================================\n",
      "Registering image #17 (3)\n",
      "==============================================================================\n",
      "I20240827 17:53:32.686990 180864 incremental_mapper.cc:495] => Image sees 118 / 334 points\n",
      "I20240827 17:53:32.687026 180864 incremental_mapper.cc:535] => Could not register, trying another image.\n",
      "I20240827 17:53:32.687347 180864 misc.cc:198] \n",
      "==============================================================================\n",
      "Finding good initial image pair\n",
      "==============================================================================\n",
      "I20240827 17:53:32.717046 180864 misc.cc:198] \n",
      "==============================================================================\n",
      "Initializing with image pair #13 and #14\n",
      "==============================================================================\n",
      "I20240827 17:53:32.717890 180864 misc.cc:198] \n",
      "==============================================================================\n",
      "Global bundle adjustment\n",
      "==============================================================================\n",
      "I20240827 17:53:32.818434 180864 misc.cc:205] \n",
      "Bundle adjustment report\n",
      "------------------------\n",
      "I20240827 17:53:32.818492 180864 bundle_adjustment.cc:942] \n",
      "    Residuals : 1064\n",
      "   Parameters : 805\n",
      "   Iterations : 101\n",
      "         Time : 0.100133 [s]\n",
      " Initial cost : 0.597722 [px]\n",
      "   Final cost : 0.310534 [px]\n",
      "  Termination : No convergence\n",
      "\n",
      "I20240827 17:53:32.818769 180864 incremental_mapper.cc:160] => Filtered observations: 4\n",
      "I20240827 17:53:32.818779 180864 incremental_mapper.cc:167] => Filtered images: 0\n",
      "I20240827 17:53:32.830327 180864 misc.cc:198] \n",
      "==============================================================================\n",
      "Registering image #12 (3)\n",
      "==============================================================================\n",
      "I20240827 17:53:32.830350 180864 incremental_mapper.cc:495] => Image sees 218 / 473 points\n",
      "I20240827 17:53:32.830408 180864 incremental_mapper.cc:535] => Could not register, trying another image.\n",
      "I20240827 17:53:32.830416 180864 misc.cc:198] \n",
      "==============================================================================\n",
      "Registering image #11 (3)\n",
      "==============================================================================\n",
      "I20240827 17:53:32.830420 180864 incremental_mapper.cc:495] => Image sees 203 / 469 points\n",
      "I20240827 17:53:32.830471 180864 incremental_mapper.cc:535] => Could not register, trying another image.\n",
      "I20240827 17:53:32.830478 180864 misc.cc:198] \n",
      "==============================================================================\n",
      "Registering image #10 (3)\n",
      "==============================================================================\n",
      "I20240827 17:53:32.830482 180864 incremental_mapper.cc:495] => Image sees 157 / 544 points\n",
      "I20240827 17:53:32.830530 180864 incremental_mapper.cc:535] => Could not register, trying another image.\n",
      "I20240827 17:53:32.830538 180864 misc.cc:198] \n",
      "==============================================================================\n",
      "Registering image #15 (3)\n",
      "==============================================================================\n",
      "I20240827 17:53:32.830542 180864 incremental_mapper.cc:495] => Image sees 197 / 346 points\n",
      "I20240827 17:53:32.830586 180864 incremental_mapper.cc:535] => Could not register, trying another image.\n",
      "I20240827 17:53:32.830593 180864 misc.cc:198] \n",
      "==============================================================================\n",
      "Registering image #16 (3)\n",
      "==============================================================================\n",
      "I20240827 17:53:32.830598 180864 incremental_mapper.cc:495] => Image sees 173 / 360 points\n",
      "I20240827 17:53:32.830641 180864 incremental_mapper.cc:535] => Could not register, trying another image.\n",
      "I20240827 17:53:32.830649 180864 misc.cc:198] \n",
      "==============================================================================\n",
      "Registering image #17 (3)\n",
      "==============================================================================\n",
      "I20240827 17:53:32.830653 180864 incremental_mapper.cc:495] => Image sees 133 / 334 points\n",
      "I20240827 17:53:32.830689 180864 incremental_mapper.cc:535] => Could not register, trying another image.\n",
      "I20240827 17:53:32.830698 180864 misc.cc:198] \n",
      "==============================================================================\n",
      "Retriangulation\n",
      "==============================================================================\n",
      "I20240827 17:53:32.830816 180864 incremental_mapper.cc:175] => Completed observations: 0\n",
      "I20240827 17:53:32.830889 180864 incremental_mapper.cc:178] => Merged observations: 0\n",
      "I20240827 17:53:32.830895 180864 incremental_mapper.cc:105] => Retriangulated observations: 0\n",
      "I20240827 17:53:32.830910 180864 misc.cc:198] \n",
      "==============================================================================\n",
      "Global bundle adjustment\n",
      "==============================================================================\n",
      "I20240827 17:53:32.926972 180864 misc.cc:205] \n",
      "Bundle adjustment report\n",
      "------------------------\n",
      "I20240827 17:53:32.927011 180864 bundle_adjustment.cc:942] \n",
      "    Residuals : 1056\n",
      "   Parameters : 799\n",
      "   Iterations : 101\n",
      "         Time : 0.095655 [s]\n",
      " Initial cost : 0.257049 [px]\n",
      "   Final cost : 0.24731 [px]\n",
      "  Termination : No convergence\n",
      "\n",
      "I20240827 17:53:32.927273 180864 incremental_mapper.cc:175] => Completed observations: 0\n",
      "I20240827 17:53:32.927347 180864 incremental_mapper.cc:178] => Merged observations: 0\n",
      "I20240827 17:53:32.927441 180864 incremental_mapper.cc:160] => Filtered observations: 0\n",
      "I20240827 17:53:32.927448 180864 incremental_mapper.cc:119] => Changed observations: 0.000000\n",
      "I20240827 17:53:32.927455 180864 incremental_mapper.cc:167] => Filtered images: 0\n",
      "I20240827 17:53:32.927465 180864 misc.cc:198] \n",
      "==============================================================================\n",
      "Registering image #12 (3)\n",
      "==============================================================================\n",
      "I20240827 17:53:32.927472 180864 incremental_mapper.cc:495] => Image sees 218 / 473 points\n",
      "I20240827 17:53:32.927528 180864 incremental_mapper.cc:535] => Could not register, trying another image.\n",
      "I20240827 17:53:32.927536 180864 misc.cc:198] \n",
      "==============================================================================\n",
      "Registering image #11 (3)\n",
      "==============================================================================\n",
      "I20240827 17:53:32.927541 180864 incremental_mapper.cc:495] => Image sees 203 / 469 points\n",
      "I20240827 17:53:32.927590 180864 incremental_mapper.cc:535] => Could not register, trying another image.\n",
      "I20240827 17:53:32.927598 180864 misc.cc:198] \n",
      "==============================================================================\n",
      "Registering image #10 (3)\n",
      "==============================================================================\n",
      "I20240827 17:53:32.927603 180864 incremental_mapper.cc:495] => Image sees 157 / 544 points\n",
      "I20240827 17:53:32.927650 180864 incremental_mapper.cc:535] => Could not register, trying another image.\n",
      "I20240827 17:53:32.927657 180864 misc.cc:198] \n",
      "==============================================================================\n",
      "Registering image #15 (3)\n",
      "==============================================================================\n",
      "I20240827 17:53:32.927661 180864 incremental_mapper.cc:495] => Image sees 197 / 346 points\n",
      "I20240827 17:53:32.927706 180864 incremental_mapper.cc:535] => Could not register, trying another image.\n",
      "I20240827 17:53:32.927713 180864 misc.cc:198] \n",
      "==============================================================================\n",
      "Registering image #16 (3)\n",
      "==============================================================================\n",
      "I20240827 17:53:32.927717 180864 incremental_mapper.cc:495] => Image sees 173 / 360 points\n",
      "I20240827 17:53:32.927760 180864 incremental_mapper.cc:535] => Could not register, trying another image.\n",
      "I20240827 17:53:32.927768 180864 misc.cc:198] \n",
      "==============================================================================\n",
      "Registering image #17 (3)\n",
      "==============================================================================\n",
      "I20240827 17:53:32.927772 180864 incremental_mapper.cc:495] => Image sees 133 / 334 points\n",
      "I20240827 17:53:32.927809 180864 incremental_mapper.cc:535] => Could not register, trying another image.\n",
      "I20240827 17:53:32.928120 180864 misc.cc:198] \n",
      "==============================================================================\n",
      "Finding good initial image pair\n",
      "==============================================================================\n",
      "I20240827 17:53:32.934327 180864 misc.cc:198] \n",
      "==============================================================================\n",
      "Initializing with image pair #13 and #15\n",
      "==============================================================================\n",
      "I20240827 17:53:32.935106 180864 misc.cc:198] \n",
      "==============================================================================\n",
      "Global bundle adjustment\n",
      "==============================================================================\n",
      "I20240827 17:53:33.014668 180864 misc.cc:205] \n",
      "Bundle adjustment report\n",
      "------------------------\n",
      "I20240827 17:53:33.014717 180864 bundle_adjustment.cc:942] \n",
      "    Residuals : 848\n",
      "   Parameters : 643\n",
      "   Iterations : 101\n",
      "         Time : 0.079195 [s]\n",
      " Initial cost : 0.260883 [px]\n",
      "   Final cost : 0.247366 [px]\n",
      "  Termination : No convergence\n",
      "\n",
      "I20240827 17:53:33.014952 180864 incremental_mapper.cc:160] => Filtered observations: 0\n",
      "I20240827 17:53:33.014962 180864 incremental_mapper.cc:167] => Filtered images: 0\n",
      "I20240827 17:53:33.026614 180864 misc.cc:198] \n",
      "==============================================================================\n",
      "Registering image #10 (3)\n",
      "==============================================================================\n",
      "I20240827 17:53:33.026638 180864 incremental_mapper.cc:495] => Image sees 137 / 544 points\n",
      "I20240827 17:53:33.026690 180864 incremental_mapper.cc:535] => Could not register, trying another image.\n",
      "I20240827 17:53:33.026698 180864 misc.cc:198] \n",
      "==============================================================================\n",
      "Registering image #12 (3)\n",
      "==============================================================================\n",
      "I20240827 17:53:33.026703 180864 incremental_mapper.cc:495] => Image sees 189 / 473 points\n",
      "I20240827 17:53:33.026767 180864 incremental_mapper.cc:535] => Could not register, trying another image.\n",
      "I20240827 17:53:33.026774 180864 misc.cc:198] \n",
      "==============================================================================\n",
      "Registering image #11 (3)\n",
      "==============================================================================\n",
      "I20240827 17:53:33.026779 180864 incremental_mapper.cc:495] => Image sees 146 / 469 points\n",
      "I20240827 17:53:33.026821 180864 incremental_mapper.cc:535] => Could not register, trying another image.\n",
      "I20240827 17:53:33.026826 180864 misc.cc:198] \n",
      "==============================================================================\n",
      "Registering image #14 (3)\n",
      "==============================================================================\n",
      "I20240827 17:53:33.026830 180864 incremental_mapper.cc:495] => Image sees 181 / 403 points\n",
      "I20240827 17:53:33.026878 180864 incremental_mapper.cc:535] => Could not register, trying another image.\n",
      "I20240827 17:53:33.026886 180864 misc.cc:198] \n",
      "==============================================================================\n",
      "Registering image #16 (3)\n",
      "==============================================================================\n",
      "I20240827 17:53:33.026891 180864 incremental_mapper.cc:495] => Image sees 174 / 360 points\n",
      "I20240827 17:53:33.026958 180864 incremental_mapper.cc:535] => Could not register, trying another image.\n",
      "I20240827 17:53:33.026965 180864 misc.cc:198] \n",
      "==============================================================================\n",
      "Registering image #17 (3)\n",
      "==============================================================================\n",
      "I20240827 17:53:33.026969 180864 incremental_mapper.cc:495] => Image sees 133 / 334 points\n",
      "I20240827 17:53:33.027004 180864 incremental_mapper.cc:535] => Could not register, trying another image.\n",
      "I20240827 17:53:33.027011 180864 misc.cc:198] \n",
      "==============================================================================\n",
      "Registering image #18 (3)\n",
      "==============================================================================\n",
      "I20240827 17:53:33.027016 180864 incremental_mapper.cc:495] => Image sees 113 / 277 points\n",
      "I20240827 17:53:33.027047 180864 incremental_mapper.cc:535] => Could not register, trying another image.\n",
      "I20240827 17:53:33.027076 180864 misc.cc:198] \n",
      "==============================================================================\n",
      "Retriangulation\n",
      "==============================================================================\n",
      "I20240827 17:53:33.027155 180864 incremental_mapper.cc:175] => Completed observations: 0\n",
      "I20240827 17:53:33.027216 180864 incremental_mapper.cc:178] => Merged observations: 0\n",
      "I20240827 17:53:33.027222 180864 incremental_mapper.cc:105] => Retriangulated observations: 0\n",
      "I20240827 17:53:33.027237 180864 misc.cc:198] \n",
      "==============================================================================\n",
      "Global bundle adjustment\n",
      "==============================================================================\n",
      "I20240827 17:53:33.104836 180864 misc.cc:205] \n",
      "Bundle adjustment report\n",
      "------------------------\n",
      "I20240827 17:53:33.104873 180864 bundle_adjustment.cc:942] \n",
      "    Residuals : 848\n",
      "   Parameters : 643\n",
      "   Iterations : 101\n",
      "         Time : 0.077255 [s]\n",
      " Initial cost : 0.247366 [px]\n",
      "   Final cost : 0.247158 [px]\n",
      "  Termination : No convergence\n",
      "\n",
      "I20240827 17:53:33.105084 180864 incremental_mapper.cc:175] => Completed observations: 0\n",
      "I20240827 17:53:33.105149 180864 incremental_mapper.cc:178] => Merged observations: 0\n",
      "I20240827 17:53:33.105227 180864 incremental_mapper.cc:160] => Filtered observations: 0\n",
      "I20240827 17:53:33.105234 180864 incremental_mapper.cc:119] => Changed observations: 0.000000\n",
      "I20240827 17:53:33.105242 180864 incremental_mapper.cc:167] => Filtered images: 0\n",
      "I20240827 17:53:33.105252 180864 misc.cc:198] \n",
      "==============================================================================\n",
      "Registering image #10 (3)\n",
      "==============================================================================\n",
      "I20240827 17:53:33.105259 180864 incremental_mapper.cc:495] => Image sees 137 / 544 points\n",
      "I20240827 17:53:33.105310 180864 incremental_mapper.cc:535] => Could not register, trying another image.\n",
      "I20240827 17:53:33.105319 180864 misc.cc:198] \n",
      "==============================================================================\n",
      "Registering image #12 (3)\n",
      "==============================================================================\n",
      "I20240827 17:53:33.105322 180864 incremental_mapper.cc:495] => Image sees 189 / 473 points\n",
      "I20240827 17:53:33.105376 180864 incremental_mapper.cc:535] => Could not register, trying another image.\n",
      "I20240827 17:53:33.105382 180864 misc.cc:198] \n",
      "==============================================================================\n",
      "Registering image #11 (3)\n",
      "==============================================================================\n",
      "I20240827 17:53:33.105387 180864 incremental_mapper.cc:495] => Image sees 146 / 469 points\n",
      "I20240827 17:53:33.105429 180864 incremental_mapper.cc:535] => Could not register, trying another image.\n",
      "I20240827 17:53:33.105437 180864 misc.cc:198] \n",
      "==============================================================================\n",
      "Registering image #14 (3)\n",
      "==============================================================================\n",
      "I20240827 17:53:33.105440 180864 incremental_mapper.cc:495] => Image sees 181 / 403 points\n",
      "I20240827 17:53:33.105489 180864 incremental_mapper.cc:535] => Could not register, trying another image.\n",
      "I20240827 17:53:33.105495 180864 misc.cc:198] \n",
      "==============================================================================\n",
      "Registering image #16 (3)\n",
      "==============================================================================\n",
      "I20240827 17:53:33.105500 180864 incremental_mapper.cc:495] => Image sees 174 / 360 points\n",
      "I20240827 17:53:33.105544 180864 incremental_mapper.cc:535] => Could not register, trying another image.\n",
      "I20240827 17:53:33.105552 180864 misc.cc:198] \n",
      "==============================================================================\n",
      "Registering image #17 (3)\n",
      "==============================================================================\n",
      "I20240827 17:53:33.105556 180864 incremental_mapper.cc:495] => Image sees 133 / 334 points\n",
      "I20240827 17:53:33.105590 180864 incremental_mapper.cc:535] => Could not register, trying another image.\n",
      "I20240827 17:53:33.105597 180864 misc.cc:198] \n",
      "==============================================================================\n",
      "Registering image #18 (3)\n",
      "==============================================================================\n",
      "I20240827 17:53:33.105623 180864 incremental_mapper.cc:495] => Image sees 113 / 277 points\n",
      "I20240827 17:53:33.105654 180864 incremental_mapper.cc:535] => Could not register, trying another image.\n",
      "I20240827 17:53:33.105965 180864 misc.cc:198] \n",
      "==============================================================================\n",
      "Finding good initial image pair\n",
      "==============================================================================\n",
      "I20240827 17:53:33.117311 180864 misc.cc:198] \n",
      "==============================================================================\n",
      "Initializing with image pair #15 and #16\n",
      "==============================================================================\n",
      "I20240827 17:53:33.118012 180864 misc.cc:198] \n",
      "==============================================================================\n",
      "Global bundle adjustment\n",
      "==============================================================================\n",
      "I20240827 17:53:33.199496 180864 misc.cc:205] \n",
      "Bundle adjustment report\n",
      "------------------------\n",
      "I20240827 17:53:33.199535 180864 bundle_adjustment.cc:942] \n",
      "    Residuals : 900\n",
      "   Parameters : 682\n",
      "   Iterations : 101\n",
      "         Time : 0.08112 [s]\n",
      " Initial cost : 0.209921 [px]\n",
      "   Final cost : 0.193192 [px]\n",
      "  Termination : No convergence\n",
      "\n",
      "I20240827 17:53:33.199779 180864 incremental_mapper.cc:160] => Filtered observations: 0\n",
      "I20240827 17:53:33.199786 180864 incremental_mapper.cc:167] => Filtered images: 0\n",
      "I20240827 17:53:33.211267 180864 misc.cc:198] \n",
      "==============================================================================\n",
      "Registering image #12 (3)\n",
      "==============================================================================\n",
      "I20240827 17:53:33.211294 180864 incremental_mapper.cc:495] => Image sees 156 / 473 points\n",
      "I20240827 17:53:33.211342 180864 incremental_mapper.cc:535] => Could not register, trying another image.\n",
      "I20240827 17:53:33.211350 180864 misc.cc:198] \n",
      "==============================================================================\n",
      "Registering image #14 (3)\n",
      "==============================================================================\n",
      "I20240827 17:53:33.211354 180864 incremental_mapper.cc:495] => Image sees 192 / 403 points\n",
      "I20240827 17:53:33.211402 180864 incremental_mapper.cc:535] => Could not register, trying another image.\n",
      "I20240827 17:53:33.211409 180864 misc.cc:198] \n",
      "==============================================================================\n",
      "Registering image #13 (3)\n",
      "==============================================================================\n",
      "I20240827 17:53:33.211414 180864 incremental_mapper.cc:495] => Image sees 186 / 419 points\n",
      "I20240827 17:53:33.211460 180864 incremental_mapper.cc:535] => Could not register, trying another image.\n",
      "I20240827 17:53:33.211467 180864 misc.cc:198] \n",
      "==============================================================================\n",
      "Registering image #17 (3)\n",
      "==============================================================================\n",
      "I20240827 17:53:33.211472 180864 incremental_mapper.cc:495] => Image sees 171 / 334 points\n",
      "I20240827 17:53:33.211514 180864 incremental_mapper.cc:535] => Could not register, trying another image.\n",
      "I20240827 17:53:33.211521 180864 misc.cc:198] \n",
      "==============================================================================\n",
      "Registering image #18 (3)\n",
      "==============================================================================\n",
      "I20240827 17:53:33.211525 180864 incremental_mapper.cc:495] => Image sees 145 / 277 points\n",
      "I20240827 17:53:33.211561 180864 incremental_mapper.cc:535] => Could not register, trying another image.\n",
      "I20240827 17:53:33.211568 180864 misc.cc:198] \n",
      "==============================================================================\n",
      "Registering image #19 (3)\n",
      "==============================================================================\n",
      "I20240827 17:53:33.211572 180864 incremental_mapper.cc:495] => Image sees 90 / 244 points\n",
      "I20240827 17:53:33.211601 180864 incremental_mapper.cc:535] => Could not register, trying another image.\n",
      "I20240827 17:53:33.211629 180864 misc.cc:198] \n",
      "==============================================================================\n",
      "Retriangulation\n",
      "==============================================================================\n",
      "I20240827 17:53:33.211714 180864 incremental_mapper.cc:175] => Completed observations: 0\n",
      "I20240827 17:53:33.211779 180864 incremental_mapper.cc:178] => Merged observations: 0\n",
      "I20240827 17:53:33.211786 180864 incremental_mapper.cc:105] => Retriangulated observations: 0\n",
      "I20240827 17:53:33.211802 180864 misc.cc:198] \n",
      "==============================================================================\n",
      "Global bundle adjustment\n",
      "==============================================================================\n",
      "I20240827 17:53:33.294142 180864 misc.cc:205] \n",
      "Bundle adjustment report\n",
      "------------------------\n",
      "I20240827 17:53:33.294189 180864 bundle_adjustment.cc:942] \n",
      "    Residuals : 900\n",
      "   Parameters : 682\n",
      "   Iterations : 101\n",
      "         Time : 0.0819621 [s]\n",
      " Initial cost : 0.193192 [px]\n",
      "   Final cost : 0.192763 [px]\n",
      "  Termination : No convergence\n",
      "\n",
      "I20240827 17:53:33.294442 180864 incremental_mapper.cc:175] => Completed observations: 0\n",
      "I20240827 17:53:33.294512 180864 incremental_mapper.cc:178] => Merged observations: 0\n",
      "I20240827 17:53:33.294602 180864 incremental_mapper.cc:160] => Filtered observations: 0\n",
      "I20240827 17:53:33.294610 180864 incremental_mapper.cc:119] => Changed observations: 0.000000\n",
      "I20240827 17:53:33.294617 180864 incremental_mapper.cc:167] => Filtered images: 0\n",
      "I20240827 17:53:33.294629 180864 misc.cc:198] \n",
      "==============================================================================\n",
      "Registering image #12 (3)\n",
      "==============================================================================\n",
      "I20240827 17:53:33.294636 180864 incremental_mapper.cc:495] => Image sees 156 / 473 points\n",
      "I20240827 17:53:33.294687 180864 incremental_mapper.cc:535] => Could not register, trying another image.\n",
      "I20240827 17:53:33.294694 180864 misc.cc:198] \n",
      "==============================================================================\n",
      "Registering image #14 (3)\n",
      "==============================================================================\n",
      "I20240827 17:53:33.294699 180864 incremental_mapper.cc:495] => Image sees 192 / 403 points\n",
      "I20240827 17:53:33.294770 180864 incremental_mapper.cc:535] => Could not register, trying another image.\n",
      "I20240827 17:53:33.294778 180864 misc.cc:198] \n",
      "==============================================================================\n",
      "Registering image #13 (3)\n",
      "==============================================================================\n",
      "I20240827 17:53:33.294783 180864 incremental_mapper.cc:495] => Image sees 186 / 419 points\n",
      "I20240827 17:53:33.294831 180864 incremental_mapper.cc:535] => Could not register, trying another image.\n",
      "I20240827 17:53:33.294838 180864 misc.cc:198] \n",
      "==============================================================================\n",
      "Registering image #17 (3)\n",
      "==============================================================================\n",
      "I20240827 17:53:33.294843 180864 incremental_mapper.cc:495] => Image sees 171 / 334 points\n",
      "I20240827 17:53:33.294885 180864 incremental_mapper.cc:535] => Could not register, trying another image.\n",
      "I20240827 17:53:33.294893 180864 misc.cc:198] \n",
      "==============================================================================\n",
      "Registering image #18 (3)\n",
      "==============================================================================\n",
      "I20240827 17:53:33.294898 180864 incremental_mapper.cc:495] => Image sees 145 / 277 points\n",
      "I20240827 17:53:33.294934 180864 incremental_mapper.cc:535] => Could not register, trying another image.\n",
      "I20240827 17:53:33.294941 180864 misc.cc:198] \n",
      "==============================================================================\n",
      "Registering image #19 (3)\n",
      "==============================================================================\n",
      "I20240827 17:53:33.294946 180864 incremental_mapper.cc:495] => Image sees 90 / 244 points\n",
      "I20240827 17:53:33.294974 180864 incremental_mapper.cc:535] => Could not register, trying another image.\n",
      "I20240827 17:53:33.295321 180864 misc.cc:198] \n",
      "==============================================================================\n",
      "Finding good initial image pair\n",
      "==============================================================================\n",
      "I20240827 17:53:33.301292 180864 misc.cc:198] \n",
      "==============================================================================\n",
      "Initializing with image pair #16 and #17\n",
      "==============================================================================\n",
      "I20240827 17:53:33.301950 180864 misc.cc:198] \n",
      "==============================================================================\n",
      "Global bundle adjustment\n",
      "==============================================================================\n",
      "I20240827 17:53:33.376622 180864 misc.cc:205] \n",
      "Bundle adjustment report\n",
      "------------------------\n",
      "I20240827 17:53:33.376662 180864 bundle_adjustment.cc:942] \n",
      "    Residuals : 860\n",
      "   Parameters : 652\n",
      "   Iterations : 101\n",
      "         Time : 0.0743091 [s]\n",
      " Initial cost : 0.314614 [px]\n",
      "   Final cost : 0.206528 [px]\n",
      "  Termination : No convergence\n",
      "\n",
      "I20240827 17:53:33.376899 180864 incremental_mapper.cc:160] => Filtered observations: 0\n",
      "I20240827 17:53:33.376909 180864 incremental_mapper.cc:167] => Filtered images: 0\n",
      "I20240827 17:53:33.388229 180864 misc.cc:198] \n",
      "==============================================================================\n",
      "Registering image #14 (3)\n",
      "==============================================================================\n",
      "I20240827 17:53:33.388255 180864 incremental_mapper.cc:495] => Image sees 155 / 403 points\n",
      "I20240827 17:53:33.388304 180864 incremental_mapper.cc:535] => Could not register, trying another image.\n",
      "I20240827 17:53:33.388312 180864 misc.cc:198] \n",
      "==============================================================================\n",
      "Registering image #13 (3)\n",
      "==============================================================================\n",
      "I20240827 17:53:33.388317 180864 incremental_mapper.cc:495] => Image sees 137 / 419 points\n",
      "I20240827 17:53:33.388357 180864 incremental_mapper.cc:535] => Could not register, trying another image.\n",
      "I20240827 17:53:33.388365 180864 misc.cc:198] \n",
      "==============================================================================\n",
      "Registering image #15 (3)\n",
      "==============================================================================\n",
      "I20240827 17:53:33.388368 180864 incremental_mapper.cc:495] => Image sees 167 / 346 points\n",
      "I20240827 17:53:33.388410 180864 incremental_mapper.cc:535] => Could not register, trying another image.\n",
      "I20240827 17:53:33.388417 180864 misc.cc:198] \n",
      "==============================================================================\n",
      "Registering image #18 (3)\n",
      "==============================================================================\n",
      "I20240827 17:53:33.388422 180864 incremental_mapper.cc:495] => Image sees 164 / 277 points\n",
      "I20240827 17:53:33.388458 180864 incremental_mapper.cc:535] => Could not register, trying another image.\n",
      "I20240827 17:53:33.388466 180864 misc.cc:198] \n",
      "==============================================================================\n",
      "Registering image #20 (3)\n",
      "==============================================================================\n",
      "I20240827 17:53:33.388470 180864 incremental_mapper.cc:495] => Image sees 99 / 274 points\n",
      "I20240827 17:53:33.388500 180864 incremental_mapper.cc:535] => Could not register, trying another image.\n",
      "I20240827 17:53:33.388507 180864 misc.cc:198] \n",
      "==============================================================================\n",
      "Registering image #19 (3)\n",
      "==============================================================================\n",
      "I20240827 17:53:33.388512 180864 incremental_mapper.cc:495] => Image sees 122 / 244 points\n",
      "I20240827 17:53:33.388548 180864 incremental_mapper.cc:535] => Could not register, trying another image.\n",
      "I20240827 17:53:33.388556 180864 misc.cc:198] \n",
      "==============================================================================\n",
      "Retriangulation\n",
      "==============================================================================\n",
      "I20240827 17:53:33.388631 180864 incremental_mapper.cc:175] => Completed observations: 0\n",
      "I20240827 17:53:33.388716 180864 incremental_mapper.cc:178] => Merged observations: 0\n",
      "I20240827 17:53:33.388723 180864 incremental_mapper.cc:105] => Retriangulated observations: 0\n",
      "I20240827 17:53:33.388739 180864 misc.cc:198] \n",
      "==============================================================================\n",
      "Global bundle adjustment\n",
      "==============================================================================\n",
      "I20240827 17:53:33.467816 180864 misc.cc:205] \n",
      "Bundle adjustment report\n",
      "------------------------\n",
      "I20240827 17:53:33.467854 180864 bundle_adjustment.cc:942] \n",
      "    Residuals : 860\n",
      "   Parameters : 652\n",
      "   Iterations : 101\n",
      "         Time : 0.078727 [s]\n",
      " Initial cost : 0.206528 [px]\n",
      "   Final cost : 0.20545 [px]\n",
      "  Termination : No convergence\n",
      "\n",
      "I20240827 17:53:33.468067 180864 incremental_mapper.cc:175] => Completed observations: 0\n",
      "I20240827 17:53:33.468127 180864 incremental_mapper.cc:178] => Merged observations: 0\n",
      "I20240827 17:53:33.468209 180864 incremental_mapper.cc:160] => Filtered observations: 0\n",
      "I20240827 17:53:33.468214 180864 incremental_mapper.cc:119] => Changed observations: 0.000000\n",
      "I20240827 17:53:33.468221 180864 incremental_mapper.cc:167] => Filtered images: 0\n",
      "I20240827 17:53:33.468231 180864 misc.cc:198] \n",
      "==============================================================================\n",
      "Registering image #14 (3)\n",
      "==============================================================================\n",
      "I20240827 17:53:33.468238 180864 incremental_mapper.cc:495] => Image sees 155 / 403 points\n",
      "I20240827 17:53:33.468283 180864 incremental_mapper.cc:535] => Could not register, trying another image.\n",
      "I20240827 17:53:33.468291 180864 misc.cc:198] \n",
      "==============================================================================\n",
      "Registering image #13 (3)\n",
      "==============================================================================\n",
      "I20240827 17:53:33.468295 180864 incremental_mapper.cc:495] => Image sees 137 / 419 points\n",
      "I20240827 17:53:33.468336 180864 incremental_mapper.cc:535] => Could not register, trying another image.\n",
      "I20240827 17:53:33.468343 180864 misc.cc:198] \n",
      "==============================================================================\n",
      "Registering image #15 (3)\n",
      "==============================================================================\n",
      "I20240827 17:53:33.468348 180864 incremental_mapper.cc:495] => Image sees 167 / 346 points\n",
      "I20240827 17:53:33.468389 180864 incremental_mapper.cc:535] => Could not register, trying another image.\n",
      "I20240827 17:53:33.468396 180864 misc.cc:198] \n",
      "==============================================================================\n",
      "Registering image #18 (3)\n",
      "==============================================================================\n",
      "I20240827 17:53:33.468400 180864 incremental_mapper.cc:495] => Image sees 164 / 277 points\n",
      "I20240827 17:53:33.468437 180864 incremental_mapper.cc:535] => Could not register, trying another image.\n",
      "I20240827 17:53:33.468444 180864 misc.cc:198] \n",
      "==============================================================================\n",
      "Registering image #20 (3)\n",
      "==============================================================================\n",
      "I20240827 17:53:33.468448 180864 incremental_mapper.cc:495] => Image sees 99 / 274 points\n",
      "I20240827 17:53:33.468479 180864 incremental_mapper.cc:535] => Could not register, trying another image.\n",
      "I20240827 17:53:33.468487 180864 misc.cc:198] \n",
      "==============================================================================\n",
      "Registering image #19 (3)\n",
      "==============================================================================\n",
      "I20240827 17:53:33.468492 180864 incremental_mapper.cc:495] => Image sees 122 / 244 points\n",
      "I20240827 17:53:33.468523 180864 incremental_mapper.cc:535] => Could not register, trying another image.\n",
      "I20240827 17:53:33.468835 180864 misc.cc:198] \n",
      "==============================================================================\n",
      "Finding good initial image pair\n",
      "==============================================================================\n",
      "I20240827 17:53:33.474774 180864 misc.cc:198] \n",
      "==============================================================================\n",
      "Initializing with image pair #17 and #18\n",
      "==============================================================================\n",
      "I20240827 17:53:33.475484 180864 misc.cc:198] \n",
      "==============================================================================\n",
      "Global bundle adjustment\n",
      "==============================================================================\n",
      "I20240827 17:53:33.545017 180864 misc.cc:205] \n",
      "Bundle adjustment report\n",
      "------------------------\n",
      "I20240827 17:53:33.545058 180864 bundle_adjustment.cc:942] \n",
      "    Residuals : 768\n",
      "   Parameters : 583\n",
      "   Iterations : 101\n",
      "         Time : 0.0692 [s]\n",
      " Initial cost : 0.230548 [px]\n",
      "   Final cost : 0.168319 [px]\n",
      "  Termination : No convergence\n",
      "\n",
      "I20240827 17:53:33.545279 180864 incremental_mapper.cc:160] => Filtered observations: 0\n",
      "I20240827 17:53:33.545289 180864 incremental_mapper.cc:167] => Filtered images: 0\n",
      "I20240827 17:53:33.556753 180864 misc.cc:198] \n",
      "==============================================================================\n",
      "Registering image #14 (3)\n",
      "==============================================================================\n",
      "I20240827 17:53:33.556782 180864 incremental_mapper.cc:495] => Image sees 119 / 403 points\n",
      "I20240827 17:53:33.556823 180864 incremental_mapper.cc:535] => Could not register, trying another image.\n",
      "I20240827 17:53:33.556830 180864 misc.cc:198] \n",
      "==============================================================================\n",
      "Registering image #15 (3)\n",
      "==============================================================================\n",
      "I20240827 17:53:33.556835 180864 incremental_mapper.cc:495] => Image sees 148 / 346 points\n",
      "I20240827 17:53:33.556876 180864 incremental_mapper.cc:535] => Could not register, trying another image.\n",
      "I20240827 17:53:33.556885 180864 misc.cc:198] \n",
      "==============================================================================\n",
      "Registering image #16 (3)\n",
      "==============================================================================\n",
      "I20240827 17:53:33.556888 180864 incremental_mapper.cc:495] => Image sees 162 / 360 points\n",
      "I20240827 17:53:33.556931 180864 incremental_mapper.cc:535] => Could not register, trying another image.\n",
      "I20240827 17:53:33.556937 180864 misc.cc:198] \n",
      "==============================================================================\n",
      "Registering image #19 (3)\n",
      "==============================================================================\n",
      "I20240827 17:53:33.556941 180864 incremental_mapper.cc:495] => Image sees 138 / 244 points\n",
      "I20240827 17:53:33.556974 180864 incremental_mapper.cc:535] => Could not register, trying another image.\n",
      "I20240827 17:53:33.556982 180864 misc.cc:198] \n",
      "==============================================================================\n",
      "Registering image #20 (3)\n",
      "==============================================================================\n",
      "I20240827 17:53:33.556986 180864 incremental_mapper.cc:495] => Image sees 136 / 274 points\n",
      "I20240827 17:53:33.557022 180864 incremental_mapper.cc:535] => Could not register, trying another image.\n",
      "I20240827 17:53:33.557029 180864 misc.cc:198] \n",
      "==============================================================================\n",
      "Registering image #21 (3)\n",
      "==============================================================================\n",
      "I20240827 17:53:33.557034 180864 incremental_mapper.cc:495] => Image sees 107 / 257 points\n",
      "I20240827 17:53:33.557063 180864 incremental_mapper.cc:535] => Could not register, trying another image.\n",
      "I20240827 17:53:33.557070 180864 misc.cc:198] \n",
      "==============================================================================\n",
      "Retriangulation\n",
      "==============================================================================\n",
      "I20240827 17:53:33.557147 180864 incremental_mapper.cc:175] => Completed observations: 0\n",
      "I20240827 17:53:33.557202 180864 incremental_mapper.cc:178] => Merged observations: 0\n",
      "I20240827 17:53:33.557209 180864 incremental_mapper.cc:105] => Retriangulated observations: 0\n",
      "I20240827 17:53:33.557224 180864 misc.cc:198] \n",
      "==============================================================================\n",
      "Global bundle adjustment\n",
      "==============================================================================\n",
      "I20240827 17:53:33.632305 180864 misc.cc:205] \n",
      "Bundle adjustment report\n",
      "------------------------\n",
      "I20240827 17:53:33.632365 180864 bundle_adjustment.cc:942] \n",
      "    Residuals : 768\n",
      "   Parameters : 583\n",
      "   Iterations : 101\n",
      "         Time : 0.074718 [s]\n",
      " Initial cost : 0.168319 [px]\n",
      "   Final cost : 0.167821 [px]\n",
      "  Termination : No convergence\n",
      "\n",
      "I20240827 17:53:33.632630 180864 incremental_mapper.cc:175] => Completed observations: 0\n",
      "I20240827 17:53:33.632696 180864 incremental_mapper.cc:178] => Merged observations: 0\n",
      "I20240827 17:53:33.632776 180864 incremental_mapper.cc:160] => Filtered observations: 0\n",
      "I20240827 17:53:33.632786 180864 incremental_mapper.cc:119] => Changed observations: 0.000000\n",
      "I20240827 17:53:33.632797 180864 incremental_mapper.cc:167] => Filtered images: 0\n",
      "I20240827 17:53:33.632815 180864 misc.cc:198] \n",
      "==============================================================================\n",
      "Registering image #14 (3)\n",
      "==============================================================================\n",
      "I20240827 17:53:33.632826 180864 incremental_mapper.cc:495] => Image sees 119 / 403 points\n",
      "I20240827 17:53:33.632869 180864 incremental_mapper.cc:535] => Could not register, trying another image.\n",
      "I20240827 17:53:33.632876 180864 misc.cc:198] \n",
      "==============================================================================\n",
      "Registering image #15 (3)\n",
      "==============================================================================\n",
      "I20240827 17:53:33.632881 180864 incremental_mapper.cc:495] => Image sees 148 / 346 points\n",
      "I20240827 17:53:33.632920 180864 incremental_mapper.cc:535] => Could not register, trying another image.\n",
      "I20240827 17:53:33.632927 180864 misc.cc:198] \n",
      "==============================================================================\n",
      "Registering image #16 (3)\n",
      "==============================================================================\n",
      "I20240827 17:53:33.632931 180864 incremental_mapper.cc:495] => Image sees 162 / 360 points\n",
      "I20240827 17:53:33.632982 180864 incremental_mapper.cc:535] => Could not register, trying another image.\n",
      "I20240827 17:53:33.632995 180864 misc.cc:198] \n",
      "==============================================================================\n",
      "Registering image #19 (3)\n",
      "==============================================================================\n",
      "I20240827 17:53:33.633006 180864 incremental_mapper.cc:495] => Image sees 138 / 244 points\n",
      "I20240827 17:53:33.633052 180864 incremental_mapper.cc:535] => Could not register, trying another image.\n",
      "I20240827 17:53:33.633064 180864 misc.cc:198] \n",
      "==============================================================================\n",
      "Registering image #20 (3)\n",
      "==============================================================================\n",
      "I20240827 17:53:33.633075 180864 incremental_mapper.cc:495] => Image sees 136 / 274 points\n",
      "I20240827 17:53:33.633126 180864 incremental_mapper.cc:535] => Could not register, trying another image.\n",
      "I20240827 17:53:33.633139 180864 misc.cc:198] \n",
      "==============================================================================\n",
      "Registering image #21 (3)\n",
      "==============================================================================\n",
      "I20240827 17:53:33.633149 180864 incremental_mapper.cc:495] => Image sees 107 / 257 points\n",
      "I20240827 17:53:33.633191 180864 incremental_mapper.cc:535] => Could not register, trying another image.\n",
      "I20240827 17:53:33.633584 180864 misc.cc:198] \n",
      "==============================================================================\n",
      "Finding good initial image pair\n",
      "==============================================================================\n",
      "I20240827 17:53:33.644485 180864 misc.cc:198] \n",
      "==============================================================================\n",
      "Initializing with image pair #18 and #15\n",
      "==============================================================================\n",
      "I20240827 17:53:33.645112 180864 misc.cc:198] \n",
      "==============================================================================\n",
      "Global bundle adjustment\n",
      "==============================================================================\n",
      "I20240827 17:53:33.704952 180864 misc.cc:205] \n",
      "Bundle adjustment report\n",
      "------------------------\n",
      "I20240827 17:53:33.704984 180864 bundle_adjustment.cc:942] \n",
      "    Residuals : 660\n",
      "   Parameters : 502\n",
      "   Iterations : 101\n",
      "         Time : 0.059516 [s]\n",
      " Initial cost : 0.523488 [px]\n",
      "   Final cost : 0.216418 [px]\n",
      "  Termination : No convergence\n",
      "\n",
      "I20240827 17:53:33.705171 180864 incremental_mapper.cc:160] => Filtered observations: 0\n",
      "I20240827 17:53:33.705178 180864 incremental_mapper.cc:167] => Filtered images: 0\n",
      "I20240827 17:53:33.716650 180864 misc.cc:198] \n",
      "==============================================================================\n",
      "Registering image #12 (3)\n",
      "==============================================================================\n",
      "I20240827 17:53:33.716674 180864 incremental_mapper.cc:495] => Image sees 117 / 473 points\n",
      "I20240827 17:53:33.716722 180864 incremental_mapper.cc:535] => Could not register, trying another image.\n",
      "I20240827 17:53:33.716730 180864 misc.cc:198] \n",
      "==============================================================================\n",
      "Registering image #14 (3)\n",
      "==============================================================================\n",
      "I20240827 17:53:33.716734 180864 incremental_mapper.cc:495] => Image sees 120 / 403 points\n",
      "I20240827 17:53:33.716776 180864 incremental_mapper.cc:535] => Could not register, trying another image.\n",
      "I20240827 17:53:33.716784 180864 misc.cc:198] \n",
      "==============================================================================\n",
      "Registering image #13 (3)\n",
      "==============================================================================\n",
      "I20240827 17:53:33.716789 180864 incremental_mapper.cc:495] => Image sees 113 / 419 points\n",
      "I20240827 17:53:33.716827 180864 incremental_mapper.cc:535] => Could not register, trying another image.\n",
      "I20240827 17:53:33.716835 180864 misc.cc:198] \n",
      "==============================================================================\n",
      "Registering image #16 (3)\n",
      "==============================================================================\n",
      "I20240827 17:53:33.716840 180864 incremental_mapper.cc:495] => Image sees 154 / 360 points\n",
      "I20240827 17:53:33.716881 180864 incremental_mapper.cc:535] => Could not register, trying another image.\n",
      "I20240827 17:53:33.716888 180864 misc.cc:198] \n",
      "==============================================================================\n",
      "Registering image #17 (3)\n",
      "==============================================================================\n",
      "I20240827 17:53:33.716892 180864 incremental_mapper.cc:495] => Image sees 141 / 334 points\n",
      "I20240827 17:53:33.716931 180864 incremental_mapper.cc:535] => Could not register, trying another image.\n",
      "I20240827 17:53:33.716939 180864 misc.cc:198] \n",
      "==============================================================================\n",
      "Registering image #19 (3)\n",
      "==============================================================================\n",
      "I20240827 17:53:33.716943 180864 incremental_mapper.cc:495] => Image sees 107 / 244 points\n",
      "I20240827 17:53:33.716971 180864 incremental_mapper.cc:535] => Could not register, trying another image.\n",
      "I20240827 17:53:33.716979 180864 misc.cc:198] \n",
      "==============================================================================\n",
      "Registering image #20 (3)\n",
      "==============================================================================\n",
      "I20240827 17:53:33.716982 180864 incremental_mapper.cc:495] => Image sees 109 / 274 points\n",
      "I20240827 17:53:33.717012 180864 incremental_mapper.cc:535] => Could not register, trying another image.\n",
      "I20240827 17:53:33.717020 180864 misc.cc:198] \n",
      "==============================================================================\n",
      "Registering image #21 (3)\n",
      "==============================================================================\n",
      "I20240827 17:53:33.717024 180864 incremental_mapper.cc:495] => Image sees 93 / 257 points\n",
      "I20240827 17:53:33.717052 180864 incremental_mapper.cc:535] => Could not register, trying another image.\n",
      "I20240827 17:53:33.717059 180864 misc.cc:198] \n",
      "==============================================================================\n",
      "Retriangulation\n",
      "==============================================================================\n",
      "I20240827 17:53:33.717139 180864 incremental_mapper.cc:175] => Completed observations: 0\n",
      "I20240827 17:53:33.717187 180864 incremental_mapper.cc:178] => Merged observations: 0\n",
      "I20240827 17:53:33.717193 180864 incremental_mapper.cc:105] => Retriangulated observations: 0\n",
      "I20240827 17:53:33.717208 180864 misc.cc:198] \n",
      "==============================================================================\n",
      "Global bundle adjustment\n",
      "==============================================================================\n",
      "I20240827 17:53:33.779753 180864 misc.cc:205] \n",
      "Bundle adjustment report\n",
      "------------------------\n",
      "I20240827 17:53:33.779798 180864 bundle_adjustment.cc:942] \n",
      "    Residuals : 660\n",
      "   Parameters : 502\n",
      "   Iterations : 101\n",
      "         Time : 0.062263 [s]\n",
      " Initial cost : 0.216418 [px]\n",
      "   Final cost : 0.214688 [px]\n",
      "  Termination : No convergence\n",
      "\n",
      "I20240827 17:53:33.779987 180864 incremental_mapper.cc:175] => Completed observations: 0\n",
      "I20240827 17:53:33.780040 180864 incremental_mapper.cc:178] => Merged observations: 0\n",
      "I20240827 17:53:33.780107 180864 incremental_mapper.cc:160] => Filtered observations: 0\n",
      "I20240827 17:53:33.780114 180864 incremental_mapper.cc:119] => Changed observations: 0.000000\n",
      "I20240827 17:53:33.780121 180864 incremental_mapper.cc:167] => Filtered images: 0\n",
      "I20240827 17:53:33.780133 180864 misc.cc:198] \n",
      "==============================================================================\n",
      "Registering image #12 (3)\n",
      "==============================================================================\n",
      "I20240827 17:53:33.780140 180864 incremental_mapper.cc:495] => Image sees 117 / 473 points\n",
      "I20240827 17:53:33.780189 180864 incremental_mapper.cc:535] => Could not register, trying another image.\n",
      "I20240827 17:53:33.780196 180864 misc.cc:198] \n",
      "==============================================================================\n",
      "Registering image #14 (3)\n",
      "==============================================================================\n",
      "I20240827 17:53:33.780201 180864 incremental_mapper.cc:495] => Image sees 120 / 403 points\n",
      "I20240827 17:53:33.780241 180864 incremental_mapper.cc:535] => Could not register, trying another image.\n",
      "I20240827 17:53:33.780249 180864 misc.cc:198] \n",
      "==============================================================================\n",
      "Registering image #13 (3)\n",
      "==============================================================================\n",
      "I20240827 17:53:33.780254 180864 incremental_mapper.cc:495] => Image sees 113 / 419 points\n",
      "I20240827 17:53:33.780297 180864 incremental_mapper.cc:535] => Could not register, trying another image.\n",
      "I20240827 17:53:33.780304 180864 misc.cc:198] \n",
      "==============================================================================\n",
      "Registering image #16 (3)\n",
      "==============================================================================\n",
      "I20240827 17:53:33.780309 180864 incremental_mapper.cc:495] => Image sees 154 / 360 points\n",
      "I20240827 17:53:33.780354 180864 incremental_mapper.cc:535] => Could not register, trying another image.\n",
      "I20240827 17:53:33.780361 180864 misc.cc:198] \n",
      "==============================================================================\n",
      "Registering image #17 (3)\n",
      "==============================================================================\n",
      "I20240827 17:53:33.780378 180864 incremental_mapper.cc:495] => Image sees 141 / 334 points\n",
      "I20240827 17:53:33.780418 180864 incremental_mapper.cc:535] => Could not register, trying another image.\n",
      "I20240827 17:53:33.780426 180864 misc.cc:198] \n",
      "==============================================================================\n",
      "Registering image #19 (3)\n",
      "==============================================================================\n",
      "I20240827 17:53:33.780431 180864 incremental_mapper.cc:495] => Image sees 107 / 244 points\n",
      "I20240827 17:53:33.780458 180864 incremental_mapper.cc:535] => Could not register, trying another image.\n",
      "I20240827 17:53:33.780465 180864 misc.cc:198] \n",
      "==============================================================================\n",
      "Registering image #20 (3)\n",
      "==============================================================================\n",
      "I20240827 17:53:33.780489 180864 incremental_mapper.cc:495] => Image sees 109 / 274 points\n",
      "I20240827 17:53:33.780519 180864 incremental_mapper.cc:535] => Could not register, trying another image.\n",
      "I20240827 17:53:33.780526 180864 misc.cc:198] \n",
      "==============================================================================\n",
      "Registering image #21 (3)\n",
      "==============================================================================\n",
      "I20240827 17:53:33.780531 180864 incremental_mapper.cc:495] => Image sees 93 / 257 points\n",
      "I20240827 17:53:33.780560 180864 incremental_mapper.cc:535] => Could not register, trying another image.\n",
      "I20240827 17:53:33.780874 180864 misc.cc:198] \n",
      "==============================================================================\n",
      "Finding good initial image pair\n",
      "==============================================================================\n",
      "I20240827 17:53:33.786630 180864 misc.cc:198] \n",
      "==============================================================================\n",
      "Initializing with image pair #20 and #21\n",
      "==============================================================================\n",
      "I20240827 17:53:33.787237 180864 misc.cc:198] \n",
      "==============================================================================\n",
      "Global bundle adjustment\n",
      "==============================================================================\n",
      "I20240827 17:53:33.853031 180864 misc.cc:205] \n",
      "Bundle adjustment report\n",
      "------------------------\n",
      "I20240827 17:53:33.853075 180864 bundle_adjustment.cc:942] \n",
      "    Residuals : 688\n",
      "   Parameters : 523\n",
      "   Iterations : 101\n",
      "         Time : 0.0654969 [s]\n",
      " Initial cost : 0.231699 [px]\n",
      "   Final cost : 0.195016 [px]\n",
      "  Termination : No convergence\n",
      "\n",
      "I20240827 17:53:33.853310 180864 incremental_mapper.cc:160] => Filtered observations: 0\n",
      "I20240827 17:53:33.853320 180864 incremental_mapper.cc:167] => Filtered images: 0\n",
      "I20240827 17:53:33.867446 180864 misc.cc:198] \n",
      "==============================================================================\n",
      "Registering image #22 (3)\n",
      "==============================================================================\n",
      "I20240827 17:53:33.867471 180864 incremental_mapper.cc:495] => Image sees 135 / 255 points\n",
      "I20240827 17:53:33.867514 180864 incremental_mapper.cc:535] => Could not register, trying another image.\n",
      "I20240827 17:53:33.867522 180864 misc.cc:198] \n",
      "==============================================================================\n",
      "Registering image #19 (3)\n",
      "==============================================================================\n",
      "I20240827 17:53:33.867527 180864 incremental_mapper.cc:495] => Image sees 130 / 244 points\n",
      "I20240827 17:53:33.867566 180864 incremental_mapper.cc:535] => Could not register, trying another image.\n",
      "I20240827 17:53:33.867574 180864 misc.cc:198] \n",
      "==============================================================================\n",
      "Registering image #18 (3)\n",
      "==============================================================================\n",
      "I20240827 17:53:33.867578 180864 incremental_mapper.cc:495] => Image sees 123 / 277 points\n",
      "I20240827 17:53:33.867614 180864 incremental_mapper.cc:535] => Could not register, trying another image.\n",
      "I20240827 17:53:33.867620 180864 misc.cc:198] \n",
      "==============================================================================\n",
      "Registering image #17 (3)\n",
      "==============================================================================\n",
      "I20240827 17:53:33.867625 180864 incremental_mapper.cc:495] => Image sees 87 / 334 points\n",
      "I20240827 17:53:33.867657 180864 incremental_mapper.cc:535] => Could not register, trying another image.\n",
      "I20240827 17:53:33.867666 180864 misc.cc:198] \n",
      "==============================================================================\n",
      "Registering image #24 (3)\n",
      "==============================================================================\n",
      "I20240827 17:53:33.867669 180864 incremental_mapper.cc:495] => Image sees 100 / 241 points\n",
      "I20240827 17:53:33.867700 180864 incremental_mapper.cc:535] => Could not register, trying another image.\n",
      "I20240827 17:53:33.867707 180864 misc.cc:198] \n",
      "==============================================================================\n",
      "Registering image #23 (3)\n",
      "==============================================================================\n",
      "I20240827 17:53:33.867734 180864 incremental_mapper.cc:495] => Image sees 118 / 247 points\n",
      "I20240827 17:53:33.867770 180864 incremental_mapper.cc:535] => Could not register, trying another image.\n",
      "I20240827 17:53:33.867777 180864 misc.cc:198] \n",
      "==============================================================================\n",
      "Retriangulation\n",
      "==============================================================================\n",
      "I20240827 17:53:33.867846 180864 incremental_mapper.cc:175] => Completed observations: 0\n",
      "I20240827 17:53:33.867897 180864 incremental_mapper.cc:178] => Merged observations: 0\n",
      "I20240827 17:53:33.867904 180864 incremental_mapper.cc:105] => Retriangulated observations: 0\n",
      "I20240827 17:53:33.867933 180864 misc.cc:198] \n",
      "==============================================================================\n",
      "Global bundle adjustment\n",
      "==============================================================================\n",
      "I20240827 17:53:33.932958 180864 misc.cc:205] \n",
      "Bundle adjustment report\n",
      "------------------------\n",
      "I20240827 17:53:33.933001 180864 bundle_adjustment.cc:942] \n",
      "    Residuals : 688\n",
      "   Parameters : 523\n",
      "   Iterations : 101\n",
      "         Time : 0.0647299 [s]\n",
      " Initial cost : 0.195016 [px]\n",
      "   Final cost : 0.188747 [px]\n",
      "  Termination : No convergence\n",
      "\n",
      "I20240827 17:53:33.933199 180864 incremental_mapper.cc:175] => Completed observations: 0\n",
      "I20240827 17:53:33.933255 180864 incremental_mapper.cc:178] => Merged observations: 0\n",
      "I20240827 17:53:33.933326 180864 incremental_mapper.cc:160] => Filtered observations: 0\n",
      "I20240827 17:53:33.933332 180864 incremental_mapper.cc:119] => Changed observations: 0.000000\n",
      "I20240827 17:53:33.933343 180864 incremental_mapper.cc:167] => Filtered images: 0\n",
      "I20240827 17:53:33.933354 180864 misc.cc:198] \n",
      "==============================================================================\n",
      "Registering image #22 (3)\n",
      "==============================================================================\n",
      "I20240827 17:53:33.933362 180864 incremental_mapper.cc:495] => Image sees 135 / 255 points\n",
      "I20240827 17:53:33.933400 180864 incremental_mapper.cc:535] => Could not register, trying another image.\n",
      "I20240827 17:53:33.933408 180864 misc.cc:198] \n",
      "==============================================================================\n",
      "Registering image #19 (3)\n",
      "==============================================================================\n",
      "I20240827 17:53:33.933413 180864 incremental_mapper.cc:495] => Image sees 130 / 244 points\n",
      "I20240827 17:53:33.933450 180864 incremental_mapper.cc:535] => Could not register, trying another image.\n",
      "I20240827 17:53:33.933458 180864 misc.cc:198] \n",
      "==============================================================================\n",
      "Registering image #18 (3)\n",
      "==============================================================================\n",
      "I20240827 17:53:33.933463 180864 incremental_mapper.cc:495] => Image sees 123 / 277 points\n",
      "I20240827 17:53:33.933501 180864 incremental_mapper.cc:535] => Could not register, trying another image.\n",
      "I20240827 17:53:33.933507 180864 misc.cc:198] \n",
      "==============================================================================\n",
      "Registering image #17 (3)\n",
      "==============================================================================\n",
      "I20240827 17:53:33.933516 180864 incremental_mapper.cc:495] => Image sees 87 / 334 points\n",
      "I20240827 17:53:33.933548 180864 incremental_mapper.cc:535] => Could not register, trying another image.\n",
      "I20240827 17:53:33.933557 180864 misc.cc:198] \n",
      "==============================================================================\n",
      "Registering image #24 (3)\n",
      "==============================================================================\n",
      "I20240827 17:53:33.933562 180864 incremental_mapper.cc:495] => Image sees 100 / 241 points\n",
      "I20240827 17:53:33.933604 180864 incremental_mapper.cc:535] => Could not register, trying another image.\n",
      "I20240827 17:53:33.933612 180864 misc.cc:198] \n",
      "==============================================================================\n",
      "Registering image #23 (3)\n",
      "==============================================================================\n",
      "I20240827 17:53:33.933636 180864 incremental_mapper.cc:495] => Image sees 118 / 247 points\n",
      "I20240827 17:53:33.933669 180864 incremental_mapper.cc:535] => Could not register, trying another image.\n",
      "I20240827 17:53:33.934271 180864 misc.cc:198] \n",
      "==============================================================================\n",
      "Finding good initial image pair\n",
      "==============================================================================\n",
      "I20240827 17:53:33.949565 180864 misc.cc:198] \n",
      "==============================================================================\n",
      "Initializing with image pair #20 and #19\n",
      "==============================================================================\n",
      "I20240827 17:53:33.950163 180864 misc.cc:198] \n",
      "==============================================================================\n",
      "Global bundle adjustment\n",
      "==============================================================================\n",
      "I20240827 17:53:34.007009 180864 misc.cc:205] \n",
      "Bundle adjustment report\n",
      "------------------------\n",
      "I20240827 17:53:34.007038 180864 bundle_adjustment.cc:942] \n",
      "    Residuals : 628\n",
      "   Parameters : 478\n",
      "   Iterations : 101\n",
      "         Time : 0.0565829 [s]\n",
      " Initial cost : 0.357719 [px]\n",
      "   Final cost : 0.301117 [px]\n",
      "  Termination : No convergence\n",
      "\n",
      "I20240827 17:53:34.007216 180864 incremental_mapper.cc:160] => Filtered observations: 0\n",
      "I20240827 17:53:34.007225 180864 incremental_mapper.cc:167] => Filtered images: 0\n",
      "I20240827 17:53:34.018515 180864 misc.cc:198] \n",
      "==============================================================================\n",
      "Registering image #16 (3)\n",
      "==============================================================================\n",
      "I20240827 17:53:34.018538 180864 incremental_mapper.cc:495] => Image sees 100 / 360 points\n",
      "I20240827 17:53:34.018582 180864 incremental_mapper.cc:535] => Could not register, trying another image.\n",
      "I20240827 17:53:34.018590 180864 misc.cc:198] \n",
      "==============================================================================\n",
      "Registering image #17 (3)\n",
      "==============================================================================\n",
      "I20240827 17:53:34.018594 180864 incremental_mapper.cc:495] => Image sees 129 / 334 points\n",
      "I20240827 17:53:34.018635 180864 incremental_mapper.cc:535] => Could not register, trying another image.\n",
      "I20240827 17:53:34.018641 180864 misc.cc:198] \n",
      "==============================================================================\n",
      "Registering image #18 (3)\n",
      "==============================================================================\n",
      "I20240827 17:53:34.018646 180864 incremental_mapper.cc:495] => Image sees 126 / 277 points\n",
      "I20240827 17:53:34.018678 180864 incremental_mapper.cc:535] => Could not register, trying another image.\n",
      "I20240827 17:53:34.018687 180864 misc.cc:198] \n",
      "==============================================================================\n",
      "Registering image #22 (3)\n",
      "==============================================================================\n",
      "I20240827 17:53:34.018690 180864 incremental_mapper.cc:495] => Image sees 125 / 255 points\n",
      "I20240827 17:53:34.018723 180864 incremental_mapper.cc:535] => Could not register, trying another image.\n",
      "I20240827 17:53:34.018739 180864 misc.cc:198] \n",
      "==============================================================================\n",
      "Registering image #21 (3)\n",
      "==============================================================================\n",
      "I20240827 17:53:34.018743 180864 incremental_mapper.cc:495] => Image sees 124 / 257 points\n",
      "I20240827 17:53:34.018777 180864 incremental_mapper.cc:535] => Could not register, trying another image.\n",
      "I20240827 17:53:34.018785 180864 misc.cc:198] \n",
      "==============================================================================\n",
      "Registering image #23 (3)\n",
      "==============================================================================\n",
      "I20240827 17:53:34.018790 180864 incremental_mapper.cc:495] => Image sees 90 / 247 points\n",
      "I20240827 17:53:34.018817 180864 incremental_mapper.cc:535] => Could not register, trying another image.\n",
      "I20240827 17:53:34.018848 180864 misc.cc:198] \n",
      "==============================================================================\n",
      "Retriangulation\n",
      "==============================================================================\n",
      "I20240827 17:53:34.018909 180864 incremental_mapper.cc:175] => Completed observations: 0\n",
      "I20240827 17:53:34.018957 180864 incremental_mapper.cc:178] => Merged observations: 0\n",
      "I20240827 17:53:34.018965 180864 incremental_mapper.cc:105] => Retriangulated observations: 0\n",
      "I20240827 17:53:34.018980 180864 misc.cc:198] \n",
      "==============================================================================\n",
      "Global bundle adjustment\n",
      "==============================================================================\n",
      "I20240827 17:53:34.075973 180864 misc.cc:205] \n",
      "Bundle adjustment report\n",
      "------------------------\n",
      "I20240827 17:53:34.076007 180864 bundle_adjustment.cc:942] \n",
      "    Residuals : 628\n",
      "   Parameters : 478\n",
      "   Iterations : 101\n",
      "         Time : 0.0567288 [s]\n",
      " Initial cost : 0.301117 [px]\n",
      "   Final cost : 0.229308 [px]\n",
      "  Termination : No convergence\n",
      "\n",
      "I20240827 17:53:34.076184 180864 incremental_mapper.cc:175] => Completed observations: 0\n",
      "I20240827 17:53:34.076237 180864 incremental_mapper.cc:178] => Merged observations: 0\n",
      "I20240827 17:53:34.076303 180864 incremental_mapper.cc:160] => Filtered observations: 0\n",
      "I20240827 17:53:34.076309 180864 incremental_mapper.cc:119] => Changed observations: 0.000000\n",
      "I20240827 17:53:34.076316 180864 incremental_mapper.cc:167] => Filtered images: 0\n",
      "I20240827 17:53:34.076326 180864 misc.cc:198] \n",
      "==============================================================================\n",
      "Registering image #16 (3)\n",
      "==============================================================================\n",
      "I20240827 17:53:34.076333 180864 incremental_mapper.cc:495] => Image sees 100 / 360 points\n",
      "I20240827 17:53:34.076370 180864 incremental_mapper.cc:535] => Could not register, trying another image.\n",
      "I20240827 17:53:34.076378 180864 misc.cc:198] \n",
      "==============================================================================\n",
      "Registering image #17 (3)\n",
      "==============================================================================\n",
      "I20240827 17:53:34.076383 180864 incremental_mapper.cc:495] => Image sees 129 / 334 points\n",
      "I20240827 17:53:34.076422 180864 incremental_mapper.cc:535] => Could not register, trying another image.\n",
      "I20240827 17:53:34.076429 180864 misc.cc:198] \n",
      "==============================================================================\n",
      "Registering image #18 (3)\n",
      "==============================================================================\n",
      "I20240827 17:53:34.076434 180864 incremental_mapper.cc:495] => Image sees 126 / 277 points\n",
      "I20240827 17:53:34.076470 180864 incremental_mapper.cc:535] => Could not register, trying another image.\n",
      "I20240827 17:53:34.076478 180864 misc.cc:198] \n",
      "==============================================================================\n",
      "Registering image #22 (3)\n",
      "==============================================================================\n",
      "I20240827 17:53:34.076483 180864 incremental_mapper.cc:495] => Image sees 125 / 255 points\n",
      "I20240827 17:53:34.076521 180864 incremental_mapper.cc:535] => Could not register, trying another image.\n",
      "I20240827 17:53:34.076529 180864 misc.cc:198] \n",
      "==============================================================================\n",
      "Registering image #21 (3)\n",
      "==============================================================================\n",
      "I20240827 17:53:34.076534 180864 incremental_mapper.cc:495] => Image sees 124 / 257 points\n",
      "I20240827 17:53:34.076570 180864 incremental_mapper.cc:535] => Could not register, trying another image.\n",
      "I20240827 17:53:34.076577 180864 misc.cc:198] \n",
      "==============================================================================\n",
      "Registering image #23 (3)\n",
      "==============================================================================\n",
      "I20240827 17:53:34.076582 180864 incremental_mapper.cc:495] => Image sees 90 / 247 points\n",
      "I20240827 17:53:34.076627 180864 incremental_mapper.cc:535] => Could not register, trying another image.\n",
      "I20240827 17:53:34.076951 180864 misc.cc:198] \n",
      "==============================================================================\n",
      "Finding good initial image pair\n",
      "==============================================================================\n",
      "I20240827 17:53:34.087446 180864 misc.cc:198] \n",
      "==============================================================================\n",
      "Initializing with image pair #22 and #21\n",
      "==============================================================================\n",
      "I20240827 17:53:34.088024 180864 misc.cc:198] \n",
      "==============================================================================\n",
      "Global bundle adjustment\n",
      "==============================================================================\n",
      "I20240827 17:53:34.144706 180864 misc.cc:205] \n",
      "Bundle adjustment report\n",
      "------------------------\n",
      "I20240827 17:53:34.144737 180864 bundle_adjustment.cc:942] \n",
      "    Residuals : 640\n",
      "   Parameters : 487\n",
      "   Iterations : 101\n",
      "         Time : 0.0564132 [s]\n",
      " Initial cost : 0.273465 [px]\n",
      "   Final cost : 0.146056 [px]\n",
      "  Termination : No convergence\n",
      "\n",
      "I20240827 17:53:34.144917 180864 incremental_mapper.cc:160] => Filtered observations: 0\n",
      "I20240827 17:53:34.144925 180864 incremental_mapper.cc:167] => Filtered images: 0\n",
      "I20240827 17:53:34.156225 180864 misc.cc:198] \n",
      "==============================================================================\n",
      "Registering image #18 (3)\n",
      "==============================================================================\n",
      "I20240827 17:53:34.156251 180864 incremental_mapper.cc:495] => Image sees 97 / 277 points\n",
      "I20240827 17:53:34.156284 180864 incremental_mapper.cc:535] => Could not register, trying another image.\n",
      "I20240827 17:53:34.156291 180864 misc.cc:198] \n",
      "==============================================================================\n",
      "Registering image #19 (3)\n",
      "==============================================================================\n",
      "I20240827 17:53:34.156294 180864 incremental_mapper.cc:495] => Image sees 113 / 244 points\n",
      "I20240827 17:53:34.156325 180864 incremental_mapper.cc:535] => Could not register, trying another image.\n",
      "I20240827 17:53:34.156333 180864 misc.cc:198] \n",
      "==============================================================================\n",
      "Registering image #20 (3)\n",
      "==============================================================================\n",
      "I20240827 17:53:34.156337 180864 incremental_mapper.cc:495] => Image sees 130 / 274 points\n",
      "I20240827 17:53:34.156373 180864 incremental_mapper.cc:535] => Could not register, trying another image.\n",
      "I20240827 17:53:34.156380 180864 misc.cc:198] \n",
      "==============================================================================\n",
      "Registering image #24 (3)\n",
      "==============================================================================\n",
      "I20240827 17:53:34.156385 180864 incremental_mapper.cc:495] => Image sees 120 / 241 points\n",
      "I20240827 17:53:34.156417 180864 incremental_mapper.cc:535] => Could not register, trying another image.\n",
      "I20240827 17:53:34.156425 180864 misc.cc:198] \n",
      "==============================================================================\n",
      "Registering image #23 (3)\n",
      "==============================================================================\n",
      "I20240827 17:53:34.156430 180864 incremental_mapper.cc:495] => Image sees 127 / 247 points\n",
      "I20240827 17:53:34.156462 180864 incremental_mapper.cc:535] => Could not register, trying another image.\n",
      "I20240827 17:53:34.156469 180864 misc.cc:198] \n",
      "==============================================================================\n",
      "Registering image #25 (3)\n",
      "==============================================================================\n",
      "I20240827 17:53:34.156473 180864 incremental_mapper.cc:495] => Image sees 91 / 237 points\n",
      "I20240827 17:53:34.156503 180864 incremental_mapper.cc:535] => Could not register, trying another image.\n",
      "I20240827 17:53:34.156510 180864 misc.cc:198] \n",
      "==============================================================================\n",
      "Retriangulation\n",
      "==============================================================================\n",
      "I20240827 17:53:34.156569 180864 incremental_mapper.cc:175] => Completed observations: 0\n",
      "I20240827 17:53:34.156618 180864 incremental_mapper.cc:178] => Merged observations: 0\n",
      "I20240827 17:53:34.156646 180864 incremental_mapper.cc:105] => Retriangulated observations: 0\n",
      "I20240827 17:53:34.156661 180864 misc.cc:198] \n",
      "==============================================================================\n",
      "Global bundle adjustment\n",
      "==============================================================================\n",
      "I20240827 17:53:34.215162 180864 misc.cc:205] \n",
      "Bundle adjustment report\n",
      "------------------------\n",
      "I20240827 17:53:34.215198 180864 bundle_adjustment.cc:942] \n",
      "    Residuals : 640\n",
      "   Parameters : 487\n",
      "   Iterations : 101\n",
      "         Time : 0.058229 [s]\n",
      " Initial cost : 0.146056 [px]\n",
      "   Final cost : 0.144512 [px]\n",
      "  Termination : No convergence\n",
      "\n",
      "I20240827 17:53:34.215381 180864 incremental_mapper.cc:175] => Completed observations: 0\n",
      "I20240827 17:53:34.215436 180864 incremental_mapper.cc:178] => Merged observations: 0\n",
      "I20240827 17:53:34.215502 180864 incremental_mapper.cc:160] => Filtered observations: 0\n",
      "I20240827 17:53:34.215508 180864 incremental_mapper.cc:119] => Changed observations: 0.000000\n",
      "I20240827 17:53:34.215515 180864 incremental_mapper.cc:167] => Filtered images: 0\n",
      "I20240827 17:53:34.215526 180864 misc.cc:198] \n",
      "==============================================================================\n",
      "Registering image #18 (3)\n",
      "==============================================================================\n",
      "I20240827 17:53:34.215533 180864 incremental_mapper.cc:495] => Image sees 97 / 277 points\n",
      "I20240827 17:53:34.215564 180864 incremental_mapper.cc:535] => Could not register, trying another image.\n",
      "I20240827 17:53:34.215572 180864 misc.cc:198] \n",
      "==============================================================================\n",
      "Registering image #19 (3)\n",
      "==============================================================================\n",
      "I20240827 17:53:34.215577 180864 incremental_mapper.cc:495] => Image sees 113 / 244 points\n",
      "I20240827 17:53:34.215610 180864 incremental_mapper.cc:535] => Could not register, trying another image.\n",
      "I20240827 17:53:34.215618 180864 misc.cc:198] \n",
      "==============================================================================\n",
      "Registering image #20 (3)\n",
      "==============================================================================\n",
      "I20240827 17:53:34.215623 180864 incremental_mapper.cc:495] => Image sees 130 / 274 points\n",
      "I20240827 17:53:34.215662 180864 incremental_mapper.cc:535] => Could not register, trying another image.\n",
      "I20240827 17:53:34.215669 180864 misc.cc:198] \n",
      "==============================================================================\n",
      "Registering image #24 (3)\n",
      "==============================================================================\n",
      "I20240827 17:53:34.215673 180864 incremental_mapper.cc:495] => Image sees 120 / 241 points\n",
      "I20240827 17:53:34.215708 180864 incremental_mapper.cc:535] => Could not register, trying another image.\n",
      "I20240827 17:53:34.215715 180864 misc.cc:198] \n",
      "==============================================================================\n",
      "Registering image #23 (3)\n",
      "==============================================================================\n",
      "I20240827 17:53:34.215720 180864 incremental_mapper.cc:495] => Image sees 127 / 247 points\n",
      "I20240827 17:53:34.215759 180864 incremental_mapper.cc:535] => Could not register, trying another image.\n",
      "I20240827 17:53:34.215766 180864 misc.cc:198] \n",
      "==============================================================================\n",
      "Registering image #25 (3)\n",
      "==============================================================================\n",
      "I20240827 17:53:34.215770 180864 incremental_mapper.cc:495] => Image sees 91 / 237 points\n",
      "I20240827 17:53:34.215811 180864 incremental_mapper.cc:535] => Could not register, trying another image.\n",
      "I20240827 17:53:34.216120 180864 misc.cc:198] \n",
      "==============================================================================\n",
      "Finding good initial image pair\n",
      "==============================================================================\n",
      "I20240827 17:53:34.225741 180864 misc.cc:198] \n",
      "==============================================================================\n",
      "Initializing with image pair #22 and #19\n",
      "==============================================================================\n",
      "I20240827 17:53:34.226285 180864 misc.cc:198] \n",
      "==============================================================================\n",
      "Global bundle adjustment\n",
      "==============================================================================\n",
      "I20240827 17:53:34.277554 180864 misc.cc:205] \n",
      "Bundle adjustment report\n",
      "------------------------\n",
      "I20240827 17:53:34.277583 180864 bundle_adjustment.cc:942] \n",
      "    Residuals : 580\n",
      "   Parameters : 442\n",
      "   Iterations : 101\n",
      "         Time : 0.0510149 [s]\n",
      " Initial cost : 0.466805 [px]\n",
      "   Final cost : 0.139105 [px]\n",
      "  Termination : No convergence\n",
      "\n",
      "I20240827 17:53:34.277747 180864 incremental_mapper.cc:160] => Filtered observations: 0\n",
      "I20240827 17:53:34.277756 180864 incremental_mapper.cc:167] => Filtered images: 0\n",
      "I20240827 17:53:34.288952 180864 misc.cc:198] \n",
      "==============================================================================\n",
      "Registering image #16 (3)\n",
      "==============================================================================\n",
      "I20240827 17:53:34.288975 180864 incremental_mapper.cc:495] => Image sees 100 / 360 points\n",
      "I20240827 17:53:34.289011 180864 incremental_mapper.cc:535] => Could not register, trying another image.\n",
      "I20240827 17:53:34.289018 180864 misc.cc:198] \n",
      "==============================================================================\n",
      "Registering image #17 (3)\n",
      "==============================================================================\n",
      "I20240827 17:53:34.289023 180864 incremental_mapper.cc:495] => Image sees 110 / 334 points\n",
      "I20240827 17:53:34.289055 180864 incremental_mapper.cc:535] => Could not register, trying another image.\n",
      "I20240827 17:53:34.289063 180864 misc.cc:198] \n",
      "==============================================================================\n",
      "Registering image #18 (3)\n",
      "==============================================================================\n",
      "I20240827 17:53:34.289067 180864 incremental_mapper.cc:495] => Image sees 99 / 277 points\n",
      "I20240827 17:53:34.289095 180864 incremental_mapper.cc:535] => Could not register, trying another image.\n",
      "I20240827 17:53:34.289103 180864 misc.cc:198] \n",
      "==============================================================================\n",
      "Registering image #20 (3)\n",
      "==============================================================================\n",
      "I20240827 17:53:34.289108 180864 incremental_mapper.cc:495] => Image sees 123 / 274 points\n",
      "I20240827 17:53:34.289140 180864 incremental_mapper.cc:535] => Could not register, trying another image.\n",
      "I20240827 17:53:34.289147 180864 misc.cc:198] \n",
      "==============================================================================\n",
      "Registering image #21 (3)\n",
      "==============================================================================\n",
      "I20240827 17:53:34.289152 180864 incremental_mapper.cc:495] => Image sees 119 / 257 points\n",
      "I20240827 17:53:34.289184 180864 incremental_mapper.cc:535] => Could not register, trying another image.\n",
      "I20240827 17:53:34.289192 180864 misc.cc:198] \n",
      "==============================================================================\n",
      "Registering image #24 (3)\n",
      "==============================================================================\n",
      "I20240827 17:53:34.289196 180864 incremental_mapper.cc:495] => Image sees 94 / 241 points\n",
      "I20240827 17:53:34.289223 180864 incremental_mapper.cc:535] => Could not register, trying another image.\n",
      "I20240827 17:53:34.289230 180864 misc.cc:198] \n",
      "==============================================================================\n",
      "Registering image #25 (3)\n",
      "==============================================================================\n",
      "I20240827 17:53:34.289234 180864 incremental_mapper.cc:495] => Image sees 85 / 237 points\n",
      "I20240827 17:53:34.289260 180864 incremental_mapper.cc:535] => Could not register, trying another image.\n",
      "I20240827 17:53:34.289268 180864 misc.cc:198] \n",
      "==============================================================================\n",
      "Registering image #23 (3)\n",
      "==============================================================================\n",
      "I20240827 17:53:34.289273 180864 incremental_mapper.cc:495] => Image sees 99 / 247 points\n",
      "I20240827 17:53:34.289322 180864 incremental_mapper.cc:535] => Could not register, trying another image.\n",
      "I20240827 17:53:34.289330 180864 misc.cc:198] \n",
      "==============================================================================\n",
      "Retriangulation\n",
      "==============================================================================\n",
      "I20240827 17:53:34.289383 180864 incremental_mapper.cc:175] => Completed observations: 0\n",
      "I20240827 17:53:34.289427 180864 incremental_mapper.cc:178] => Merged observations: 0\n",
      "I20240827 17:53:34.289433 180864 incremental_mapper.cc:105] => Retriangulated observations: 0\n",
      "I20240827 17:53:34.289448 180864 misc.cc:198] \n",
      "==============================================================================\n",
      "Global bundle adjustment\n",
      "==============================================================================\n",
      "I20240827 17:53:34.342373 180864 misc.cc:205] \n",
      "Bundle adjustment report\n",
      "------------------------\n",
      "I20240827 17:53:34.342404 180864 bundle_adjustment.cc:942] \n",
      "    Residuals : 580\n",
      "   Parameters : 442\n",
      "   Iterations : 101\n",
      "         Time : 0.052675 [s]\n",
      " Initial cost : 0.139105 [px]\n",
      "   Final cost : 0.137993 [px]\n",
      "  Termination : No convergence\n",
      "\n",
      "I20240827 17:53:34.342567 180864 incremental_mapper.cc:175] => Completed observations: 0\n",
      "I20240827 17:53:34.342614 180864 incremental_mapper.cc:178] => Merged observations: 0\n",
      "I20240827 17:53:34.342674 180864 incremental_mapper.cc:160] => Filtered observations: 0\n",
      "I20240827 17:53:34.342681 180864 incremental_mapper.cc:119] => Changed observations: 0.000000\n",
      "I20240827 17:53:34.342689 180864 incremental_mapper.cc:167] => Filtered images: 0\n",
      "I20240827 17:53:34.342697 180864 misc.cc:198] \n",
      "==============================================================================\n",
      "Registering image #16 (3)\n",
      "==============================================================================\n",
      "I20240827 17:53:34.342705 180864 incremental_mapper.cc:495] => Image sees 100 / 360 points\n",
      "I20240827 17:53:34.342746 180864 incremental_mapper.cc:535] => Could not register, trying another image.\n",
      "I20240827 17:53:34.342756 180864 misc.cc:198] \n",
      "==============================================================================\n",
      "Registering image #17 (3)\n",
      "==============================================================================\n",
      "I20240827 17:53:34.342761 180864 incremental_mapper.cc:495] => Image sees 110 / 334 points\n",
      "I20240827 17:53:34.342794 180864 incremental_mapper.cc:535] => Could not register, trying another image.\n",
      "I20240827 17:53:34.342803 180864 misc.cc:198] \n",
      "==============================================================================\n",
      "Registering image #18 (3)\n",
      "==============================================================================\n",
      "I20240827 17:53:34.342808 180864 incremental_mapper.cc:495] => Image sees 99 / 277 points\n",
      "I20240827 17:53:34.342836 180864 incremental_mapper.cc:535] => Could not register, trying another image.\n",
      "I20240827 17:53:34.342844 180864 misc.cc:198] \n",
      "==============================================================================\n",
      "Registering image #20 (3)\n",
      "==============================================================================\n",
      "I20240827 17:53:34.342849 180864 incremental_mapper.cc:495] => Image sees 123 / 274 points\n",
      "I20240827 17:53:34.342885 180864 incremental_mapper.cc:535] => Could not register, trying another image.\n",
      "I20240827 17:53:34.342892 180864 misc.cc:198] \n",
      "==============================================================================\n",
      "Registering image #21 (3)\n",
      "==============================================================================\n",
      "I20240827 17:53:34.342896 180864 incremental_mapper.cc:495] => Image sees 119 / 257 points\n",
      "I20240827 17:53:34.342931 180864 incremental_mapper.cc:535] => Could not register, trying another image.\n",
      "I20240827 17:53:34.342938 180864 misc.cc:198] \n",
      "==============================================================================\n",
      "Registering image #24 (3)\n",
      "==============================================================================\n",
      "I20240827 17:53:34.342943 180864 incremental_mapper.cc:495] => Image sees 94 / 241 points\n",
      "I20240827 17:53:34.342990 180864 incremental_mapper.cc:535] => Could not register, trying another image.\n",
      "I20240827 17:53:34.343009 180864 misc.cc:198] \n",
      "==============================================================================\n",
      "Registering image #25 (3)\n",
      "==============================================================================\n",
      "I20240827 17:53:34.343014 180864 incremental_mapper.cc:495] => Image sees 85 / 237 points\n",
      "I20240827 17:53:34.343040 180864 incremental_mapper.cc:535] => Could not register, trying another image.\n",
      "I20240827 17:53:34.343047 180864 misc.cc:198] \n",
      "==============================================================================\n",
      "Registering image #23 (3)\n",
      "==============================================================================\n",
      "I20240827 17:53:34.343052 180864 incremental_mapper.cc:495] => Image sees 99 / 247 points\n",
      "I20240827 17:53:34.343079 180864 incremental_mapper.cc:535] => Could not register, trying another image.\n",
      "I20240827 17:53:34.343381 180864 misc.cc:198] \n",
      "==============================================================================\n",
      "Finding good initial image pair\n",
      "==============================================================================\n",
      "I20240827 17:53:34.361747 180864 misc.cc:198] \n",
      "==============================================================================\n",
      "Initializing with image pair #23 and #20\n",
      "==============================================================================\n",
      "I20240827 17:53:34.362205 180864 misc.cc:198] \n",
      "==============================================================================\n",
      "Global bundle adjustment\n",
      "==============================================================================\n",
      "I20240827 17:53:34.409771 180864 misc.cc:205] \n",
      "Bundle adjustment report\n",
      "------------------------\n",
      "I20240827 17:53:34.409797 180864 bundle_adjustment.cc:942] \n",
      "    Residuals : 536\n",
      "   Parameters : 409\n",
      "   Iterations : 101\n",
      "         Time : 0.0473309 [s]\n",
      " Initial cost : 0.477651 [px]\n",
      "   Final cost : 0.139999 [px]\n",
      "  Termination : No convergence\n",
      "\n",
      "I20240827 17:53:34.409952 180864 incremental_mapper.cc:160] => Filtered observations: 0\n",
      "I20240827 17:53:34.409960 180864 incremental_mapper.cc:167] => Filtered images: 0\n",
      "I20240827 17:53:34.421059 180864 misc.cc:198] \n",
      "==============================================================================\n",
      "Registering image #22 (3)\n",
      "==============================================================================\n",
      "I20240827 17:53:34.421082 180864 incremental_mapper.cc:495] => Image sees 112 / 255 points\n",
      "I20240827 17:53:34.421118 180864 incremental_mapper.cc:535] => Could not register, trying another image.\n",
      "I20240827 17:53:34.421126 180864 misc.cc:198] \n",
      "==============================================================================\n",
      "Registering image #17 (3)\n",
      "==============================================================================\n",
      "I20240827 17:53:34.421130 180864 incremental_mapper.cc:495] => Image sees 77 / 334 points\n",
      "I20240827 17:53:34.421162 180864 incremental_mapper.cc:535] => Could not register, trying another image.\n",
      "I20240827 17:53:34.421169 180864 misc.cc:198] \n",
      "==============================================================================\n",
      "Registering image #18 (3)\n",
      "==============================================================================\n",
      "I20240827 17:53:34.421175 180864 incremental_mapper.cc:495] => Image sees 90 / 277 points\n",
      "I20240827 17:53:34.421202 180864 incremental_mapper.cc:535] => Could not register, trying another image.\n",
      "I20240827 17:53:34.421209 180864 misc.cc:198] \n",
      "==============================================================================\n",
      "Registering image #19 (3)\n",
      "==============================================================================\n",
      "I20240827 17:53:34.421213 180864 incremental_mapper.cc:495] => Image sees 90 / 244 points\n",
      "I20240827 17:53:34.421241 180864 incremental_mapper.cc:535] => Could not register, trying another image.\n",
      "I20240827 17:53:34.421248 180864 misc.cc:198] \n",
      "==============================================================================\n",
      "Registering image #24 (3)\n",
      "==============================================================================\n",
      "I20240827 17:53:34.421274 180864 incremental_mapper.cc:495] => Image sees 99 / 241 points\n",
      "I20240827 17:53:34.421300 180864 incremental_mapper.cc:535] => Could not register, trying another image.\n",
      "I20240827 17:53:34.421308 180864 misc.cc:198] \n",
      "==============================================================================\n",
      "Registering image #25 (3)\n",
      "==============================================================================\n",
      "I20240827 17:53:34.421312 180864 incremental_mapper.cc:495] => Image sees 84 / 237 points\n",
      "I20240827 17:53:34.421339 180864 incremental_mapper.cc:535] => Could not register, trying another image.\n",
      "I20240827 17:53:34.421345 180864 misc.cc:198] \n",
      "==============================================================================\n",
      "Registering image #21 (3)\n",
      "==============================================================================\n",
      "I20240827 17:53:34.421350 180864 incremental_mapper.cc:495] => Image sees 112 / 257 points\n",
      "I20240827 17:53:34.421382 180864 incremental_mapper.cc:535] => Could not register, trying another image.\n",
      "I20240827 17:53:34.421389 180864 misc.cc:198] \n",
      "==============================================================================\n",
      "Registering image #26 (3)\n",
      "==============================================================================\n",
      "I20240827 17:53:34.421394 180864 incremental_mapper.cc:495] => Image sees 87 / 200 points\n",
      "I20240827 17:53:34.421418 180864 incremental_mapper.cc:535] => Could not register, trying another image.\n",
      "I20240827 17:53:34.421425 180864 misc.cc:198] \n",
      "==============================================================================\n",
      "Retriangulation\n",
      "==============================================================================\n",
      "I20240827 17:53:34.421473 180864 incremental_mapper.cc:175] => Completed observations: 0\n",
      "I20240827 17:53:34.421511 180864 incremental_mapper.cc:178] => Merged observations: 0\n",
      "I20240827 17:53:34.421519 180864 incremental_mapper.cc:105] => Retriangulated observations: 0\n",
      "I20240827 17:53:34.421531 180864 misc.cc:198] \n",
      "==============================================================================\n",
      "Global bundle adjustment\n",
      "==============================================================================\n",
      "I20240827 17:53:34.470147 180864 misc.cc:205] \n",
      "Bundle adjustment report\n",
      "------------------------\n",
      "I20240827 17:53:34.470176 180864 bundle_adjustment.cc:942] \n",
      "    Residuals : 536\n",
      "   Parameters : 409\n",
      "   Iterations : 101\n",
      "         Time : 0.0483859 [s]\n",
      " Initial cost : 0.139999 [px]\n",
      "   Final cost : 0.138996 [px]\n",
      "  Termination : No convergence\n",
      "\n",
      "I20240827 17:53:34.470328 180864 incremental_mapper.cc:175] => Completed observations: 0\n",
      "I20240827 17:53:34.470371 180864 incremental_mapper.cc:178] => Merged observations: 0\n",
      "I20240827 17:53:34.470427 180864 incremental_mapper.cc:160] => Filtered observations: 0\n",
      "I20240827 17:53:34.470434 180864 incremental_mapper.cc:119] => Changed observations: 0.000000\n",
      "I20240827 17:53:34.470441 180864 incremental_mapper.cc:167] => Filtered images: 0\n",
      "I20240827 17:53:34.470450 180864 misc.cc:198] \n",
      "==============================================================================\n",
      "Registering image #22 (3)\n",
      "==============================================================================\n",
      "I20240827 17:53:34.470458 180864 incremental_mapper.cc:495] => Image sees 112 / 255 points\n",
      "I20240827 17:53:34.470494 180864 incremental_mapper.cc:535] => Could not register, trying another image.\n",
      "I20240827 17:53:34.470502 180864 misc.cc:198] \n",
      "==============================================================================\n",
      "Registering image #17 (3)\n",
      "==============================================================================\n",
      "I20240827 17:53:34.470510 180864 incremental_mapper.cc:495] => Image sees 77 / 334 points\n",
      "I20240827 17:53:34.470544 180864 incremental_mapper.cc:535] => Could not register, trying another image.\n",
      "I20240827 17:53:34.470552 180864 misc.cc:198] \n",
      "==============================================================================\n",
      "Registering image #18 (3)\n",
      "==============================================================================\n",
      "I20240827 17:53:34.470578 180864 incremental_mapper.cc:495] => Image sees 90 / 277 points\n",
      "I20240827 17:53:34.470608 180864 incremental_mapper.cc:535] => Could not register, trying another image.\n",
      "I20240827 17:53:34.470616 180864 misc.cc:198] \n",
      "==============================================================================\n",
      "Registering image #19 (3)\n",
      "==============================================================================\n",
      "I20240827 17:53:34.470621 180864 incremental_mapper.cc:495] => Image sees 90 / 244 points\n",
      "I20240827 17:53:34.470649 180864 incremental_mapper.cc:535] => Could not register, trying another image.\n",
      "I20240827 17:53:34.470657 180864 misc.cc:198] \n",
      "==============================================================================\n",
      "Registering image #24 (3)\n",
      "==============================================================================\n",
      "I20240827 17:53:34.470662 180864 incremental_mapper.cc:495] => Image sees 99 / 241 points\n",
      "I20240827 17:53:34.470690 180864 incremental_mapper.cc:535] => Could not register, trying another image.\n",
      "I20240827 17:53:34.470697 180864 misc.cc:198] \n",
      "==============================================================================\n",
      "Registering image #25 (3)\n",
      "==============================================================================\n",
      "I20240827 17:53:34.470702 180864 incremental_mapper.cc:495] => Image sees 84 / 237 points\n",
      "I20240827 17:53:34.470736 180864 incremental_mapper.cc:535] => Could not register, trying another image.\n",
      "I20240827 17:53:34.470743 180864 misc.cc:198] \n",
      "==============================================================================\n",
      "Registering image #21 (3)\n",
      "==============================================================================\n",
      "I20240827 17:53:34.470748 180864 incremental_mapper.cc:495] => Image sees 112 / 257 points\n",
      "I20240827 17:53:34.470799 180864 incremental_mapper.cc:535] => Could not register, trying another image.\n",
      "I20240827 17:53:34.470806 180864 misc.cc:198] \n",
      "==============================================================================\n",
      "Registering image #26 (3)\n",
      "==============================================================================\n",
      "I20240827 17:53:34.470811 180864 incremental_mapper.cc:495] => Image sees 87 / 200 points\n",
      "I20240827 17:53:34.470835 180864 incremental_mapper.cc:535] => Could not register, trying another image.\n",
      "I20240827 17:53:34.471144 180864 misc.cc:198] \n",
      "==============================================================================\n",
      "Finding good initial image pair\n",
      "==============================================================================\n",
      "I20240827 17:53:34.534332 180864 misc.cc:198] \n",
      "==============================================================================\n",
      "Initializing with image pair #28 and #29\n",
      "==============================================================================\n",
      "I20240827 17:53:34.534869 180864 misc.cc:198] \n",
      "==============================================================================\n",
      "Global bundle adjustment\n",
      "==============================================================================\n",
      "I20240827 17:53:34.594635 180864 misc.cc:205] \n",
      "Bundle adjustment report\n",
      "------------------------\n",
      "I20240827 17:53:34.594666 180864 bundle_adjustment.cc:942] \n",
      "    Residuals : 656\n",
      "   Parameters : 499\n",
      "   Iterations : 101\n",
      "         Time : 0.0594912 [s]\n",
      " Initial cost : 0.178468 [px]\n",
      "   Final cost : 0.156735 [px]\n",
      "  Termination : No convergence\n",
      "\n",
      "I20240827 17:53:34.594856 180864 incremental_mapper.cc:160] => Filtered observations: 0\n",
      "I20240827 17:53:34.594863 180864 incremental_mapper.cc:167] => Filtered images: 0\n",
      "I20240827 17:53:34.606146 180864 misc.cc:198] \n",
      "==============================================================================\n",
      "Registering image #27 (3)\n",
      "==============================================================================\n",
      "I20240827 17:53:34.606170 180864 incremental_mapper.cc:495] => Image sees 124 / 216 points\n",
      "I20240827 17:53:34.606204 180864 incremental_mapper.cc:535] => Could not register, trying another image.\n",
      "I20240827 17:53:34.606212 180864 misc.cc:198] \n",
      "==============================================================================\n",
      "Registering image #31 (3)\n",
      "==============================================================================\n",
      "I20240827 17:53:34.606240 180864 incremental_mapper.cc:495] => Image sees 119 / 188 points\n",
      "I20240827 17:53:34.606264 180864 incremental_mapper.cc:535] => Could not register, trying another image.\n",
      "I20240827 17:53:34.606272 180864 misc.cc:198] \n",
      "==============================================================================\n",
      "Registering image #25 (3)\n",
      "==============================================================================\n",
      "I20240827 17:53:34.606277 180864 incremental_mapper.cc:495] => Image sees 102 / 237 points\n",
      "I20240827 17:53:34.606303 180864 incremental_mapper.cc:535] => Could not register, trying another image.\n",
      "I20240827 17:53:34.606310 180864 misc.cc:198] \n",
      "==============================================================================\n",
      "Registering image #26 (3)\n",
      "==============================================================================\n",
      "I20240827 17:53:34.606314 180864 incremental_mapper.cc:495] => Image sees 112 / 200 points\n",
      "I20240827 17:53:34.606341 180864 incremental_mapper.cc:535] => Could not register, trying another image.\n",
      "I20240827 17:53:34.606348 180864 misc.cc:198] \n",
      "==============================================================================\n",
      "Registering image #30 (3)\n",
      "==============================================================================\n",
      "I20240827 17:53:34.606352 180864 incremental_mapper.cc:495] => Image sees 120 / 200 points\n",
      "I20240827 17:53:34.606379 180864 incremental_mapper.cc:535] => Could not register, trying another image.\n",
      "I20240827 17:53:34.606386 180864 misc.cc:198] \n",
      "==============================================================================\n",
      "Retriangulation\n",
      "==============================================================================\n",
      "I20240827 17:53:34.606447 180864 incremental_mapper.cc:175] => Completed observations: 0\n",
      "I20240827 17:53:34.606494 180864 incremental_mapper.cc:178] => Merged observations: 0\n",
      "I20240827 17:53:34.606501 180864 incremental_mapper.cc:105] => Retriangulated observations: 0\n",
      "I20240827 17:53:34.606518 180864 misc.cc:198] \n",
      "==============================================================================\n",
      "Global bundle adjustment\n",
      "==============================================================================\n",
      "I20240827 17:53:34.667326 180864 misc.cc:205] \n",
      "Bundle adjustment report\n",
      "------------------------\n",
      "I20240827 17:53:34.667371 180864 bundle_adjustment.cc:942] \n",
      "    Residuals : 656\n",
      "   Parameters : 499\n",
      "   Iterations : 101\n",
      "         Time : 0.060514 [s]\n",
      " Initial cost : 0.156735 [px]\n",
      "   Final cost : 0.145458 [px]\n",
      "  Termination : No convergence\n",
      "\n",
      "I20240827 17:53:34.667568 180864 incremental_mapper.cc:175] => Completed observations: 0\n",
      "I20240827 17:53:34.667622 180864 incremental_mapper.cc:178] => Merged observations: 0\n",
      "I20240827 17:53:34.667690 180864 incremental_mapper.cc:160] => Filtered observations: 0\n",
      "I20240827 17:53:34.667698 180864 incremental_mapper.cc:119] => Changed observations: 0.000000\n",
      "I20240827 17:53:34.667706 180864 incremental_mapper.cc:167] => Filtered images: 0\n",
      "I20240827 17:53:34.667718 180864 misc.cc:198] \n",
      "==============================================================================\n",
      "Registering image #27 (3)\n",
      "==============================================================================\n",
      "I20240827 17:53:34.667737 180864 incremental_mapper.cc:495] => Image sees 124 / 216 points\n",
      "I20240827 17:53:34.667773 180864 incremental_mapper.cc:535] => Could not register, trying another image.\n",
      "I20240827 17:53:34.667780 180864 misc.cc:198] \n",
      "==============================================================================\n",
      "Registering image #31 (3)\n",
      "==============================================================================\n",
      "I20240827 17:53:34.667785 180864 incremental_mapper.cc:495] => Image sees 119 / 188 points\n",
      "I20240827 17:53:34.667811 180864 incremental_mapper.cc:535] => Could not register, trying another image.\n",
      "I20240827 17:53:34.667819 180864 misc.cc:198] \n",
      "==============================================================================\n",
      "Registering image #25 (3)\n",
      "==============================================================================\n",
      "I20240827 17:53:34.667851 180864 incremental_mapper.cc:495] => Image sees 102 / 237 points\n",
      "I20240827 17:53:34.667879 180864 incremental_mapper.cc:535] => Could not register, trying another image.\n",
      "I20240827 17:53:34.667887 180864 misc.cc:198] \n",
      "==============================================================================\n",
      "Registering image #26 (3)\n",
      "==============================================================================\n",
      "I20240827 17:53:34.667891 180864 incremental_mapper.cc:495] => Image sees 112 / 200 points\n",
      "I20240827 17:53:34.667923 180864 incremental_mapper.cc:535] => Could not register, trying another image.\n",
      "I20240827 17:53:34.667941 180864 misc.cc:198] \n",
      "==============================================================================\n",
      "Registering image #30 (3)\n",
      "==============================================================================\n",
      "I20240827 17:53:34.667946 180864 incremental_mapper.cc:495] => Image sees 120 / 200 points\n",
      "I20240827 17:53:34.667973 180864 incremental_mapper.cc:535] => Could not register, trying another image.\n",
      "I20240827 17:53:34.668303 180864 misc.cc:198] \n",
      "==============================================================================\n",
      "Finding good initial image pair\n",
      "==============================================================================\n",
      "I20240827 17:53:34.691278 180864 misc.cc:198] \n",
      "==============================================================================\n",
      "Initializing with image pair #29 and #30\n",
      "==============================================================================\n",
      "I20240827 17:53:34.691803 180864 misc.cc:198] \n",
      "==============================================================================\n",
      "Global bundle adjustment\n",
      "==============================================================================\n",
      "I20240827 17:53:34.751891 180864 misc.cc:205] \n",
      "Bundle adjustment report\n",
      "------------------------\n",
      "I20240827 17:53:34.751933 180864 bundle_adjustment.cc:942] \n",
      "    Residuals : 660\n",
      "   Parameters : 502\n",
      "   Iterations : 101\n",
      "         Time : 0.059799 [s]\n",
      " Initial cost : 0.163549 [px]\n",
      "   Final cost : 0.141614 [px]\n",
      "  Termination : No convergence\n",
      "\n",
      "I20240827 17:53:34.752133 180864 incremental_mapper.cc:160] => Filtered observations: 0\n",
      "I20240827 17:53:34.752143 180864 incremental_mapper.cc:167] => Filtered images: 0\n",
      "I20240827 17:53:34.763388 180864 misc.cc:198] \n",
      "==============================================================================\n",
      "Registering image #26 (3)\n",
      "==============================================================================\n",
      "I20240827 17:53:34.763413 180864 incremental_mapper.cc:495] => Image sees 103 / 200 points\n",
      "I20240827 17:53:34.763439 180864 incremental_mapper.cc:535] => Could not register, trying another image.\n",
      "I20240827 17:53:34.763446 180864 misc.cc:198] \n",
      "==============================================================================\n",
      "Registering image #27 (3)\n",
      "==============================================================================\n",
      "I20240827 17:53:34.763451 180864 incremental_mapper.cc:495] => Image sees 132 / 216 points\n",
      "I20240827 17:53:34.763481 180864 incremental_mapper.cc:535] => Could not register, trying another image.\n",
      "I20240827 17:53:34.763489 180864 misc.cc:198] \n",
      "==============================================================================\n",
      "Registering image #28 (3)\n",
      "==============================================================================\n",
      "I20240827 17:53:34.763494 180864 incremental_mapper.cc:495] => Image sees 133 / 229 points\n",
      "I20240827 17:53:34.763523 180864 incremental_mapper.cc:535] => Could not register, trying another image.\n",
      "I20240827 17:53:34.763531 180864 misc.cc:198] \n",
      "==============================================================================\n",
      "Registering image #31 (3)\n",
      "==============================================================================\n",
      "I20240827 17:53:34.763535 180864 incremental_mapper.cc:495] => Image sees 133 / 188 points\n",
      "I20240827 17:53:34.763564 180864 incremental_mapper.cc:535] => Could not register, trying another image.\n",
      "I20240827 17:53:34.763572 180864 misc.cc:198] \n",
      "==============================================================================\n",
      "Retriangulation\n",
      "==============================================================================\n",
      "I20240827 17:53:34.763655 180864 incremental_mapper.cc:175] => Completed observations: 0\n",
      "I20240827 17:53:34.763701 180864 incremental_mapper.cc:178] => Merged observations: 0\n",
      "I20240827 17:53:34.763708 180864 incremental_mapper.cc:105] => Retriangulated observations: 0\n",
      "I20240827 17:53:34.763723 180864 misc.cc:198] \n",
      "==============================================================================\n",
      "Global bundle adjustment\n",
      "==============================================================================\n",
      "I20240827 17:53:34.823403 180864 misc.cc:205] \n",
      "Bundle adjustment report\n",
      "------------------------\n",
      "I20240827 17:53:34.823441 180864 bundle_adjustment.cc:942] \n",
      "    Residuals : 660\n",
      "   Parameters : 502\n",
      "   Iterations : 101\n",
      "         Time : 0.0593991 [s]\n",
      " Initial cost : 0.141614 [px]\n",
      "   Final cost : 0.133473 [px]\n",
      "  Termination : No convergence\n",
      "\n",
      "I20240827 17:53:34.823632 180864 incremental_mapper.cc:175] => Completed observations: 0\n",
      "I20240827 17:53:34.823679 180864 incremental_mapper.cc:178] => Merged observations: 0\n",
      "I20240827 17:53:34.823748 180864 incremental_mapper.cc:160] => Filtered observations: 0\n",
      "I20240827 17:53:34.823755 180864 incremental_mapper.cc:119] => Changed observations: 0.000000\n",
      "I20240827 17:53:34.823763 180864 incremental_mapper.cc:167] => Filtered images: 0\n",
      "I20240827 17:53:34.823773 180864 misc.cc:198] \n",
      "==============================================================================\n",
      "Registering image #26 (3)\n",
      "==============================================================================\n",
      "I20240827 17:53:34.823781 180864 incremental_mapper.cc:495] => Image sees 103 / 200 points\n",
      "I20240827 17:53:34.823807 180864 incremental_mapper.cc:535] => Could not register, trying another image.\n",
      "I20240827 17:53:34.823815 180864 misc.cc:198] \n",
      "==============================================================================\n",
      "Registering image #27 (3)\n",
      "==============================================================================\n",
      "I20240827 17:53:34.823820 180864 incremental_mapper.cc:495] => Image sees 132 / 216 points\n",
      "I20240827 17:53:34.823853 180864 incremental_mapper.cc:535] => Could not register, trying another image.\n",
      "I20240827 17:53:34.823861 180864 misc.cc:198] \n",
      "==============================================================================\n",
      "Registering image #28 (3)\n",
      "==============================================================================\n",
      "I20240827 17:53:34.823865 180864 incremental_mapper.cc:495] => Image sees 133 / 229 points\n",
      "I20240827 17:53:34.823897 180864 incremental_mapper.cc:535] => Could not register, trying another image.\n",
      "I20240827 17:53:34.823905 180864 misc.cc:198] \n",
      "==============================================================================\n",
      "Registering image #31 (3)\n",
      "==============================================================================\n",
      "I20240827 17:53:34.823909 180864 incremental_mapper.cc:495] => Image sees 133 / 188 points\n",
      "I20240827 17:53:34.823936 180864 incremental_mapper.cc:535] => Could not register, trying another image.\n",
      "I20240827 17:53:34.824266 180864 misc.cc:198] \n",
      "==============================================================================\n",
      "Finding good initial image pair\n",
      "==============================================================================\n",
      "I20240827 17:53:34.833755 180864 incremental_mapper.cc:404] => No good initial image pair found.\n",
      "I20240827 17:53:34.833811 180864 timer.cc:91] Elapsed time: 0.052 [minutes]\n",
      "[2024/08/27 17:53:34 hloc INFO] Reconstructed 1 model(s).\n",
      "[2024/08/27 17:53:34 hloc INFO] Largest model is #0 with 2 images.\n",
      "[2024/08/27 17:53:34 hloc INFO] Reconstruction statistics:\n",
      "Reconstruction:\n",
      "\tnum_reg_images = 2\n",
      "\tnum_cameras = 1\n",
      "\tnum_points3D = 364\n",
      "\tnum_observations = 728\n",
      "\tmean_track_length = 2\n",
      "\tmean_observations_per_image = 364\n",
      "\tmean_reprojection_error = 0.3973\n",
      "\tnum_input_images = 31\n"
     ]
    },
    {
     "data": {
      "application/vnd.plotly.v1+json": {
       "config": {
        "plotlyServerURL": "https://plot.ly"
       },
       "data": [
        {
         "legendgroup": "images",
         "marker": {
          "color": [
           [
            45,
            46,
            47
           ],
           [
            34,
            35,
            37
           ],
           [
            17,
            19,
            16
           ],
           [
            2,
            4,
            1
           ],
           [
            24,
            27,
            22
           ],
           [
            27,
            28,
            32
           ],
           [
            28,
            29,
            34
           ],
           [
            37,
            42,
            36
           ],
           [
            46,
            50,
            45
           ],
           [
            183,
            187,
            188
           ],
           [
            128,
            132,
            132
           ],
           [
            76,
            80,
            80
           ],
           [
            54,
            58,
            60
           ],
           [
            169,
            170,
            174
           ],
           [
            29,
            28,
            27
           ],
           [
            37,
            39,
            40
           ],
           [
            88,
            91,
            83
           ],
           [
            43,
            46,
            39
           ],
           [
            160,
            163,
            155
           ],
           [
            80,
            82,
            78
           ],
           [
            98,
            103,
            99
           ],
           [
            67,
            69,
            66
           ],
           [
            45,
            48,
            42
           ],
           [
            29,
            29,
            28
           ],
           [
            184,
            190,
            179
           ],
           [
            36,
            40,
            33
           ],
           [
            129,
            133,
            122
           ],
           [
            75,
            80,
            73
           ],
           [
            170,
            173,
            164
           ],
           [
            171,
            174,
            168
           ],
           [
            171,
            177,
            168
           ],
           [
            183,
            187,
            180
           ],
           [
            189,
            194,
            182
           ],
           [
            156,
            159,
            151
           ],
           [
            155,
            157,
            152
           ],
           [
            168,
            171,
            161
           ],
           [
            215,
            217,
            212
           ],
           [
            186,
            188,
            183
           ],
           [
            164,
            166,
            161
           ],
           [
            163,
            166,
            161
           ],
           [
            170,
            173,
            166
           ],
           [
            177,
            180,
            169
           ],
           [
            42,
            45,
            36
           ],
           [
            155,
            157,
            152
           ],
           [
            174,
            177,
            165
           ],
           [
            222,
            235,
            237
           ],
           [
            220,
            222,
            217
           ],
           [
            184,
            186,
            181
           ],
           [
            181,
            183,
            172
           ],
           [
            11,
            14,
            9
           ],
           [
            135,
            137,
            131
           ],
           [
            99,
            102,
            95
           ],
           [
            53,
            76,
            115
           ],
           [
            109,
            133,
            170
           ],
           [
            191,
            203,
            209
           ],
           [
            21,
            40,
            116
           ],
           [
            163,
            172,
            190
           ],
           [
            115,
            134,
            173
           ],
           [
            113,
            143,
            189
           ],
           [
            127,
            159,
            205
           ],
           [
            24,
            38,
            78
           ],
           [
            41,
            62,
            116
           ],
           [
            33,
            56,
            117
           ],
           [
            74,
            95,
            159
           ],
           [
            18,
            43,
            117
           ],
           [
            76,
            103,
            181
           ],
           [
            138,
            143,
            136
           ],
           [
            158,
            162,
            156
           ],
           [
            187,
            189,
            178
           ],
           [
            94,
            123,
            160
           ],
           [
            180,
            185,
            177
           ],
           [
            181,
            184,
            176
           ],
           [
            194,
            199,
            193
           ],
           [
            49,
            69,
            121
           ],
           [
            120,
            122,
            112
           ],
           [
            202,
            207,
            200
           ],
           [
            117,
            138,
            171
           ],
           [
            46,
            81,
            174
           ],
           [
            122,
            153,
            172
           ],
           [
            127,
            128,
            120
           ],
           [
            84,
            89,
            82
           ],
           [
            69,
            91,
            145
           ],
           [
            20,
            57,
            117
           ],
           [
            42,
            70,
            121
           ],
           [
            99,
            128,
            180
           ],
           [
            168,
            171,
            162
           ],
           [
            148,
            152,
            144
           ],
           [
            123,
            137,
            167
           ],
           [
            124,
            147,
            190
           ],
           [
            17,
            39,
            96
           ],
           [
            66,
            85,
            145
           ],
           [
            216,
            215,
            211
           ],
           [
            205,
            203,
            199
           ],
           [
            129,
            132,
            121
           ],
           [
            164,
            165,
            148
           ],
           [
            185,
            196,
            195
           ],
           [
            199,
            199,
            182
           ],
           [
            56,
            83,
            114
           ],
           [
            123,
            143,
            170
           ],
           [
            34,
            70,
            125
           ],
           [
            73,
            93,
            128
           ],
           [
            31,
            51,
            116
           ],
           [
            115,
            134,
            170
           ],
           [
            68,
            82,
            141
           ],
           [
            56,
            77,
            132
           ],
           [
            147,
            150,
            141
           ],
           [
            92,
            66,
            67
           ],
           [
            186,
            188,
            183
           ],
           [
            204,
            207,
            200
           ],
           [
            137,
            112,
            118
           ],
           [
            219,
            221,
            220
           ],
           [
            99,
            67,
            70
           ],
           [
            205,
            208,
            201
           ],
           [
            226,
            222,
            221
           ],
           [
            198,
            162,
            162
           ],
           [
            207,
            213,
            203
           ],
           [
            135,
            109,
            120
           ],
           [
            113,
            116,
            105
           ],
           [
            197,
            199,
            194
           ],
           [
            204,
            205,
            200
           ],
           [
            211,
            216,
            210
           ],
           [
            211,
            221,
            212
           ],
           [
            112,
            29,
            45
           ],
           [
            214,
            186,
            183
           ],
           [
            85,
            82,
            91
           ],
           [
            243,
            245,
            242
           ],
           [
            238,
            240,
            235
           ],
           [
            155,
            142,
            152
           ],
           [
            70,
            73,
            80
           ],
           [
            194,
            198,
            184
           ],
           [
            142,
            145,
            138
           ],
           [
            134,
            137,
            128
           ],
           [
            132,
            96,
            98
           ],
           [
            122,
            91,
            97
           ],
           [
            223,
            222,
            227
           ],
           [
            201,
            208,
            192
           ],
           [
            151,
            135,
            136
           ],
           [
            145,
            147,
            142
           ],
           [
            251,
            253,
            250
           ],
           [
            178,
            184,
            170
           ],
           [
            88,
            81,
            73
           ],
           [
            211,
            217,
            203
           ],
           [
            232,
            233,
            237
           ],
           [
            229,
            234,
            227
           ],
           [
            130,
            132,
            127
           ],
           [
            229,
            231,
            226
           ],
           [
            224,
            226,
            221
           ],
           [
            231,
            233,
            228
           ],
           [
            212,
            214,
            209
           ],
           [
            232,
            231,
            245
           ],
           [
            145,
            147,
            144
           ],
           [
            215,
            220,
            214
           ],
           [
            116,
            118,
            115
           ],
           [
            203,
            206,
            199
           ],
           [
            187,
            189,
            186
           ],
           [
            211,
            214,
            207
           ],
           [
            155,
            154,
            168
           ],
           [
            98,
            101,
            94
           ],
           [
            136,
            138,
            135
           ],
           [
            221,
            223,
            218
           ],
           [
            130,
            133,
            124
           ],
           [
            146,
            148,
            145
           ],
           [
            218,
            221,
            214
           ],
           [
            193,
            196,
            189
           ],
           [
            213,
            215,
            210
           ],
           [
            213,
            215,
            210
           ],
           [
            224,
            224,
            234
           ],
           [
            220,
            222,
            217
           ],
           [
            78,
            78,
            90
           ],
           [
            202,
            205,
            198
           ],
           [
            108,
            108,
            118
           ],
           [
            17,
            20,
            29
           ],
           [
            32,
            34,
            31
           ],
           [
            222,
            224,
            221
           ],
           [
            102,
            103,
            108
           ],
           [
            252,
            254,
            251
           ],
           [
            145,
            146,
            151
           ],
           [
            63,
            65,
            62
           ],
           [
            45,
            47,
            44
           ],
           [
            226,
            228,
            225
           ],
           [
            254,
            255,
            255
           ],
           [
            62,
            64,
            59
           ],
           [
            249,
            251,
            248
           ],
           [
            254,
            255,
            255
           ],
           [
            90,
            90,
            98
           ],
           [
            245,
            246,
            251
           ],
           [
            224,
            226,
            223
           ],
           [
            250,
            252,
            247
           ],
           [
            205,
            205,
            215
           ],
           [
            238,
            239,
            244
           ],
           [
            222,
            223,
            228
           ],
           [
            254,
            255,
            255
           ],
           [
            241,
            242,
            244
           ],
           [
            219,
            222,
            215
           ],
           [
            95,
            97,
            94
           ],
           [
            249,
            251,
            248
           ],
           [
            247,
            249,
            248
           ],
           [
            174,
            178,
            179
           ],
           [
            248,
            250,
            247
           ],
           [
            76,
            78,
            73
           ],
           [
            50,
            52,
            49
           ],
           [
            250,
            252,
            249
           ],
           [
            148,
            149,
            154
           ],
           [
            214,
            214,
            222
           ],
           [
            232,
            234,
            229
           ],
           [
            55,
            55,
            63
           ],
           [
            212,
            213,
            218
           ],
           [
            238,
            240,
            237
           ],
           [
            31,
            32,
            36
           ],
           [
            234,
            235,
            237
           ],
           [
            248,
            250,
            245
           ],
           [
            228,
            230,
            225
           ],
           [
            251,
            253,
            250
           ],
           [
            87,
            89,
            84
           ],
           [
            85,
            87,
            84
           ],
           [
            204,
            205,
            207
           ],
           [
            218,
            220,
            219
           ],
           [
            172,
            173,
            178
           ],
           [
            211,
            213,
            210
           ],
           [
            225,
            227,
            222
           ],
           [
            217,
            218,
            220
           ],
           [
            217,
            219,
            218
           ],
           [
            131,
            133,
            130
           ],
           [
            167,
            167,
            175
           ],
           [
            85,
            85,
            95
           ],
           [
            124,
            124,
            136
           ],
           [
            213,
            215,
            210
           ],
           [
            40,
            41,
            46
           ],
           [
            18,
            18,
            28
           ],
           [
            48,
            50,
            47
           ],
           [
            193,
            195,
            190
           ],
           [
            73,
            79,
            69
           ],
           [
            186,
            190,
            189
           ],
           [
            200,
            202,
            199
           ],
           [
            104,
            90,
            89
           ],
           [
            90,
            77,
            86
           ],
           [
            147,
            110,
            117
           ],
           [
            186,
            188,
            185
           ],
           [
            185,
            189,
            188
           ],
           [
            89,
            38,
            47
           ],
           [
            100,
            23,
            39
           ],
           [
            216,
            177,
            180
           ],
           [
            186,
            189,
            178
           ],
           [
            114,
            87,
            86
           ],
           [
            147,
            20,
            28
           ],
           [
            101,
            66,
            72
           ],
           [
            153,
            155,
            149
           ],
           [
            113,
            40,
            49
           ],
           [
            110,
            113,
            106
           ],
           [
            155,
            158,
            150
           ],
           [
            107,
            23,
            33
           ],
           [
            208,
            142,
            154
           ],
           [
            109,
            26,
            35
           ],
           [
            147,
            9,
            17
           ],
           [
            98,
            53,
            56
           ],
           [
            86,
            91,
            86
           ],
           [
            64,
            38,
            28
           ],
           [
            118,
            19,
            29
           ],
           [
            134,
            11,
            28
           ],
           [
            119,
            121,
            118
           ],
           [
            50,
            28,
            24
           ],
           [
            121,
            3,
            5
           ],
           [
            131,
            112,
            103
           ],
           [
            97,
            25,
            20
           ],
           [
            106,
            15,
            25
           ],
           [
            119,
            122,
            117
           ],
           [
            161,
            164,
            156
           ],
           [
            137,
            15,
            21
           ],
           [
            123,
            8,
            19
           ],
           [
            52,
            31,
            24
           ],
           [
            224,
            216,
            207
           ],
           [
            107,
            110,
            103
           ],
           [
            113,
            20,
            18
           ],
           [
            146,
            149,
            138
           ],
           [
            73,
            28,
            19
           ],
           [
            123,
            1,
            4
           ],
           [
            119,
            6,
            12
           ],
           [
            56,
            59,
            50
           ],
           [
            105,
            109,
            96
           ],
           [
            111,
            115,
            99
           ],
           [
            138,
            9,
            13
           ],
           [
            153,
            157,
            143
           ],
           [
            131,
            109,
            102
           ],
           [
            153,
            157,
            145
           ],
           [
            123,
            27,
            32
           ],
           [
            109,
            70,
            58
           ],
           [
            82,
            39,
            37
           ],
           [
            198,
            178,
            172
           ],
           [
            107,
            5,
            15
           ],
           [
            140,
            70,
            61
           ],
           [
            155,
            30,
            35
           ],
           [
            165,
            170,
            163
           ],
           [
            86,
            62,
            51
           ],
           [
            109,
            68,
            62
           ],
           [
            104,
            80,
            72
           ],
           [
            166,
            166,
            154
           ],
           [
            150,
            154,
            144
           ],
           [
            137,
            140,
            133
           ],
           [
            63,
            26,
            20
           ],
           [
            153,
            89,
            80
           ],
           [
            170,
            110,
            103
           ],
           [
            161,
            105,
            100
           ],
           [
            150,
            106,
            101
           ],
           [
            118,
            98,
            90
           ],
           [
            213,
            200,
            195
           ],
           [
            140,
            141,
            133
           ],
           [
            100,
            6,
            15
           ],
           [
            94,
            85,
            79
           ],
           [
            110,
            115,
            116
           ],
           [
            130,
            133,
            124
           ],
           [
            141,
            143,
            131
           ],
           [
            142,
            150,
            148
           ],
           [
            138,
            145,
            141
           ],
           [
            123,
            128,
            126
           ],
           [
            118,
            122,
            123
           ],
           [
            83,
            47,
            39
           ],
           [
            87,
            95,
            98
           ],
           [
            86,
            95,
            104
           ],
           [
            72,
            82,
            92
           ],
           [
            196,
            181,
            173
           ],
           [
            144,
            120,
            110
           ],
           [
            117,
            86,
            77
           ],
           [
            66,
            16,
            17
           ],
           [
            129,
            61,
            58
           ],
           [
            163,
            128,
            117
           ],
           [
            55,
            51,
            41
           ],
           [
            174,
            175,
            167
           ],
           [
            101,
            76,
            64
           ],
           [
            140,
            102,
            97
           ],
           [
            28,
            34,
            58
           ],
           [
            78,
            86,
            92
           ],
           [
            79,
            81,
            76
           ],
           [
            54,
            62,
            88
           ],
           [
            121,
            110,
            100
           ],
           [
            74,
            69,
            60
           ],
           [
            89,
            10,
            19
           ],
           [
            19,
            35,
            60
           ],
           [
            39,
            56,
            101
           ],
           [
            31,
            26,
            20
           ],
           [
            100,
            87,
            75
           ],
           [
            150,
            126,
            112
           ],
           [
            149,
            147,
            138
           ],
           [
            28,
            45,
            67
           ],
           [
            89,
            69,
            63
           ],
           [
            162,
            165,
            156
           ],
           [
            125,
            116,
            108
           ],
           [
            121,
            109,
            103
           ],
           [
            163,
            171,
            173
           ],
           [
            106,
            109,
            102
           ],
           [
            20,
            13,
            12
           ],
           [
            66,
            52,
            46
           ],
           [
            90,
            113,
            147
           ],
           [
            73,
            66,
            57
           ],
           [
            90,
            111,
            161
           ],
           [
            133,
            153,
            188
           ],
           [
            109,
            128,
            177
           ],
           [
            40,
            62,
            135
           ]
          ],
          "line": {
           "width": 0
          },
          "size": 1
         },
         "mode": "markers",
         "name": "images",
         "type": "scatter3d",
         "x": [
          -2.502240538991498,
          -2.529952916339316,
          -2.5775195680596577,
          -2.630403650638823,
          -2.6509841002548753,
          -2.547121392493403,
          -2.514726540238911,
          -2.6783067264109874,
          -2.7030248737652025,
          -2.4896017526695475,
          -2.519914194199235,
          -2.5403135892474396,
          -2.5584165025889436,
          -2.578588337286231,
          -2.679615060714672,
          -2.6022904098521926,
          -2.519127369819355,
          -2.543059919915156,
          -2.559754808854157,
          -2.619464388787178,
          -2.706824120028304,
          -2.584621446651939,
          -2.6004885402988007,
          -2.6902913044917516,
          -2.6286663987700405,
          -2.0657517347719705,
          -2.610704336384405,
          -2.033891588966,
          -2.1236311796738367,
          -2.6924702227421697,
          -2.085438602735413,
          -2.071458848157669,
          -2.0574671154287723,
          -2.619986145043685,
          -2.626890870859719,
          -2.0108696990914225,
          -2.577361245918119,
          -2.596457247224265,
          -2.6316024846688797,
          -2.157865508091922,
          -2.65420550576477,
          -2.0002303122461114,
          -1.9821057996312037,
          -2.117231805233451,
          -2.028533161538253,
          -2.4723560154400928,
          -2.637607520552416,
          -2.6823408087021967,
          -2.093944229688983,
          -1.9632006080421769,
          -2.7246455091962605,
          -1.986826655797032,
          -2.4341122780911677,
          -2.3392317164290684,
          -2.485419498918301,
          -2.4683858459461536,
          -2.292098286733078,
          -2.4033923099802244,
          -2.412559480943907,
          -2.446664742466487,
          -2.3059495459319725,
          -2.316229379410565,
          -2.3644922310585588,
          -2.3873362661763284,
          -2.437685175539222,
          -2.4580872777120994,
          -2.5793771194383677,
          -2.6075267859318076,
          -2.0012804908585293,
          -2.332400991249658,
          -2.595009902866403,
          -2.623109580762212,
          -2.1533663395663467,
          -2.47080022755196,
          -2.626689608549833,
          -2.190629271454063,
          -2.308368529966961,
          -2.402260986820512,
          -2.4502811193601888,
          -2.7298319904304504,
          -2.180091089298346,
          -2.317394178097214,
          -2.41845538602338,
          -2.4388453735061453,
          -2.4604539800929413,
          -2.710989886947834,
          -2.1604142354644598,
          -2.292360148350449,
          -2.3360711208005878,
          -2.3555351553462773,
          -2.384080597195324,
          -2.5737780775016943,
          -2.5964143599339,
          -2.1383580730971135,
          -2.6435832855568964,
          -2.4891463032272427,
          -2.657126315186767,
          -2.345261273299684,
          -2.3693224981432213,
          -2.418573556526734,
          -2.473064148480427,
          -2.317597047463371,
          -2.3325210753857517,
          -2.3578565072778934,
          -2.387744743818643,
          -1.984494829211352,
          -2.106907179589018,
          -2.2461973680670724,
          -2.265810192138507,
          -2.694992724552241,
          -2.659557246131379,
          -2.097556758414978,
          -2.1988615870399433,
          -2.6769816653930443,
          -2.025484452293762,
          -2.184192348187418,
          -2.703375741452255,
          -1.988893880901368,
          -2.152271107317191,
          -2.1332296500868813,
          -2.1220806571546356,
          -2.1087736849892535,
          -2.0448404016460566,
          -2.0719818894213313,
          -2.728864766773539,
          -2.657753235240762,
          -2.6767401883613524,
          -2.7114580563420096,
          -2.729255517378113,
          -2.00529052319801,
          -1.9783913437326344,
          -1.9891965306257897,
          -2.027390428368746,
          -2.0495768343868326,
          -2.701938239424029,
          -2.013048185903551,
          -2.0430667249407843,
          -1.989069116420801,
          -2.1128153151449665,
          -2.0016248809361192,
          -2.031322822257093,
          -2.0187332792050103,
          -2.1204064084314784,
          -2.019769357702514,
          -1.9884090624913728,
          -2.0717357994531267,
          -2.0856093566175664,
          -2.103286927886362,
          -2.0134720429676958,
          -2.121520764356771,
          -2.7080235618828388,
          -2.0693113729322854,
          -2.709372340595977,
          -2.0068256965056928,
          -2.6968199790221106,
          -2.0221679908899612,
          -2.1220732384259913,
          -2.710399997718131,
          -2.6997638194658156,
          -2.102771137601352,
          -2.005572711440462,
          -2.6995085203009284,
          -2.027988218003742,
          -2.0127374357324372,
          -2.0739840536999528,
          -2.055676177934291,
          -2.1226254136571905,
          -2.0795141106405453,
          -2.1560395951544615,
          -2.087649314666704,
          -2.125951950446375,
          -2.1844451593257124,
          -2.066737437133823,
          -2.1306631548514345,
          -2.1705068080521355,
          -2.587266753635758,
          -2.1809405463445106,
          -2.09717787840949,
          -2.114726005719374,
          -2.1300577084012984,
          -2.1837668378067914,
          -2.107616269363238,
          -2.1837376030999502,
          -2.617989288826212,
          -2.6344970695637473,
          -2.1603192958665605,
          -2.128710501286604,
          -2.1420828334319193,
          -2.146410971748036,
          -2.148308235011226,
          -2.151799141414182,
          -2.175290121681864,
          -2.1531306787687012,
          -2.126759851206301,
          -2.1009354507978877,
          -2.1794950702516216,
          -2.157916011017057,
          -2.5818234222188536,
          -2.180796962985399,
          -2.1151398754849344,
          -2.1136945807006984,
          -2.2269304946178345,
          -2.603041121415849,
          -2.640835897552757,
          -2.1957057344940054,
          -2.180422713305714,
          -2.1710667995038655,
          -2.5817265731428063,
          -2.605467278338931,
          -2.5951287280307707,
          -2.16821378079945,
          -2.1377678636010122,
          -2.607490462565492,
          -2.10671902268747,
          -2.097323251074108,
          -2.1671593671865614,
          -2.1484363930847508,
          -2.1894524739105066,
          -2.1325770780547293,
          -2.116689347889342,
          -2.6289057356026237,
          -2.61720546349632,
          -2.0949945463260353,
          -2.589340050251453,
          -2.1466573674332836,
          -2.1327783530291824,
          -2.1107558714538373,
          -2.638961990577223,
          -2.1677293321893956,
          -2.078032798021002,
          -2.287208618748774,
          -1.957529703862214,
          -2.581038673723578,
          -2.548492971952554,
          -2.125624471111593,
          -2.727956797873007,
          -2.6752529919993595,
          -2.52282503488101,
          -2.4512538614974986,
          -2.713764911615007,
          -2.7061017827207396,
          -2.02492355016915,
          -2.005006375825036,
          -2.143302883352204,
          -2.052117314387311,
          -2.6604017091408294,
          -2.194395164203163,
          -2.6894065759589973,
          -1.981590337771534,
          -2.2072640063913584,
          -2.1213275391959354,
          -2.026398986589261,
          -2.680328394523532,
          -2.069816136358967,
          -2.634266020872105,
          -2.400410519438772,
          -2.1759003391596043,
          -2.1342503020848707,
          -2.0450843973260358,
          -2.3754207666148504,
          -2.1898553315573897,
          -2.0872712108676357,
          -2.610607049091342,
          -2.103687355099447,
          -2.6544601241089323,
          -2.372018387217694,
          -2.2373567041655673,
          -2.698192376187409,
          -2.6296141756151106,
          -2.2162484034424716,
          -2.0193531651824457,
          -1.9825169101929647,
          -2.091949955016014,
          -2.728586016145755,
          -2.7102657775462733,
          -2.1409967204061324,
          -2.6756423865900945,
          -2.40620397065407,
          -2.39472782962509,
          -2.3821993615339228,
          -2.1618166463084667,
          -2.370673136779332,
          -2.558596530186975,
          -2.41638465225376,
          -2.2058340750524965,
          -2.0767755610196352,
          -2.0452147631969053,
          -2.0298100261223286,
          -2.6497979893321895,
          -2.691243529231202,
          -2.622701585097789,
          -2.2442114113753933,
          -2.109511465540449,
          -2.0965648867903406,
          -2.056920097979998,
          -2.7214091626574,
          -2.2993521795827077,
          -2.278543261550446,
          -2.219869235849059,
          -2.159412921202353,
          -2.149009727330584,
          -2.1375194176031713,
          -2.1258603621428174,
          -2.0720948972046416,
          -2.0381355820355074,
          -2.7306572571057552,
          -2.566305093560375,
          -2.5448572006110814,
          -2.3249200131715786,
          -2.5233904464821144,
          -2.509734763382083,
          -2.4699418291458826,
          -2.4504068809930373,
          -2.3706600517322873,
          -2.3546777553883267,
          -2.674439362936727,
          -2.4322288089162036,
          -2.416465296099635,
          -2.3991542543715076,
          -2.713224948886886,
          -2.6988421336501034,
          -2.6875690125871428,
          -2.553908789383658,
          -2.202332696716864,
          -2.1769227588766658,
          -2.1094408468742403,
          -2.728916578266105,
          -2.648630475367272,
          -2.630560524545667,
          -2.33848734856325,
          -2.2982034683921344,
          -2.7391874972235,
          -2.3682941121328045,
          -2.1386986507354493,
          -2.1268519562936734,
          -2.566423447036754,
          -2.4515508693235923,
          -2.394706337871057,
          -2.153747162093688,
          -2.6675607991720307,
          -2.5968780413212356,
          -2.5422518330583728,
          -2.4754250078267384,
          -2.187251059785194,
          -1.9644927165470465,
          -2.642750304873837,
          -2.6169315875860604,
          -2.4880469443953825,
          -1.984705060690223,
          -2.6324361281665514,
          -2.5852353456249406,
          -2.3083991024967916,
          -2.5998183153424606,
          -2.462944790307082,
          -2.449237710982975,
          -2.4378052461712736,
          -2.4047079234328224
         ],
         "y": [
          5.53125347607596,
          5.528782347954712,
          5.523245142231124,
          5.517146150231767,
          5.512660043086846,
          5.509095346090177,
          5.506053534941337,
          5.473189076155279,
          5.4679768676920215,
          5.459570641865948,
          5.4580174937728625,
          5.457702016592387,
          5.457313983279546,
          5.451577108338071,
          5.449051863878319,
          5.441261228837364,
          5.439106267296259,
          5.43911290935875,
          5.433079704562115,
          5.431668782303108,
          5.429369119686873,
          5.432584021585457,
          5.427546833189437,
          5.420461773551221,
          5.417161626511662,
          5.426283497212797,
          5.412648548170134,
          5.421265371675231,
          5.418835679786493,
          5.4053408835764944,
          5.415357922363317,
          5.410614330951509,
          5.4058646207537056,
          5.393201919905701,
          5.3833684164687075,
          5.383139259915259,
          5.36993768962939,
          5.369170913424615,
          5.364236309105111,
          5.370873889049545,
          5.358966965413691,
          5.368817747952882,
          5.364795505726388,
          5.361816603404865,
          5.358273610356257,
          5.3481468433241695,
          5.345152109436366,
          5.3437962611583565,
          5.352246395016911,
          5.355705794756108,
          5.333186940721847,
          5.345760731035623,
          5.335518299713874,
          5.332735185172329,
          5.329746750713955,
          5.330156013908832,
          5.32868621556697,
          5.326524710493036,
          5.326427786346736,
          5.325348560823278,
          5.3285560103874,
          5.328107427439138,
          5.327497430438985,
          5.32669254671802,
          5.326016714750583,
          5.325222111655597,
          5.322568320992115,
          5.321852652296171,
          5.331072683752499,
          5.323097520150798,
          5.316988050621315,
          5.316273099126299,
          5.321511325417843,
          5.315617238753154,
          5.311614328584842,
          5.316349926881973,
          5.313960993965381,
          5.311647497340767,
          5.310999854742349,
          5.304730952108759,
          5.316652288357732,
          5.313178070203623,
          5.312044323509783,
          5.311121775168987,
          5.3105347036062,
          5.305177216353856,
          5.311704854464873,
          5.309380885467183,
          5.308847972315625,
          5.3083141577297255,
          5.307542718120226,
          5.303143197807541,
          5.3027114265283455,
          5.312772102601,
          5.296760496000077,
          5.300745525915385,
          5.296422981950943,
          5.298905146443362,
          5.298329294659968,
          5.297498069688771,
          5.295675319632503,
          5.299156516029143,
          5.293810642790854,
          5.293579238483572,
          5.2932986773719115,
          5.2116491836265375,
          5.209595028853435,
          5.206294671731678,
          5.205831238228884,
          5.19806209742829,
          5.196482898157324,
          5.2047266084488495,
          5.202695763743423,
          5.193614495733341,
          5.203323961222008,
          5.2000712014345005,
          5.190654994121957,
          5.202133337016569,
          5.198546829075644,
          5.196774162300887,
          5.19445606632779,
          5.192310060640709,
          5.1910343454210945,
          5.190759560930804,
          5.178180625888453,
          5.177435153991759,
          5.177117671623508,
          5.176436148832458,
          5.169004813382459,
          5.179439551781508,
          5.177808350178854,
          5.177606882874901,
          5.176153129326922,
          5.17624568540951,
          5.162645104908217,
          5.1711047267588715,
          5.16403149954759,
          5.16212821043929,
          5.160090968155867,
          5.159874139097928,
          5.154206094247732,
          5.152010075953971,
          5.142920631618649,
          5.142285360072414,
          5.13583313937772,
          5.1259022271173915,
          5.125674819066777,
          5.125955320744355,
          5.115372341370076,
          5.113510198081416,
          5.104549143586521,
          5.10711153990216,
          5.094940036409618,
          5.103552823982476,
          5.090064024770188,
          5.097784847429299,
          5.096319216255262,
          5.084866797846068,
          5.077951059169386,
          5.084421189263406,
          5.083417552471676,
          5.065945986986856,
          5.072703275404665,
          5.0680972949811505,
          5.068017788713664,
          5.055727479901954,
          5.054423418910469,
          5.045388981344786,
          5.033602096785367,
          5.030205825250807,
          5.0300168572993655,
          5.025542995163036,
          5.02552254493186,
          4.950763671134601,
          4.947911337053224,
          4.942557146048536,
          4.945112797446889,
          4.938690107602717,
          4.938381837693919,
          4.931273086456546,
          4.927428436394848,
          4.918514228619088,
          4.917523242132106,
          4.910728846649507,
          4.908278325075658,
          4.91043759588449,
          4.903643901268877,
          4.902996489367352,
          4.823869428287647,
          4.841266438167503,
          4.853378024852013,
          4.867977361366881,
          4.868252829354011,
          4.868880647073961,
          4.876282178344757,
          4.885327805585922,
          4.893074303002649,
          4.89397088507353,
          4.900159286836539,
          4.901162309433282,
          4.950721937706097,
          4.951853799781254,
          4.950908891332427,
          4.951517368051027,
          4.957783499508196,
          4.957456745940128,
          4.957456214148721,
          4.960038584311855,
          4.962086753736585,
          4.961772658724341,
          4.9701937869951,
          4.975149853773324,
          4.973903163522943,
          4.985428998758772,
          4.987908795728204,
          4.989909590274577,
          4.992393075876615,
          4.99722621094897,
          4.997392620587053,
          4.997444034117809,
          4.993023245797982,
          4.993441485817582,
          5.002778656704706,
          5.000831740301658,
          5.006861745045613,
          5.010001089067055,
          5.014451566943153,
          5.0121511271437225,
          5.021666401450064,
          5.0250363614843465,
          5.208223345868969,
          5.215007437709803,
          5.204762653657202,
          5.2061187029522795,
          5.213896825349414,
          5.204890815170129,
          5.205996762273433,
          5.2084993176033585,
          5.21016000810299,
          5.207582083594563,
          5.207815539747887,
          5.220452713886232,
          5.2208656717162665,
          5.219642933444389,
          5.221278077423628,
          5.2147226091059835,
          5.223576703721799,
          5.213705080425914,
          5.227675884111038,
          5.2287351622918035,
          5.230579537498029,
          5.231890433717883,
          5.218829425377994,
          5.230834181915606,
          5.224303120255119,
          5.228780026150648,
          5.234158744888832,
          5.2357528687819865,
          5.2355228499183255,
          5.229850438670146,
          5.2389698375032125,
          5.24022511465107,
          5.229931198062083,
          5.239610867230823,
          5.233948449161584,
          5.23996200430039,
          5.242682912259159,
          5.233113196244117,
          5.239044176794264,
          5.247023060708244,
          5.251043449733636,
          5.252478199055744,
          5.249474264324938,
          5.242576482834634,
          5.242450987625459,
          5.254631024263263,
          5.243010645344915,
          5.248706954480824,
          5.2488055975038,
          5.249261282697555,
          5.253287664206674,
          5.25422269089975,
          5.250531414377367,
          5.253126877895802,
          5.25720681427585,
          5.259694081164106,
          5.26019599251733,
          5.260474900806999,
          5.2533106994931895,
          5.252665457026373,
          5.253794330168983,
          5.2621651589443275,
          5.264409095080673,
          5.2641442337038775,
          5.265038117834779,
          5.256576630488437,
          5.265239979001338,
          5.26540375878416,
          5.267022146791215,
          5.267973159256099,
          5.268381383597983,
          5.269135438975061,
          5.2686640633064545,
          5.2689755534727265,
          5.270037706596106,
          5.2618173452890655,
          5.26460950653839,
          5.265195150600984,
          5.270598124536068,
          5.265945554761318,
          5.266084806611097,
          5.2668353421672425,
          5.2666716665354265,
          5.268969438049025,
          5.2696504408116915,
          5.267495602704912,
          5.272242567741433,
          5.273255959675087,
          5.273064744508046,
          5.266310940678705,
          5.266662534683038,
          5.266980634478124,
          5.270108208626866,
          5.277108616654623,
          5.277972764396877,
          5.279092220936862,
          5.270742463398195,
          5.272982930019724,
          5.273369779850519,
          5.279518509338171,
          5.2802081614937215,
          5.270793111364856,
          5.278708555498776,
          5.2841404192340224,
          5.283533772620354,
          5.279830013317067,
          5.281561593222053,
          5.283521955407561,
          5.288586597375147,
          5.277394096144532,
          5.2792996862805275,
          5.279357341845337,
          5.280965798912712,
          5.2873240617021615,
          5.292119915795471,
          5.282509451850094,
          5.28317526584158,
          5.28603363357897,
          5.296712087726274,
          5.287091671075867,
          5.288369125135555,
          5.294374220068187,
          5.2878396762202975,
          5.291294095493539,
          5.29143402500843,
          5.2915494615039975,
          5.292229421407454
         ],
         "z": [
          25.235890361935542,
          25.248259362385674,
          25.23839194510725,
          25.237035573073204,
          25.25011904189564,
          25.23721906187975,
          25.231899922092225,
          25.257953090529668,
          25.25813037479529,
          25.247385709837584,
          25.242861696828488,
          25.24286522473732,
          25.252860492742357,
          25.239969700904204,
          25.247077880097066,
          25.23868423867337,
          25.254759053415615,
          25.256270302723095,
          25.24183754501577,
          25.25038922829419,
          25.257500794070694,
          25.25185401221538,
          25.251972983216678,
          25.259192088152698,
          25.25070102928424,
          25.282499214325835,
          25.250755360381913,
          25.291789827593835,
          25.27332927873465,
          25.256438502589287,
          25.27808529946098,
          25.27827058356558,
          25.27845772239876,
          25.26113164215374,
          25.271331222200175,
          25.295331875078062,
          25.251477603249693,
          25.26001331486795,
          25.261695070156712,
          25.28831645183036,
          25.271846188394658,
          25.307446661941718,
          25.343419972991317,
          25.290189914575475,
          25.293928929602398,
          25.26642636494916,
          25.273596960670893,
          25.27066480780442,
          25.290475213788717,
          25.35715102454617,
          25.248024172902788,
          25.356951419957674,
          25.272686169765414,
          25.27743648465428,
          25.27122158498794,
          25.28287837749945,
          25.279148819345536,
          25.27435636117656,
          25.274342133218962,
          25.271301559782092,
          25.279094336784564,
          25.277571128814333,
          25.287646251937282,
          25.274386504500356,
          25.284486593868884,
          25.271293840213215,
          25.276932919171156,
          25.275461885959977,
          25.346419879393757,
          25.27757196998857,
          25.26392495533452,
          25.262477853785686,
          25.285904335872154,
          25.283081051993623,
          25.27413592796638,
          25.285708973842784,
          25.279246025382047,
          25.273039936972623,
          25.283162629385643,
          25.27155165482769,
          25.297586691893265,
          25.276242814198394,
          25.286210494800518,
          25.28317603598389,
          25.281646913186258,
          25.282999573430622,
          25.285940083487294,
          25.26909111628418,
          25.279212549999535,
          25.277672855445594,
          25.286338519992583,
          25.265608379497365,
          25.275738106425433,
          25.30085417762554,
          25.26284145994762,
          25.293436982256985,
          25.27292838100675,
          25.28954258207947,
          25.28798387453801,
          25.286391090786513,
          25.270158250182806,
          25.289633807767526,
          25.288144266448327,
          25.288067832431214,
          25.28799852261465,
          25.365452183104065,
          25.32402235603792,
          25.301016845995132,
          25.299453621581424,
          25.30330403181488,
          25.288796221273685,
          25.324108885902437,
          25.30569616793527,
          25.29318458779347,
          25.3335986836135,
          25.310254478390906,
          25.297612046551222,
          25.389545133171442,
          25.319354921250383,
          25.31646203706559,
          25.322508608050875,
          25.318102492760882,
          25.339460661949467,
          25.327269416616353,
          25.31379580864757,
          25.312334428412694,
          25.300737684092997,
          25.29936451137607,
          25.32712274757275,
          25.35932313012505,
          25.391207662027327,
          25.379019410303215,
          25.327646600048283,
          25.339458346398988,
          25.324349571943124,
          25.33832012798624,
          25.345536498457594,
          25.376141224153255,
          25.32266336087165,
          25.371445299348277,
          25.34564744993829,
          25.36381046344714,
          25.32862518666625,
          25.375870743438828,
          25.397236392084,
          25.334957781904656,
          25.345398822556486,
          25.346739281912306,
          25.371369265528653,
          25.340627541572886,
          25.336682922337186,
          25.361955184410082,
          25.348507849123607,
          25.391019509071768,
          25.336760404365954,
          25.375862288802402,
          25.34662753301589,
          25.347053918658037,
          25.34274097729442,
          25.354223303568684,
          25.389552772895218,
          25.360474838680815,
          25.374316717361538,
          25.375896132681003,
          25.375417860701177,
          25.38157208333796,
          25.352587848426243,
          25.370845086691418,
          25.344932984155914,
          25.369277669796382,
          25.35096622304097,
          25.347831267242963,
          25.39966433149021,
          25.391378257526394,
          25.377589432242214,
          25.34882310285377,
          25.376049974093082,
          25.399031053612656,
          25.39745247436116,
          25.398794087299486,
          25.368408098968327,
          25.39735081099524,
          25.368337908128904,
          25.360772331492473,
          25.36677342981974,
          25.381949902969033,
          25.397118757670246,
          25.38803271213667,
          25.400837077104477,
          25.39495255902144,
          25.393594503172103,
          25.380045301535695,
          25.38160777826051,
          25.40288818686981,
          25.403094632812607,
          25.37413742264775,
          25.381818427468833,
          25.374039642411304,
          25.362171342561147,
          25.403242748284462,
          25.385413832760886,
          25.366918269844568,
          25.359395377706083,
          25.34005487266292,
          25.371505780769777,
          25.370084119739772,
          25.370123786288772,
          25.35033452080066,
          25.348886234025027,
          25.347324188906303,
          25.377718640105847,
          25.377894831623745,
          25.335516010676127,
          25.38564622579949,
          25.385717168894434,
          25.365743420723707,
          25.36584252985354,
          25.353636211545155,
          25.371981891646737,
          25.378116005286284,
          25.33404110138783,
          25.341435160855493,
          25.385796788245372,
          25.335412668690907,
          25.358405629848896,
          25.361436934822823,
          25.376743775096145,
          25.332495295789304,
          25.35834902783012,
          25.379944299750672,
          25.30527861356129,
          25.397347051078114,
          25.284149093193403,
          25.28863765181674,
          25.31048399419197,
          25.297547239550774,
          25.28875255644431,
          25.29290720778193,
          25.29742005654489,
          25.281574547542522,
          25.293141453259285,
          25.327560831771805,
          25.329194378053675,
          25.311853072769413,
          25.3288544435169,
          25.297314881719743,
          25.30858141081406,
          25.29435393645911,
          25.34584041137742,
          25.309960258162,
          25.3163495318963,
          25.33195247348765,
          25.28417044201782,
          25.316722187987402,
          25.295575625914715,
          25.294370005974297,
          25.311576112727984,
          25.31770746095742,
          25.315448298948265,
          25.287140852668998,
          25.311466928496294,
          25.315081433332793,
          25.286858479072084,
          25.301589967932394,
          25.285412389989585,
          25.288561051455456,
          25.296394481041315,
          25.284063525078153,
          25.28526479819607,
          25.293505882085153,
          25.318521907605486,
          25.35772283466996,
          25.301628057807637,
          25.295664891286417,
          25.272410975969372,
          25.314612181445288,
          25.283831759493278,
          25.285429723773294,
          25.285444342077753,
          25.2869614064091,
          25.29819756719403,
          25.28693701301995,
          25.289556458274816,
          25.283870329136196,
          25.294969109911733,
          25.303153157097064,
          25.304865946546794,
          25.316926883897743,
          25.285135873123576,
          25.27371529015362,
          25.274960158887353,
          25.296222742686215,
          25.302880912740566,
          25.30151513650069,
          25.304743749823437,
          25.282289894665748,
          25.29003029951665,
          25.290110902539602,
          25.28447813574605,
          25.29811752106373,
          25.29965209007674,
          25.30265928514307,
          25.289406860013415,
          25.289792515979688,
          25.304878524063025,
          25.29537498534261,
          25.287860095529105,
          25.28935559675127,
          25.29288077767757,
          25.280699434081306,
          25.280685557657485,
          25.282180722860424,
          25.28068073946261,
          25.276549840628814,
          25.289821614389034,
          25.285016035010013,
          25.293866766923998,
          25.28667189263235,
          25.285195038595077,
          25.26053468780416,
          25.272008685055166,
          25.261928442764546,
          25.27916737535985,
          25.29631718016447,
          25.299408296514148,
          25.30278935184253,
          25.27055305345678,
          25.28638691484917,
          25.27625432095165,
          25.289766978676738,
          25.291387802429934,
          25.28215425220997,
          25.27645979999118,
          25.304015184745214,
          25.30116742176639,
          25.290707068565776,
          25.28201941679016,
          25.2880951081966,
          25.302414504110914,
          25.27479491480547,
          25.27913641467753,
          25.265867508066595,
          25.28050066478636,
          25.297798948115172,
          25.369684007939107,
          25.27462821317922,
          25.276073745711546,
          25.281950036541133,
          25.357409711376906,
          25.272993828993844,
          25.275925550565276,
          25.28971896049675,
          25.274433594036154,
          25.271722208855927,
          25.27172360128408,
          25.27172847122036,
          25.273259766577603
         ]
        },
        {
         "hovertemplate": "Image(image_id=3, camera_id=1, name=\"images/63.jpg\", triangulated=364/887)",
         "legendgroup": "images",
         "line": {
          "color": "rgba(255,0,0,0.5)",
          "width": 1
         },
         "mode": "lines",
         "name": "3",
         "showlegend": false,
         "type": "scatter3d",
         "x": [
          0.9614891398900409,
          0.43651764913196145,
          1.0594051571127707,
          0.9614891398900409,
          1.0594051571127707,
          1.0669722311170413,
          0.9614891398900409,
          1.0669722311170413,
          0.44408472313623215,
          0.9614891398900409,
          0.44408472313623215,
          0.43651764913196145
         ],
         "y": [
          -4.4752440030100065,
          -3.717637412080857,
          -3.712803194199101,
          -4.4752440030100065,
          -3.712803194199101,
          -3.3816589746752816,
          -4.4752440030100065,
          -3.3816589746752816,
          -3.386493192557037,
          -4.4752440030100065,
          -3.386493192557037,
          -3.717637412080857
         ],
         "z": [
          2.011896788531626,
          4.516489965458753,
          4.567605351977187,
          2.011896788531626,
          4.567605351977187,
          4.444075831674894,
          2.011896788531626,
          4.444075831674894,
          4.392960445156459,
          2.011896788531626,
          4.392960445156459,
          4.516489965458753
         ]
        },
        {
         "hovertemplate": "Image(image_id=6, camera_id=1, name=\"images/66.jpg\", triangulated=364/821)",
         "legendgroup": "images",
         "line": {
          "color": "rgba(255,0,0,0.5)",
          "width": 1
         },
         "mode": "lines",
         "name": "6",
         "showlegend": false,
         "type": "scatter3d",
         "x": [
          -0.9614890471342303,
          -1.2739890471342303,
          -0.6489890471342303,
          -0.9614890471342303,
          -0.6489890471342303,
          -0.6489890471342303,
          -0.9614890471342303,
          -0.6489890471342303,
          -1.2739890471342303,
          -0.9614890471342303,
          -1.2739890471342303,
          -1.2739890471342303
         ],
         "y": [
          4.475244135563576,
          4.298486323063576,
          4.298486323063576,
          4.475244135563576,
          4.298486323063576,
          4.652001948063576,
          4.475244135563576,
          4.652001948063576,
          4.652001948063576,
          4.475244135563576,
          4.652001948063576,
          4.298486323063576
         ],
         "z": [
          -2.0118966912317755,
          0.6326543520188896,
          0.6326543520188896,
          -2.0118966912317755,
          0.6326543520188896,
          0.6326543520188896,
          -2.0118966912317755,
          0.6326543520188896,
          0.6326543520188896,
          -2.0118966912317755,
          0.6326543520188896,
          0.6326543520188896
         ]
        }
       ],
       "layout": {
        "height": 800,
        "legend": {
         "orientation": "h",
         "x": 0.1,
         "xanchor": "left",
         "y": 0.99,
         "yanchor": "top"
        },
        "margin": {
         "b": 0,
         "l": 0,
         "pad": 0,
         "r": 0,
         "t": 0
        },
        "scene": {
         "aspectmode": "data",
         "camera": {
          "eye": {
           "x": 0,
           "y": -0.1,
           "z": -2
          },
          "projection": {
           "type": "orthographic"
          },
          "up": {
           "x": 0,
           "y": -1,
           "z": 0
          }
         },
         "dragmode": "orbit",
         "xaxis": {
          "autorange": true,
          "showbackground": false,
          "showgrid": false,
          "showline": false,
          "showticklabels": true,
          "visible": false
         },
         "yaxis": {
          "autorange": true,
          "showbackground": false,
          "showgrid": false,
          "showline": false,
          "showticklabels": true,
          "visible": false
         },
         "zaxis": {
          "autorange": true,
          "showbackground": false,
          "showgrid": false,
          "showline": false,
          "showticklabels": true,
          "visible": false
         }
        },
        "template": {
         "data": {
          "bar": [
           {
            "error_x": {
             "color": "#f2f5fa"
            },
            "error_y": {
             "color": "#f2f5fa"
            },
            "marker": {
             "line": {
              "color": "rgb(17,17,17)",
              "width": 0.5
             },
             "pattern": {
              "fillmode": "overlay",
              "size": 10,
              "solidity": 0.2
             }
            },
            "type": "bar"
           }
          ],
          "barpolar": [
           {
            "marker": {
             "line": {
              "color": "rgb(17,17,17)",
              "width": 0.5
             },
             "pattern": {
              "fillmode": "overlay",
              "size": 10,
              "solidity": 0.2
             }
            },
            "type": "barpolar"
           }
          ],
          "carpet": [
           {
            "aaxis": {
             "endlinecolor": "#A2B1C6",
             "gridcolor": "#506784",
             "linecolor": "#506784",
             "minorgridcolor": "#506784",
             "startlinecolor": "#A2B1C6"
            },
            "baxis": {
             "endlinecolor": "#A2B1C6",
             "gridcolor": "#506784",
             "linecolor": "#506784",
             "minorgridcolor": "#506784",
             "startlinecolor": "#A2B1C6"
            },
            "type": "carpet"
           }
          ],
          "choropleth": [
           {
            "colorbar": {
             "outlinewidth": 0,
             "ticks": ""
            },
            "type": "choropleth"
           }
          ],
          "contour": [
           {
            "colorbar": {
             "outlinewidth": 0,
             "ticks": ""
            },
            "colorscale": [
             [
              0,
              "#0d0887"
             ],
             [
              0.1111111111111111,
              "#46039f"
             ],
             [
              0.2222222222222222,
              "#7201a8"
             ],
             [
              0.3333333333333333,
              "#9c179e"
             ],
             [
              0.4444444444444444,
              "#bd3786"
             ],
             [
              0.5555555555555556,
              "#d8576b"
             ],
             [
              0.6666666666666666,
              "#ed7953"
             ],
             [
              0.7777777777777778,
              "#fb9f3a"
             ],
             [
              0.8888888888888888,
              "#fdca26"
             ],
             [
              1,
              "#f0f921"
             ]
            ],
            "type": "contour"
           }
          ],
          "contourcarpet": [
           {
            "colorbar": {
             "outlinewidth": 0,
             "ticks": ""
            },
            "type": "contourcarpet"
           }
          ],
          "heatmap": [
           {
            "colorbar": {
             "outlinewidth": 0,
             "ticks": ""
            },
            "colorscale": [
             [
              0,
              "#0d0887"
             ],
             [
              0.1111111111111111,
              "#46039f"
             ],
             [
              0.2222222222222222,
              "#7201a8"
             ],
             [
              0.3333333333333333,
              "#9c179e"
             ],
             [
              0.4444444444444444,
              "#bd3786"
             ],
             [
              0.5555555555555556,
              "#d8576b"
             ],
             [
              0.6666666666666666,
              "#ed7953"
             ],
             [
              0.7777777777777778,
              "#fb9f3a"
             ],
             [
              0.8888888888888888,
              "#fdca26"
             ],
             [
              1,
              "#f0f921"
             ]
            ],
            "type": "heatmap"
           }
          ],
          "heatmapgl": [
           {
            "colorbar": {
             "outlinewidth": 0,
             "ticks": ""
            },
            "colorscale": [
             [
              0,
              "#0d0887"
             ],
             [
              0.1111111111111111,
              "#46039f"
             ],
             [
              0.2222222222222222,
              "#7201a8"
             ],
             [
              0.3333333333333333,
              "#9c179e"
             ],
             [
              0.4444444444444444,
              "#bd3786"
             ],
             [
              0.5555555555555556,
              "#d8576b"
             ],
             [
              0.6666666666666666,
              "#ed7953"
             ],
             [
              0.7777777777777778,
              "#fb9f3a"
             ],
             [
              0.8888888888888888,
              "#fdca26"
             ],
             [
              1,
              "#f0f921"
             ]
            ],
            "type": "heatmapgl"
           }
          ],
          "histogram": [
           {
            "marker": {
             "pattern": {
              "fillmode": "overlay",
              "size": 10,
              "solidity": 0.2
             }
            },
            "type": "histogram"
           }
          ],
          "histogram2d": [
           {
            "colorbar": {
             "outlinewidth": 0,
             "ticks": ""
            },
            "colorscale": [
             [
              0,
              "#0d0887"
             ],
             [
              0.1111111111111111,
              "#46039f"
             ],
             [
              0.2222222222222222,
              "#7201a8"
             ],
             [
              0.3333333333333333,
              "#9c179e"
             ],
             [
              0.4444444444444444,
              "#bd3786"
             ],
             [
              0.5555555555555556,
              "#d8576b"
             ],
             [
              0.6666666666666666,
              "#ed7953"
             ],
             [
              0.7777777777777778,
              "#fb9f3a"
             ],
             [
              0.8888888888888888,
              "#fdca26"
             ],
             [
              1,
              "#f0f921"
             ]
            ],
            "type": "histogram2d"
           }
          ],
          "histogram2dcontour": [
           {
            "colorbar": {
             "outlinewidth": 0,
             "ticks": ""
            },
            "colorscale": [
             [
              0,
              "#0d0887"
             ],
             [
              0.1111111111111111,
              "#46039f"
             ],
             [
              0.2222222222222222,
              "#7201a8"
             ],
             [
              0.3333333333333333,
              "#9c179e"
             ],
             [
              0.4444444444444444,
              "#bd3786"
             ],
             [
              0.5555555555555556,
              "#d8576b"
             ],
             [
              0.6666666666666666,
              "#ed7953"
             ],
             [
              0.7777777777777778,
              "#fb9f3a"
             ],
             [
              0.8888888888888888,
              "#fdca26"
             ],
             [
              1,
              "#f0f921"
             ]
            ],
            "type": "histogram2dcontour"
           }
          ],
          "mesh3d": [
           {
            "colorbar": {
             "outlinewidth": 0,
             "ticks": ""
            },
            "type": "mesh3d"
           }
          ],
          "parcoords": [
           {
            "line": {
             "colorbar": {
              "outlinewidth": 0,
              "ticks": ""
             }
            },
            "type": "parcoords"
           }
          ],
          "pie": [
           {
            "automargin": true,
            "type": "pie"
           }
          ],
          "scatter": [
           {
            "marker": {
             "line": {
              "color": "#283442"
             }
            },
            "type": "scatter"
           }
          ],
          "scatter3d": [
           {
            "line": {
             "colorbar": {
              "outlinewidth": 0,
              "ticks": ""
             }
            },
            "marker": {
             "colorbar": {
              "outlinewidth": 0,
              "ticks": ""
             }
            },
            "type": "scatter3d"
           }
          ],
          "scattercarpet": [
           {
            "marker": {
             "colorbar": {
              "outlinewidth": 0,
              "ticks": ""
             }
            },
            "type": "scattercarpet"
           }
          ],
          "scattergeo": [
           {
            "marker": {
             "colorbar": {
              "outlinewidth": 0,
              "ticks": ""
             }
            },
            "type": "scattergeo"
           }
          ],
          "scattergl": [
           {
            "marker": {
             "line": {
              "color": "#283442"
             }
            },
            "type": "scattergl"
           }
          ],
          "scattermapbox": [
           {
            "marker": {
             "colorbar": {
              "outlinewidth": 0,
              "ticks": ""
             }
            },
            "type": "scattermapbox"
           }
          ],
          "scatterpolar": [
           {
            "marker": {
             "colorbar": {
              "outlinewidth": 0,
              "ticks": ""
             }
            },
            "type": "scatterpolar"
           }
          ],
          "scatterpolargl": [
           {
            "marker": {
             "colorbar": {
              "outlinewidth": 0,
              "ticks": ""
             }
            },
            "type": "scatterpolargl"
           }
          ],
          "scatterternary": [
           {
            "marker": {
             "colorbar": {
              "outlinewidth": 0,
              "ticks": ""
             }
            },
            "type": "scatterternary"
           }
          ],
          "surface": [
           {
            "colorbar": {
             "outlinewidth": 0,
             "ticks": ""
            },
            "colorscale": [
             [
              0,
              "#0d0887"
             ],
             [
              0.1111111111111111,
              "#46039f"
             ],
             [
              0.2222222222222222,
              "#7201a8"
             ],
             [
              0.3333333333333333,
              "#9c179e"
             ],
             [
              0.4444444444444444,
              "#bd3786"
             ],
             [
              0.5555555555555556,
              "#d8576b"
             ],
             [
              0.6666666666666666,
              "#ed7953"
             ],
             [
              0.7777777777777778,
              "#fb9f3a"
             ],
             [
              0.8888888888888888,
              "#fdca26"
             ],
             [
              1,
              "#f0f921"
             ]
            ],
            "type": "surface"
           }
          ],
          "table": [
           {
            "cells": {
             "fill": {
              "color": "#506784"
             },
             "line": {
              "color": "rgb(17,17,17)"
             }
            },
            "header": {
             "fill": {
              "color": "#2a3f5f"
             },
             "line": {
              "color": "rgb(17,17,17)"
             }
            },
            "type": "table"
           }
          ]
         },
         "layout": {
          "annotationdefaults": {
           "arrowcolor": "#f2f5fa",
           "arrowhead": 0,
           "arrowwidth": 1
          },
          "autotypenumbers": "strict",
          "coloraxis": {
           "colorbar": {
            "outlinewidth": 0,
            "ticks": ""
           }
          },
          "colorscale": {
           "diverging": [
            [
             0,
             "#8e0152"
            ],
            [
             0.1,
             "#c51b7d"
            ],
            [
             0.2,
             "#de77ae"
            ],
            [
             0.3,
             "#f1b6da"
            ],
            [
             0.4,
             "#fde0ef"
            ],
            [
             0.5,
             "#f7f7f7"
            ],
            [
             0.6,
             "#e6f5d0"
            ],
            [
             0.7,
             "#b8e186"
            ],
            [
             0.8,
             "#7fbc41"
            ],
            [
             0.9,
             "#4d9221"
            ],
            [
             1,
             "#276419"
            ]
           ],
           "sequential": [
            [
             0,
             "#0d0887"
            ],
            [
             0.1111111111111111,
             "#46039f"
            ],
            [
             0.2222222222222222,
             "#7201a8"
            ],
            [
             0.3333333333333333,
             "#9c179e"
            ],
            [
             0.4444444444444444,
             "#bd3786"
            ],
            [
             0.5555555555555556,
             "#d8576b"
            ],
            [
             0.6666666666666666,
             "#ed7953"
            ],
            [
             0.7777777777777778,
             "#fb9f3a"
            ],
            [
             0.8888888888888888,
             "#fdca26"
            ],
            [
             1,
             "#f0f921"
            ]
           ],
           "sequentialminus": [
            [
             0,
             "#0d0887"
            ],
            [
             0.1111111111111111,
             "#46039f"
            ],
            [
             0.2222222222222222,
             "#7201a8"
            ],
            [
             0.3333333333333333,
             "#9c179e"
            ],
            [
             0.4444444444444444,
             "#bd3786"
            ],
            [
             0.5555555555555556,
             "#d8576b"
            ],
            [
             0.6666666666666666,
             "#ed7953"
            ],
            [
             0.7777777777777778,
             "#fb9f3a"
            ],
            [
             0.8888888888888888,
             "#fdca26"
            ],
            [
             1,
             "#f0f921"
            ]
           ]
          },
          "colorway": [
           "#636efa",
           "#EF553B",
           "#00cc96",
           "#ab63fa",
           "#FFA15A",
           "#19d3f3",
           "#FF6692",
           "#B6E880",
           "#FF97FF",
           "#FECB52"
          ],
          "font": {
           "color": "#f2f5fa"
          },
          "geo": {
           "bgcolor": "rgb(17,17,17)",
           "lakecolor": "rgb(17,17,17)",
           "landcolor": "rgb(17,17,17)",
           "showlakes": true,
           "showland": true,
           "subunitcolor": "#506784"
          },
          "hoverlabel": {
           "align": "left"
          },
          "hovermode": "closest",
          "mapbox": {
           "style": "dark"
          },
          "paper_bgcolor": "rgb(17,17,17)",
          "plot_bgcolor": "rgb(17,17,17)",
          "polar": {
           "angularaxis": {
            "gridcolor": "#506784",
            "linecolor": "#506784",
            "ticks": ""
           },
           "bgcolor": "rgb(17,17,17)",
           "radialaxis": {
            "gridcolor": "#506784",
            "linecolor": "#506784",
            "ticks": ""
           }
          },
          "scene": {
           "xaxis": {
            "backgroundcolor": "rgb(17,17,17)",
            "gridcolor": "#506784",
            "gridwidth": 2,
            "linecolor": "#506784",
            "showbackground": true,
            "ticks": "",
            "zerolinecolor": "#C8D4E3"
           },
           "yaxis": {
            "backgroundcolor": "rgb(17,17,17)",
            "gridcolor": "#506784",
            "gridwidth": 2,
            "linecolor": "#506784",
            "showbackground": true,
            "ticks": "",
            "zerolinecolor": "#C8D4E3"
           },
           "zaxis": {
            "backgroundcolor": "rgb(17,17,17)",
            "gridcolor": "#506784",
            "gridwidth": 2,
            "linecolor": "#506784",
            "showbackground": true,
            "ticks": "",
            "zerolinecolor": "#C8D4E3"
           }
          },
          "shapedefaults": {
           "line": {
            "color": "#f2f5fa"
           }
          },
          "sliderdefaults": {
           "bgcolor": "#C8D4E3",
           "bordercolor": "rgb(17,17,17)",
           "borderwidth": 1,
           "tickwidth": 0
          },
          "ternary": {
           "aaxis": {
            "gridcolor": "#506784",
            "linecolor": "#506784",
            "ticks": ""
           },
           "baxis": {
            "gridcolor": "#506784",
            "linecolor": "#506784",
            "ticks": ""
           },
           "bgcolor": "rgb(17,17,17)",
           "caxis": {
            "gridcolor": "#506784",
            "linecolor": "#506784",
            "ticks": ""
           }
          },
          "title": {
           "x": 0.05
          },
          "updatemenudefaults": {
           "bgcolor": "#506784",
           "borderwidth": 0
          },
          "xaxis": {
           "automargin": true,
           "gridcolor": "#283442",
           "linecolor": "#506784",
           "ticks": "",
           "title": {
            "standoff": 15
           },
           "zerolinecolor": "#283442",
           "zerolinewidth": 2
          },
          "yaxis": {
           "automargin": true,
           "gridcolor": "#283442",
           "linecolor": "#506784",
           "ticks": "",
           "title": {
            "standoff": 15
           },
           "zerolinecolor": "#283442",
           "zerolinewidth": 2
          }
         }
        }
       }
      },
      "text/html": [
       "<div>                            <div id=\"01d10a70-9b1f-4856-965d-252e8335680c\" class=\"plotly-graph-div\" style=\"height:800px; width:100%;\"></div>            <script type=\"text/javascript\">                require([\"plotly\"], function(Plotly) {                    window.PLOTLYENV=window.PLOTLYENV || {};                                    if (document.getElementById(\"01d10a70-9b1f-4856-965d-252e8335680c\")) {                    Plotly.newPlot(                        \"01d10a70-9b1f-4856-965d-252e8335680c\",                        [{\"legendgroup\":\"images\",\"marker\":{\"color\":[[45,46,47],[34,35,37],[17,19,16],[2,4,1],[24,27,22],[27,28,32],[28,29,34],[37,42,36],[46,50,45],[183,187,188],[128,132,132],[76,80,80],[54,58,60],[169,170,174],[29,28,27],[37,39,40],[88,91,83],[43,46,39],[160,163,155],[80,82,78],[98,103,99],[67,69,66],[45,48,42],[29,29,28],[184,190,179],[36,40,33],[129,133,122],[75,80,73],[170,173,164],[171,174,168],[171,177,168],[183,187,180],[189,194,182],[156,159,151],[155,157,152],[168,171,161],[215,217,212],[186,188,183],[164,166,161],[163,166,161],[170,173,166],[177,180,169],[42,45,36],[155,157,152],[174,177,165],[222,235,237],[220,222,217],[184,186,181],[181,183,172],[11,14,9],[135,137,131],[99,102,95],[53,76,115],[109,133,170],[191,203,209],[21,40,116],[163,172,190],[115,134,173],[113,143,189],[127,159,205],[24,38,78],[41,62,116],[33,56,117],[74,95,159],[18,43,117],[76,103,181],[138,143,136],[158,162,156],[187,189,178],[94,123,160],[180,185,177],[181,184,176],[194,199,193],[49,69,121],[120,122,112],[202,207,200],[117,138,171],[46,81,174],[122,153,172],[127,128,120],[84,89,82],[69,91,145],[20,57,117],[42,70,121],[99,128,180],[168,171,162],[148,152,144],[123,137,167],[124,147,190],[17,39,96],[66,85,145],[216,215,211],[205,203,199],[129,132,121],[164,165,148],[185,196,195],[199,199,182],[56,83,114],[123,143,170],[34,70,125],[73,93,128],[31,51,116],[115,134,170],[68,82,141],[56,77,132],[147,150,141],[92,66,67],[186,188,183],[204,207,200],[137,112,118],[219,221,220],[99,67,70],[205,208,201],[226,222,221],[198,162,162],[207,213,203],[135,109,120],[113,116,105],[197,199,194],[204,205,200],[211,216,210],[211,221,212],[112,29,45],[214,186,183],[85,82,91],[243,245,242],[238,240,235],[155,142,152],[70,73,80],[194,198,184],[142,145,138],[134,137,128],[132,96,98],[122,91,97],[223,222,227],[201,208,192],[151,135,136],[145,147,142],[251,253,250],[178,184,170],[88,81,73],[211,217,203],[232,233,237],[229,234,227],[130,132,127],[229,231,226],[224,226,221],[231,233,228],[212,214,209],[232,231,245],[145,147,144],[215,220,214],[116,118,115],[203,206,199],[187,189,186],[211,214,207],[155,154,168],[98,101,94],[136,138,135],[221,223,218],[130,133,124],[146,148,145],[218,221,214],[193,196,189],[213,215,210],[213,215,210],[224,224,234],[220,222,217],[78,78,90],[202,205,198],[108,108,118],[17,20,29],[32,34,31],[222,224,221],[102,103,108],[252,254,251],[145,146,151],[63,65,62],[45,47,44],[226,228,225],[254,255,255],[62,64,59],[249,251,248],[254,255,255],[90,90,98],[245,246,251],[224,226,223],[250,252,247],[205,205,215],[238,239,244],[222,223,228],[254,255,255],[241,242,244],[219,222,215],[95,97,94],[249,251,248],[247,249,248],[174,178,179],[248,250,247],[76,78,73],[50,52,49],[250,252,249],[148,149,154],[214,214,222],[232,234,229],[55,55,63],[212,213,218],[238,240,237],[31,32,36],[234,235,237],[248,250,245],[228,230,225],[251,253,250],[87,89,84],[85,87,84],[204,205,207],[218,220,219],[172,173,178],[211,213,210],[225,227,222],[217,218,220],[217,219,218],[131,133,130],[167,167,175],[85,85,95],[124,124,136],[213,215,210],[40,41,46],[18,18,28],[48,50,47],[193,195,190],[73,79,69],[186,190,189],[200,202,199],[104,90,89],[90,77,86],[147,110,117],[186,188,185],[185,189,188],[89,38,47],[100,23,39],[216,177,180],[186,189,178],[114,87,86],[147,20,28],[101,66,72],[153,155,149],[113,40,49],[110,113,106],[155,158,150],[107,23,33],[208,142,154],[109,26,35],[147,9,17],[98,53,56],[86,91,86],[64,38,28],[118,19,29],[134,11,28],[119,121,118],[50,28,24],[121,3,5],[131,112,103],[97,25,20],[106,15,25],[119,122,117],[161,164,156],[137,15,21],[123,8,19],[52,31,24],[224,216,207],[107,110,103],[113,20,18],[146,149,138],[73,28,19],[123,1,4],[119,6,12],[56,59,50],[105,109,96],[111,115,99],[138,9,13],[153,157,143],[131,109,102],[153,157,145],[123,27,32],[109,70,58],[82,39,37],[198,178,172],[107,5,15],[140,70,61],[155,30,35],[165,170,163],[86,62,51],[109,68,62],[104,80,72],[166,166,154],[150,154,144],[137,140,133],[63,26,20],[153,89,80],[170,110,103],[161,105,100],[150,106,101],[118,98,90],[213,200,195],[140,141,133],[100,6,15],[94,85,79],[110,115,116],[130,133,124],[141,143,131],[142,150,148],[138,145,141],[123,128,126],[118,122,123],[83,47,39],[87,95,98],[86,95,104],[72,82,92],[196,181,173],[144,120,110],[117,86,77],[66,16,17],[129,61,58],[163,128,117],[55,51,41],[174,175,167],[101,76,64],[140,102,97],[28,34,58],[78,86,92],[79,81,76],[54,62,88],[121,110,100],[74,69,60],[89,10,19],[19,35,60],[39,56,101],[31,26,20],[100,87,75],[150,126,112],[149,147,138],[28,45,67],[89,69,63],[162,165,156],[125,116,108],[121,109,103],[163,171,173],[106,109,102],[20,13,12],[66,52,46],[90,113,147],[73,66,57],[90,111,161],[133,153,188],[109,128,177],[40,62,135]],\"line\":{\"width\":0.0},\"size\":1},\"mode\":\"markers\",\"name\":\"images\",\"x\":[-2.502240538991498,-2.529952916339316,-2.5775195680596577,-2.630403650638823,-2.6509841002548753,-2.547121392493403,-2.514726540238911,-2.6783067264109874,-2.7030248737652025,-2.4896017526695475,-2.519914194199235,-2.5403135892474396,-2.5584165025889436,-2.578588337286231,-2.679615060714672,-2.6022904098521926,-2.519127369819355,-2.543059919915156,-2.559754808854157,-2.619464388787178,-2.706824120028304,-2.584621446651939,-2.6004885402988007,-2.6902913044917516,-2.6286663987700405,-2.0657517347719705,-2.610704336384405,-2.033891588966,-2.1236311796738367,-2.6924702227421697,-2.085438602735413,-2.071458848157669,-2.0574671154287723,-2.619986145043685,-2.626890870859719,-2.0108696990914225,-2.577361245918119,-2.596457247224265,-2.6316024846688797,-2.157865508091922,-2.65420550576477,-2.0002303122461114,-1.9821057996312037,-2.117231805233451,-2.028533161538253,-2.4723560154400928,-2.637607520552416,-2.6823408087021967,-2.093944229688983,-1.9632006080421769,-2.7246455091962605,-1.986826655797032,-2.4341122780911677,-2.3392317164290684,-2.485419498918301,-2.4683858459461536,-2.292098286733078,-2.4033923099802244,-2.412559480943907,-2.446664742466487,-2.3059495459319725,-2.316229379410565,-2.3644922310585588,-2.3873362661763284,-2.437685175539222,-2.4580872777120994,-2.5793771194383677,-2.6075267859318076,-2.0012804908585293,-2.332400991249658,-2.595009902866403,-2.623109580762212,-2.1533663395663467,-2.47080022755196,-2.626689608549833,-2.190629271454063,-2.308368529966961,-2.402260986820512,-2.4502811193601888,-2.7298319904304504,-2.180091089298346,-2.317394178097214,-2.41845538602338,-2.4388453735061453,-2.4604539800929413,-2.710989886947834,-2.1604142354644598,-2.292360148350449,-2.3360711208005878,-2.3555351553462773,-2.384080597195324,-2.5737780775016943,-2.5964143599339,-2.1383580730971135,-2.6435832855568964,-2.4891463032272427,-2.657126315186767,-2.345261273299684,-2.3693224981432213,-2.418573556526734,-2.473064148480427,-2.317597047463371,-2.3325210753857517,-2.3578565072778934,-2.387744743818643,-1.984494829211352,-2.106907179589018,-2.2461973680670724,-2.265810192138507,-2.694992724552241,-2.659557246131379,-2.097556758414978,-2.1988615870399433,-2.6769816653930443,-2.025484452293762,-2.184192348187418,-2.703375741452255,-1.988893880901368,-2.152271107317191,-2.1332296500868813,-2.1220806571546356,-2.1087736849892535,-2.0448404016460566,-2.0719818894213313,-2.728864766773539,-2.657753235240762,-2.6767401883613524,-2.7114580563420096,-2.729255517378113,-2.00529052319801,-1.9783913437326344,-1.9891965306257897,-2.027390428368746,-2.0495768343868326,-2.701938239424029,-2.013048185903551,-2.0430667249407843,-1.989069116420801,-2.1128153151449665,-2.0016248809361192,-2.031322822257093,-2.0187332792050103,-2.1204064084314784,-2.019769357702514,-1.9884090624913728,-2.0717357994531267,-2.0856093566175664,-2.103286927886362,-2.0134720429676958,-2.121520764356771,-2.7080235618828388,-2.0693113729322854,-2.709372340595977,-2.0068256965056928,-2.6968199790221106,-2.0221679908899612,-2.1220732384259913,-2.710399997718131,-2.6997638194658156,-2.102771137601352,-2.005572711440462,-2.6995085203009284,-2.027988218003742,-2.0127374357324372,-2.0739840536999528,-2.055676177934291,-2.1226254136571905,-2.0795141106405453,-2.1560395951544615,-2.087649314666704,-2.125951950446375,-2.1844451593257124,-2.066737437133823,-2.1306631548514345,-2.1705068080521355,-2.587266753635758,-2.1809405463445106,-2.09717787840949,-2.114726005719374,-2.1300577084012984,-2.1837668378067914,-2.107616269363238,-2.1837376030999502,-2.617989288826212,-2.6344970695637473,-2.1603192958665605,-2.128710501286604,-2.1420828334319193,-2.146410971748036,-2.148308235011226,-2.151799141414182,-2.175290121681864,-2.1531306787687012,-2.126759851206301,-2.1009354507978877,-2.1794950702516216,-2.157916011017057,-2.5818234222188536,-2.180796962985399,-2.1151398754849344,-2.1136945807006984,-2.2269304946178345,-2.603041121415849,-2.640835897552757,-2.1957057344940054,-2.180422713305714,-2.1710667995038655,-2.5817265731428063,-2.605467278338931,-2.5951287280307707,-2.16821378079945,-2.1377678636010122,-2.607490462565492,-2.10671902268747,-2.097323251074108,-2.1671593671865614,-2.1484363930847508,-2.1894524739105066,-2.1325770780547293,-2.116689347889342,-2.6289057356026237,-2.61720546349632,-2.0949945463260353,-2.589340050251453,-2.1466573674332836,-2.1327783530291824,-2.1107558714538373,-2.638961990577223,-2.1677293321893956,-2.078032798021002,-2.287208618748774,-1.957529703862214,-2.581038673723578,-2.548492971952554,-2.125624471111593,-2.727956797873007,-2.6752529919993595,-2.52282503488101,-2.4512538614974986,-2.713764911615007,-2.7061017827207396,-2.02492355016915,-2.005006375825036,-2.143302883352204,-2.052117314387311,-2.6604017091408294,-2.194395164203163,-2.6894065759589973,-1.981590337771534,-2.2072640063913584,-2.1213275391959354,-2.026398986589261,-2.680328394523532,-2.069816136358967,-2.634266020872105,-2.400410519438772,-2.1759003391596043,-2.1342503020848707,-2.0450843973260358,-2.3754207666148504,-2.1898553315573897,-2.0872712108676357,-2.610607049091342,-2.103687355099447,-2.6544601241089323,-2.372018387217694,-2.2373567041655673,-2.698192376187409,-2.6296141756151106,-2.2162484034424716,-2.0193531651824457,-1.9825169101929647,-2.091949955016014,-2.728586016145755,-2.7102657775462733,-2.1409967204061324,-2.6756423865900945,-2.40620397065407,-2.39472782962509,-2.3821993615339228,-2.1618166463084667,-2.370673136779332,-2.558596530186975,-2.41638465225376,-2.2058340750524965,-2.0767755610196352,-2.0452147631969053,-2.0298100261223286,-2.6497979893321895,-2.691243529231202,-2.622701585097789,-2.2442114113753933,-2.109511465540449,-2.0965648867903406,-2.056920097979998,-2.7214091626574,-2.2993521795827077,-2.278543261550446,-2.219869235849059,-2.159412921202353,-2.149009727330584,-2.1375194176031713,-2.1258603621428174,-2.0720948972046416,-2.0381355820355074,-2.7306572571057552,-2.566305093560375,-2.5448572006110814,-2.3249200131715786,-2.5233904464821144,-2.509734763382083,-2.4699418291458826,-2.4504068809930373,-2.3706600517322873,-2.3546777553883267,-2.674439362936727,-2.4322288089162036,-2.416465296099635,-2.3991542543715076,-2.713224948886886,-2.6988421336501034,-2.6875690125871428,-2.553908789383658,-2.202332696716864,-2.1769227588766658,-2.1094408468742403,-2.728916578266105,-2.648630475367272,-2.630560524545667,-2.33848734856325,-2.2982034683921344,-2.7391874972235,-2.3682941121328045,-2.1386986507354493,-2.1268519562936734,-2.566423447036754,-2.4515508693235923,-2.394706337871057,-2.153747162093688,-2.6675607991720307,-2.5968780413212356,-2.5422518330583728,-2.4754250078267384,-2.187251059785194,-1.9644927165470465,-2.642750304873837,-2.6169315875860604,-2.4880469443953825,-1.984705060690223,-2.6324361281665514,-2.5852353456249406,-2.3083991024967916,-2.5998183153424606,-2.462944790307082,-2.449237710982975,-2.4378052461712736,-2.4047079234328224],\"y\":[5.53125347607596,5.528782347954712,5.523245142231124,5.517146150231767,5.512660043086846,5.509095346090177,5.506053534941337,5.473189076155279,5.4679768676920215,5.459570641865948,5.4580174937728625,5.457702016592387,5.457313983279546,5.451577108338071,5.449051863878319,5.441261228837364,5.439106267296259,5.43911290935875,5.433079704562115,5.431668782303108,5.429369119686873,5.432584021585457,5.427546833189437,5.420461773551221,5.417161626511662,5.426283497212797,5.412648548170134,5.421265371675231,5.418835679786493,5.4053408835764944,5.415357922363317,5.410614330951509,5.4058646207537056,5.393201919905701,5.3833684164687075,5.383139259915259,5.36993768962939,5.369170913424615,5.364236309105111,5.370873889049545,5.358966965413691,5.368817747952882,5.364795505726388,5.361816603404865,5.358273610356257,5.3481468433241695,5.345152109436366,5.3437962611583565,5.352246395016911,5.355705794756108,5.333186940721847,5.345760731035623,5.335518299713874,5.332735185172329,5.329746750713955,5.330156013908832,5.32868621556697,5.326524710493036,5.326427786346736,5.325348560823278,5.3285560103874,5.328107427439138,5.327497430438985,5.32669254671802,5.326016714750583,5.325222111655597,5.322568320992115,5.321852652296171,5.331072683752499,5.323097520150798,5.316988050621315,5.316273099126299,5.321511325417843,5.315617238753154,5.311614328584842,5.316349926881973,5.313960993965381,5.311647497340767,5.310999854742349,5.304730952108759,5.316652288357732,5.313178070203623,5.312044323509783,5.311121775168987,5.3105347036062,5.305177216353856,5.311704854464873,5.309380885467183,5.308847972315625,5.3083141577297255,5.307542718120226,5.303143197807541,5.3027114265283455,5.312772102601,5.296760496000077,5.300745525915385,5.296422981950943,5.298905146443362,5.298329294659968,5.297498069688771,5.295675319632503,5.299156516029143,5.293810642790854,5.293579238483572,5.2932986773719115,5.2116491836265375,5.209595028853435,5.206294671731678,5.205831238228884,5.19806209742829,5.196482898157324,5.2047266084488495,5.202695763743423,5.193614495733341,5.203323961222008,5.2000712014345005,5.190654994121957,5.202133337016569,5.198546829075644,5.196774162300887,5.19445606632779,5.192310060640709,5.1910343454210945,5.190759560930804,5.178180625888453,5.177435153991759,5.177117671623508,5.176436148832458,5.169004813382459,5.179439551781508,5.177808350178854,5.177606882874901,5.176153129326922,5.17624568540951,5.162645104908217,5.1711047267588715,5.16403149954759,5.16212821043929,5.160090968155867,5.159874139097928,5.154206094247732,5.152010075953971,5.142920631618649,5.142285360072414,5.13583313937772,5.1259022271173915,5.125674819066777,5.125955320744355,5.115372341370076,5.113510198081416,5.104549143586521,5.10711153990216,5.094940036409618,5.103552823982476,5.090064024770188,5.097784847429299,5.096319216255262,5.084866797846068,5.077951059169386,5.084421189263406,5.083417552471676,5.065945986986856,5.072703275404665,5.0680972949811505,5.068017788713664,5.055727479901954,5.054423418910469,5.045388981344786,5.033602096785367,5.030205825250807,5.0300168572993655,5.025542995163036,5.02552254493186,4.950763671134601,4.947911337053224,4.942557146048536,4.945112797446889,4.938690107602717,4.938381837693919,4.931273086456546,4.927428436394848,4.918514228619088,4.917523242132106,4.910728846649507,4.908278325075658,4.91043759588449,4.903643901268877,4.902996489367352,4.823869428287647,4.841266438167503,4.853378024852013,4.867977361366881,4.868252829354011,4.868880647073961,4.876282178344757,4.885327805585922,4.893074303002649,4.89397088507353,4.900159286836539,4.901162309433282,4.950721937706097,4.951853799781254,4.950908891332427,4.951517368051027,4.957783499508196,4.957456745940128,4.957456214148721,4.960038584311855,4.962086753736585,4.961772658724341,4.9701937869951,4.975149853773324,4.973903163522943,4.985428998758772,4.987908795728204,4.989909590274577,4.992393075876615,4.99722621094897,4.997392620587053,4.997444034117809,4.993023245797982,4.993441485817582,5.002778656704706,5.000831740301658,5.006861745045613,5.010001089067055,5.014451566943153,5.0121511271437225,5.021666401450064,5.0250363614843465,5.208223345868969,5.215007437709803,5.204762653657202,5.2061187029522795,5.213896825349414,5.204890815170129,5.205996762273433,5.2084993176033585,5.21016000810299,5.207582083594563,5.207815539747887,5.220452713886232,5.2208656717162665,5.219642933444389,5.221278077423628,5.2147226091059835,5.223576703721799,5.213705080425914,5.227675884111038,5.2287351622918035,5.230579537498029,5.231890433717883,5.218829425377994,5.230834181915606,5.224303120255119,5.228780026150648,5.234158744888832,5.2357528687819865,5.2355228499183255,5.229850438670146,5.2389698375032125,5.24022511465107,5.229931198062083,5.239610867230823,5.233948449161584,5.23996200430039,5.242682912259159,5.233113196244117,5.239044176794264,5.247023060708244,5.251043449733636,5.252478199055744,5.249474264324938,5.242576482834634,5.242450987625459,5.254631024263263,5.243010645344915,5.248706954480824,5.2488055975038,5.249261282697555,5.253287664206674,5.25422269089975,5.250531414377367,5.253126877895802,5.25720681427585,5.259694081164106,5.26019599251733,5.260474900806999,5.2533106994931895,5.252665457026373,5.253794330168983,5.2621651589443275,5.264409095080673,5.2641442337038775,5.265038117834779,5.256576630488437,5.265239979001338,5.26540375878416,5.267022146791215,5.267973159256099,5.268381383597983,5.269135438975061,5.2686640633064545,5.2689755534727265,5.270037706596106,5.2618173452890655,5.26460950653839,5.265195150600984,5.270598124536068,5.265945554761318,5.266084806611097,5.2668353421672425,5.2666716665354265,5.268969438049025,5.2696504408116915,5.267495602704912,5.272242567741433,5.273255959675087,5.273064744508046,5.266310940678705,5.266662534683038,5.266980634478124,5.270108208626866,5.277108616654623,5.277972764396877,5.279092220936862,5.270742463398195,5.272982930019724,5.273369779850519,5.279518509338171,5.2802081614937215,5.270793111364856,5.278708555498776,5.2841404192340224,5.283533772620354,5.279830013317067,5.281561593222053,5.283521955407561,5.288586597375147,5.277394096144532,5.2792996862805275,5.279357341845337,5.280965798912712,5.2873240617021615,5.292119915795471,5.282509451850094,5.28317526584158,5.28603363357897,5.296712087726274,5.287091671075867,5.288369125135555,5.294374220068187,5.2878396762202975,5.291294095493539,5.29143402500843,5.2915494615039975,5.292229421407454],\"z\":[25.235890361935542,25.248259362385674,25.23839194510725,25.237035573073204,25.25011904189564,25.23721906187975,25.231899922092225,25.257953090529668,25.25813037479529,25.247385709837584,25.242861696828488,25.24286522473732,25.252860492742357,25.239969700904204,25.247077880097066,25.23868423867337,25.254759053415615,25.256270302723095,25.24183754501577,25.25038922829419,25.257500794070694,25.25185401221538,25.251972983216678,25.259192088152698,25.25070102928424,25.282499214325835,25.250755360381913,25.291789827593835,25.27332927873465,25.256438502589287,25.27808529946098,25.27827058356558,25.27845772239876,25.26113164215374,25.271331222200175,25.295331875078062,25.251477603249693,25.26001331486795,25.261695070156712,25.28831645183036,25.271846188394658,25.307446661941718,25.343419972991317,25.290189914575475,25.293928929602398,25.26642636494916,25.273596960670893,25.27066480780442,25.290475213788717,25.35715102454617,25.248024172902788,25.356951419957674,25.272686169765414,25.27743648465428,25.27122158498794,25.28287837749945,25.279148819345536,25.27435636117656,25.274342133218962,25.271301559782092,25.279094336784564,25.277571128814333,25.287646251937282,25.274386504500356,25.284486593868884,25.271293840213215,25.276932919171156,25.275461885959977,25.346419879393757,25.27757196998857,25.26392495533452,25.262477853785686,25.285904335872154,25.283081051993623,25.27413592796638,25.285708973842784,25.279246025382047,25.273039936972623,25.283162629385643,25.27155165482769,25.297586691893265,25.276242814198394,25.286210494800518,25.28317603598389,25.281646913186258,25.282999573430622,25.285940083487294,25.26909111628418,25.279212549999535,25.277672855445594,25.286338519992583,25.265608379497365,25.275738106425433,25.30085417762554,25.26284145994762,25.293436982256985,25.27292838100675,25.28954258207947,25.28798387453801,25.286391090786513,25.270158250182806,25.289633807767526,25.288144266448327,25.288067832431214,25.28799852261465,25.365452183104065,25.32402235603792,25.301016845995132,25.299453621581424,25.30330403181488,25.288796221273685,25.324108885902437,25.30569616793527,25.29318458779347,25.3335986836135,25.310254478390906,25.297612046551222,25.389545133171442,25.319354921250383,25.31646203706559,25.322508608050875,25.318102492760882,25.339460661949467,25.327269416616353,25.31379580864757,25.312334428412694,25.300737684092997,25.29936451137607,25.32712274757275,25.35932313012505,25.391207662027327,25.379019410303215,25.327646600048283,25.339458346398988,25.324349571943124,25.33832012798624,25.345536498457594,25.376141224153255,25.32266336087165,25.371445299348277,25.34564744993829,25.36381046344714,25.32862518666625,25.375870743438828,25.397236392084,25.334957781904656,25.345398822556486,25.346739281912306,25.371369265528653,25.340627541572886,25.336682922337186,25.361955184410082,25.348507849123607,25.391019509071768,25.336760404365954,25.375862288802402,25.34662753301589,25.347053918658037,25.34274097729442,25.354223303568684,25.389552772895218,25.360474838680815,25.374316717361538,25.375896132681003,25.375417860701177,25.38157208333796,25.352587848426243,25.370845086691418,25.344932984155914,25.369277669796382,25.35096622304097,25.347831267242963,25.39966433149021,25.391378257526394,25.377589432242214,25.34882310285377,25.376049974093082,25.399031053612656,25.39745247436116,25.398794087299486,25.368408098968327,25.39735081099524,25.368337908128904,25.360772331492473,25.36677342981974,25.381949902969033,25.397118757670246,25.38803271213667,25.400837077104477,25.39495255902144,25.393594503172103,25.380045301535695,25.38160777826051,25.40288818686981,25.403094632812607,25.37413742264775,25.381818427468833,25.374039642411304,25.362171342561147,25.403242748284462,25.385413832760886,25.366918269844568,25.359395377706083,25.34005487266292,25.371505780769777,25.370084119739772,25.370123786288772,25.35033452080066,25.348886234025027,25.347324188906303,25.377718640105847,25.377894831623745,25.335516010676127,25.38564622579949,25.385717168894434,25.365743420723707,25.36584252985354,25.353636211545155,25.371981891646737,25.378116005286284,25.33404110138783,25.341435160855493,25.385796788245372,25.335412668690907,25.358405629848896,25.361436934822823,25.376743775096145,25.332495295789304,25.35834902783012,25.379944299750672,25.30527861356129,25.397347051078114,25.284149093193403,25.28863765181674,25.31048399419197,25.297547239550774,25.28875255644431,25.29290720778193,25.29742005654489,25.281574547542522,25.293141453259285,25.327560831771805,25.329194378053675,25.311853072769413,25.3288544435169,25.297314881719743,25.30858141081406,25.29435393645911,25.34584041137742,25.309960258162,25.3163495318963,25.33195247348765,25.28417044201782,25.316722187987402,25.295575625914715,25.294370005974297,25.311576112727984,25.31770746095742,25.315448298948265,25.287140852668998,25.311466928496294,25.315081433332793,25.286858479072084,25.301589967932394,25.285412389989585,25.288561051455456,25.296394481041315,25.284063525078153,25.28526479819607,25.293505882085153,25.318521907605486,25.35772283466996,25.301628057807637,25.295664891286417,25.272410975969372,25.314612181445288,25.283831759493278,25.285429723773294,25.285444342077753,25.2869614064091,25.29819756719403,25.28693701301995,25.289556458274816,25.283870329136196,25.294969109911733,25.303153157097064,25.304865946546794,25.316926883897743,25.285135873123576,25.27371529015362,25.274960158887353,25.296222742686215,25.302880912740566,25.30151513650069,25.304743749823437,25.282289894665748,25.29003029951665,25.290110902539602,25.28447813574605,25.29811752106373,25.29965209007674,25.30265928514307,25.289406860013415,25.289792515979688,25.304878524063025,25.29537498534261,25.287860095529105,25.28935559675127,25.29288077767757,25.280699434081306,25.280685557657485,25.282180722860424,25.28068073946261,25.276549840628814,25.289821614389034,25.285016035010013,25.293866766923998,25.28667189263235,25.285195038595077,25.26053468780416,25.272008685055166,25.261928442764546,25.27916737535985,25.29631718016447,25.299408296514148,25.30278935184253,25.27055305345678,25.28638691484917,25.27625432095165,25.289766978676738,25.291387802429934,25.28215425220997,25.27645979999118,25.304015184745214,25.30116742176639,25.290707068565776,25.28201941679016,25.2880951081966,25.302414504110914,25.27479491480547,25.27913641467753,25.265867508066595,25.28050066478636,25.297798948115172,25.369684007939107,25.27462821317922,25.276073745711546,25.281950036541133,25.357409711376906,25.272993828993844,25.275925550565276,25.28971896049675,25.274433594036154,25.271722208855927,25.27172360128408,25.27172847122036,25.273259766577603],\"type\":\"scatter3d\"},{\"hovertemplate\":\"Image(image_id=3, camera_id=1, name=\\\"images\\u002f63.jpg\\\", triangulated=364\\u002f887)\",\"legendgroup\":\"images\",\"line\":{\"color\":\"rgba(255,0,0,0.5)\",\"width\":1},\"mode\":\"lines\",\"name\":\"3\",\"showlegend\":false,\"x\":[0.9614891398900409,0.43651764913196145,1.0594051571127707,0.9614891398900409,1.0594051571127707,1.0669722311170413,0.9614891398900409,1.0669722311170413,0.44408472313623215,0.9614891398900409,0.44408472313623215,0.43651764913196145],\"y\":[-4.4752440030100065,-3.717637412080857,-3.712803194199101,-4.4752440030100065,-3.712803194199101,-3.3816589746752816,-4.4752440030100065,-3.3816589746752816,-3.386493192557037,-4.4752440030100065,-3.386493192557037,-3.717637412080857],\"z\":[2.011896788531626,4.516489965458753,4.567605351977187,2.011896788531626,4.567605351977187,4.444075831674894,2.011896788531626,4.444075831674894,4.392960445156459,2.011896788531626,4.392960445156459,4.516489965458753],\"type\":\"scatter3d\"},{\"hovertemplate\":\"Image(image_id=6, camera_id=1, name=\\\"images\\u002f66.jpg\\\", triangulated=364\\u002f821)\",\"legendgroup\":\"images\",\"line\":{\"color\":\"rgba(255,0,0,0.5)\",\"width\":1},\"mode\":\"lines\",\"name\":\"6\",\"showlegend\":false,\"x\":[-0.9614890471342303,-1.2739890471342303,-0.6489890471342303,-0.9614890471342303,-0.6489890471342303,-0.6489890471342303,-0.9614890471342303,-0.6489890471342303,-1.2739890471342303,-0.9614890471342303,-1.2739890471342303,-1.2739890471342303],\"y\":[4.475244135563576,4.298486323063576,4.298486323063576,4.475244135563576,4.298486323063576,4.652001948063576,4.475244135563576,4.652001948063576,4.652001948063576,4.475244135563576,4.652001948063576,4.298486323063576],\"z\":[-2.0118966912317755,0.6326543520188896,0.6326543520188896,-2.0118966912317755,0.6326543520188896,0.6326543520188896,-2.0118966912317755,0.6326543520188896,0.6326543520188896,-2.0118966912317755,0.6326543520188896,0.6326543520188896],\"type\":\"scatter3d\"}],                        {\"template\":{\"data\":{\"barpolar\":[{\"marker\":{\"line\":{\"color\":\"rgb(17,17,17)\",\"width\":0.5},\"pattern\":{\"fillmode\":\"overlay\",\"size\":10,\"solidity\":0.2}},\"type\":\"barpolar\"}],\"bar\":[{\"error_x\":{\"color\":\"#f2f5fa\"},\"error_y\":{\"color\":\"#f2f5fa\"},\"marker\":{\"line\":{\"color\":\"rgb(17,17,17)\",\"width\":0.5},\"pattern\":{\"fillmode\":\"overlay\",\"size\":10,\"solidity\":0.2}},\"type\":\"bar\"}],\"carpet\":[{\"aaxis\":{\"endlinecolor\":\"#A2B1C6\",\"gridcolor\":\"#506784\",\"linecolor\":\"#506784\",\"minorgridcolor\":\"#506784\",\"startlinecolor\":\"#A2B1C6\"},\"baxis\":{\"endlinecolor\":\"#A2B1C6\",\"gridcolor\":\"#506784\",\"linecolor\":\"#506784\",\"minorgridcolor\":\"#506784\",\"startlinecolor\":\"#A2B1C6\"},\"type\":\"carpet\"}],\"choropleth\":[{\"colorbar\":{\"outlinewidth\":0,\"ticks\":\"\"},\"type\":\"choropleth\"}],\"contourcarpet\":[{\"colorbar\":{\"outlinewidth\":0,\"ticks\":\"\"},\"type\":\"contourcarpet\"}],\"contour\":[{\"colorbar\":{\"outlinewidth\":0,\"ticks\":\"\"},\"colorscale\":[[0.0,\"#0d0887\"],[0.1111111111111111,\"#46039f\"],[0.2222222222222222,\"#7201a8\"],[0.3333333333333333,\"#9c179e\"],[0.4444444444444444,\"#bd3786\"],[0.5555555555555556,\"#d8576b\"],[0.6666666666666666,\"#ed7953\"],[0.7777777777777778,\"#fb9f3a\"],[0.8888888888888888,\"#fdca26\"],[1.0,\"#f0f921\"]],\"type\":\"contour\"}],\"heatmapgl\":[{\"colorbar\":{\"outlinewidth\":0,\"ticks\":\"\"},\"colorscale\":[[0.0,\"#0d0887\"],[0.1111111111111111,\"#46039f\"],[0.2222222222222222,\"#7201a8\"],[0.3333333333333333,\"#9c179e\"],[0.4444444444444444,\"#bd3786\"],[0.5555555555555556,\"#d8576b\"],[0.6666666666666666,\"#ed7953\"],[0.7777777777777778,\"#fb9f3a\"],[0.8888888888888888,\"#fdca26\"],[1.0,\"#f0f921\"]],\"type\":\"heatmapgl\"}],\"heatmap\":[{\"colorbar\":{\"outlinewidth\":0,\"ticks\":\"\"},\"colorscale\":[[0.0,\"#0d0887\"],[0.1111111111111111,\"#46039f\"],[0.2222222222222222,\"#7201a8\"],[0.3333333333333333,\"#9c179e\"],[0.4444444444444444,\"#bd3786\"],[0.5555555555555556,\"#d8576b\"],[0.6666666666666666,\"#ed7953\"],[0.7777777777777778,\"#fb9f3a\"],[0.8888888888888888,\"#fdca26\"],[1.0,\"#f0f921\"]],\"type\":\"heatmap\"}],\"histogram2dcontour\":[{\"colorbar\":{\"outlinewidth\":0,\"ticks\":\"\"},\"colorscale\":[[0.0,\"#0d0887\"],[0.1111111111111111,\"#46039f\"],[0.2222222222222222,\"#7201a8\"],[0.3333333333333333,\"#9c179e\"],[0.4444444444444444,\"#bd3786\"],[0.5555555555555556,\"#d8576b\"],[0.6666666666666666,\"#ed7953\"],[0.7777777777777778,\"#fb9f3a\"],[0.8888888888888888,\"#fdca26\"],[1.0,\"#f0f921\"]],\"type\":\"histogram2dcontour\"}],\"histogram2d\":[{\"colorbar\":{\"outlinewidth\":0,\"ticks\":\"\"},\"colorscale\":[[0.0,\"#0d0887\"],[0.1111111111111111,\"#46039f\"],[0.2222222222222222,\"#7201a8\"],[0.3333333333333333,\"#9c179e\"],[0.4444444444444444,\"#bd3786\"],[0.5555555555555556,\"#d8576b\"],[0.6666666666666666,\"#ed7953\"],[0.7777777777777778,\"#fb9f3a\"],[0.8888888888888888,\"#fdca26\"],[1.0,\"#f0f921\"]],\"type\":\"histogram2d\"}],\"histogram\":[{\"marker\":{\"pattern\":{\"fillmode\":\"overlay\",\"size\":10,\"solidity\":0.2}},\"type\":\"histogram\"}],\"mesh3d\":[{\"colorbar\":{\"outlinewidth\":0,\"ticks\":\"\"},\"type\":\"mesh3d\"}],\"parcoords\":[{\"line\":{\"colorbar\":{\"outlinewidth\":0,\"ticks\":\"\"}},\"type\":\"parcoords\"}],\"pie\":[{\"automargin\":true,\"type\":\"pie\"}],\"scatter3d\":[{\"line\":{\"colorbar\":{\"outlinewidth\":0,\"ticks\":\"\"}},\"marker\":{\"colorbar\":{\"outlinewidth\":0,\"ticks\":\"\"}},\"type\":\"scatter3d\"}],\"scattercarpet\":[{\"marker\":{\"colorbar\":{\"outlinewidth\":0,\"ticks\":\"\"}},\"type\":\"scattercarpet\"}],\"scattergeo\":[{\"marker\":{\"colorbar\":{\"outlinewidth\":0,\"ticks\":\"\"}},\"type\":\"scattergeo\"}],\"scattergl\":[{\"marker\":{\"line\":{\"color\":\"#283442\"}},\"type\":\"scattergl\"}],\"scattermapbox\":[{\"marker\":{\"colorbar\":{\"outlinewidth\":0,\"ticks\":\"\"}},\"type\":\"scattermapbox\"}],\"scatterpolargl\":[{\"marker\":{\"colorbar\":{\"outlinewidth\":0,\"ticks\":\"\"}},\"type\":\"scatterpolargl\"}],\"scatterpolar\":[{\"marker\":{\"colorbar\":{\"outlinewidth\":0,\"ticks\":\"\"}},\"type\":\"scatterpolar\"}],\"scatter\":[{\"marker\":{\"line\":{\"color\":\"#283442\"}},\"type\":\"scatter\"}],\"scatterternary\":[{\"marker\":{\"colorbar\":{\"outlinewidth\":0,\"ticks\":\"\"}},\"type\":\"scatterternary\"}],\"surface\":[{\"colorbar\":{\"outlinewidth\":0,\"ticks\":\"\"},\"colorscale\":[[0.0,\"#0d0887\"],[0.1111111111111111,\"#46039f\"],[0.2222222222222222,\"#7201a8\"],[0.3333333333333333,\"#9c179e\"],[0.4444444444444444,\"#bd3786\"],[0.5555555555555556,\"#d8576b\"],[0.6666666666666666,\"#ed7953\"],[0.7777777777777778,\"#fb9f3a\"],[0.8888888888888888,\"#fdca26\"],[1.0,\"#f0f921\"]],\"type\":\"surface\"}],\"table\":[{\"cells\":{\"fill\":{\"color\":\"#506784\"},\"line\":{\"color\":\"rgb(17,17,17)\"}},\"header\":{\"fill\":{\"color\":\"#2a3f5f\"},\"line\":{\"color\":\"rgb(17,17,17)\"}},\"type\":\"table\"}]},\"layout\":{\"annotationdefaults\":{\"arrowcolor\":\"#f2f5fa\",\"arrowhead\":0,\"arrowwidth\":1},\"autotypenumbers\":\"strict\",\"coloraxis\":{\"colorbar\":{\"outlinewidth\":0,\"ticks\":\"\"}},\"colorscale\":{\"diverging\":[[0,\"#8e0152\"],[0.1,\"#c51b7d\"],[0.2,\"#de77ae\"],[0.3,\"#f1b6da\"],[0.4,\"#fde0ef\"],[0.5,\"#f7f7f7\"],[0.6,\"#e6f5d0\"],[0.7,\"#b8e186\"],[0.8,\"#7fbc41\"],[0.9,\"#4d9221\"],[1,\"#276419\"]],\"sequential\":[[0.0,\"#0d0887\"],[0.1111111111111111,\"#46039f\"],[0.2222222222222222,\"#7201a8\"],[0.3333333333333333,\"#9c179e\"],[0.4444444444444444,\"#bd3786\"],[0.5555555555555556,\"#d8576b\"],[0.6666666666666666,\"#ed7953\"],[0.7777777777777778,\"#fb9f3a\"],[0.8888888888888888,\"#fdca26\"],[1.0,\"#f0f921\"]],\"sequentialminus\":[[0.0,\"#0d0887\"],[0.1111111111111111,\"#46039f\"],[0.2222222222222222,\"#7201a8\"],[0.3333333333333333,\"#9c179e\"],[0.4444444444444444,\"#bd3786\"],[0.5555555555555556,\"#d8576b\"],[0.6666666666666666,\"#ed7953\"],[0.7777777777777778,\"#fb9f3a\"],[0.8888888888888888,\"#fdca26\"],[1.0,\"#f0f921\"]]},\"colorway\":[\"#636efa\",\"#EF553B\",\"#00cc96\",\"#ab63fa\",\"#FFA15A\",\"#19d3f3\",\"#FF6692\",\"#B6E880\",\"#FF97FF\",\"#FECB52\"],\"font\":{\"color\":\"#f2f5fa\"},\"geo\":{\"bgcolor\":\"rgb(17,17,17)\",\"lakecolor\":\"rgb(17,17,17)\",\"landcolor\":\"rgb(17,17,17)\",\"showlakes\":true,\"showland\":true,\"subunitcolor\":\"#506784\"},\"hoverlabel\":{\"align\":\"left\"},\"hovermode\":\"closest\",\"mapbox\":{\"style\":\"dark\"},\"paper_bgcolor\":\"rgb(17,17,17)\",\"plot_bgcolor\":\"rgb(17,17,17)\",\"polar\":{\"angularaxis\":{\"gridcolor\":\"#506784\",\"linecolor\":\"#506784\",\"ticks\":\"\"},\"bgcolor\":\"rgb(17,17,17)\",\"radialaxis\":{\"gridcolor\":\"#506784\",\"linecolor\":\"#506784\",\"ticks\":\"\"}},\"scene\":{\"xaxis\":{\"backgroundcolor\":\"rgb(17,17,17)\",\"gridcolor\":\"#506784\",\"gridwidth\":2,\"linecolor\":\"#506784\",\"showbackground\":true,\"ticks\":\"\",\"zerolinecolor\":\"#C8D4E3\"},\"yaxis\":{\"backgroundcolor\":\"rgb(17,17,17)\",\"gridcolor\":\"#506784\",\"gridwidth\":2,\"linecolor\":\"#506784\",\"showbackground\":true,\"ticks\":\"\",\"zerolinecolor\":\"#C8D4E3\"},\"zaxis\":{\"backgroundcolor\":\"rgb(17,17,17)\",\"gridcolor\":\"#506784\",\"gridwidth\":2,\"linecolor\":\"#506784\",\"showbackground\":true,\"ticks\":\"\",\"zerolinecolor\":\"#C8D4E3\"}},\"shapedefaults\":{\"line\":{\"color\":\"#f2f5fa\"}},\"sliderdefaults\":{\"bgcolor\":\"#C8D4E3\",\"bordercolor\":\"rgb(17,17,17)\",\"borderwidth\":1,\"tickwidth\":0},\"ternary\":{\"aaxis\":{\"gridcolor\":\"#506784\",\"linecolor\":\"#506784\",\"ticks\":\"\"},\"baxis\":{\"gridcolor\":\"#506784\",\"linecolor\":\"#506784\",\"ticks\":\"\"},\"bgcolor\":\"rgb(17,17,17)\",\"caxis\":{\"gridcolor\":\"#506784\",\"linecolor\":\"#506784\",\"ticks\":\"\"}},\"title\":{\"x\":0.05},\"updatemenudefaults\":{\"bgcolor\":\"#506784\",\"borderwidth\":0},\"xaxis\":{\"automargin\":true,\"gridcolor\":\"#283442\",\"linecolor\":\"#506784\",\"ticks\":\"\",\"title\":{\"standoff\":15},\"zerolinecolor\":\"#283442\",\"zerolinewidth\":2},\"yaxis\":{\"automargin\":true,\"gridcolor\":\"#283442\",\"linecolor\":\"#506784\",\"ticks\":\"\",\"title\":{\"standoff\":15},\"zerolinecolor\":\"#283442\",\"zerolinewidth\":2}}},\"scene\":{\"camera\":{\"eye\":{\"x\":0.0,\"y\":-0.1,\"z\":-2},\"up\":{\"x\":0,\"y\":-1.0,\"z\":0},\"projection\":{\"type\":\"orthographic\"}},\"xaxis\":{\"visible\":false,\"showbackground\":false,\"showgrid\":false,\"showline\":false,\"showticklabels\":true,\"autorange\":true},\"yaxis\":{\"visible\":false,\"showbackground\":false,\"showgrid\":false,\"showline\":false,\"showticklabels\":true,\"autorange\":true},\"zaxis\":{\"visible\":false,\"showbackground\":false,\"showgrid\":false,\"showline\":false,\"showticklabels\":true,\"autorange\":true},\"aspectmode\":\"data\",\"dragmode\":\"orbit\"},\"margin\":{\"l\":0,\"r\":0,\"b\":0,\"t\":0,\"pad\":0},\"legend\":{\"orientation\":\"h\",\"yanchor\":\"top\",\"y\":0.99,\"xanchor\":\"left\",\"x\":0.1},\"height\":800},                        {\"responsive\": true}                    ).then(function(){\n",
       "                            \n",
       "var gd = document.getElementById('01d10a70-9b1f-4856-965d-252e8335680c');\n",
       "var x = new MutationObserver(function (mutations, observer) {{\n",
       "        var display = window.getComputedStyle(gd).display;\n",
       "        if (!display || display === 'none') {{\n",
       "            console.log([gd, 'removed!']);\n",
       "            Plotly.purge(gd);\n",
       "            observer.disconnect();\n",
       "        }}\n",
       "}});\n",
       "\n",
       "// Listen for the removal of the full notebook cells\n",
       "var notebookContainer = gd.closest('#notebook-container');\n",
       "if (notebookContainer) {{\n",
       "    x.observe(notebookContainer, {childList: true});\n",
       "}}\n",
       "\n",
       "// Listen for the clearing of the current output cell\n",
       "var outputEl = gd.closest('.output');\n",
       "if (outputEl) {{\n",
       "    x.observe(outputEl, {childList: true});\n",
       "}}\n",
       "\n",
       "                        })                };                });            </script>        </div>"
      ]
     },
     "metadata": {},
     "output_type": "display_data"
    },
    {
     "name": "stderr",
     "output_type": "stream",
     "text": [
      "\u001b[31mApplication will exit soon in 1800 seconds which is set by env\"ORION_TASK_IDLE_TIME\".\u001b[0m\n"
     ]
    },
    {
     "ename": "",
     "evalue": "",
     "output_type": "error",
     "traceback": [
      "\u001b[1;31m在当前单元格或上一个单元格中执行代码时 Kernel 崩溃。\n",
      "\u001b[1;31m请查看单元格中的代码，以确定故障的可能原因。\n",
      "\u001b[1;31m单击<a href='https://aka.ms/vscodeJupyterKernelCrash'>此处</a>了解详细信息。\n",
      "\u001b[1;31m有关更多详细信息，请查看 Jupyter <a href='command:jupyter.viewOutput'>log</a>。"
     ]
    }
   ],
   "source": [
    "# model = reconstruction.main(\n",
    "#     sfm_dir, images, sfm_pairs, features, matches, image_list=references\n",
    "# )\n",
    "model = reconstruction.main(\n",
    "    sfm_dir, images, sfm_pairs, features, matches,  image_list=references,\n",
    "    # min_match_score = 0.5)\n",
    "    # camera_mode='PER_FOLDER', min_match_score = 0.4)\n",
    "    camera_mode='SINGLE', min_match_score = 0.5)\n",
    "    # camera_mode='AUTO', min_match_score = 0.5)\n",
    "import pycolmap\n",
    "# model = pycolmap.Reconstruction(sfm_dir/'models/0')\n",
    "fig = viz_3d.init_figure()\n",
    "viz_3d.plot_reconstruction(\n",
    "    fig, model, color=\"rgba(255,0,0,0.5)\", name=\"images\", points_rgb=True\n",
    ")\n",
    "fig.show()"
   ]
  },
  {
   "cell_type": "markdown",
   "id": "5478094d",
   "metadata": {},
   "source": [
    "We also visualize which keypoints were triangulated into the 3D model."
   ]
  },
  {
   "cell_type": "code",
   "execution_count": null,
   "id": "862c20e7",
   "metadata": {},
   "outputs": [],
   "source": [
    "visualization.visualize_sfm_2d(model, images, color_by=\"visibility\", n=2)"
   ]
  },
  {
   "cell_type": "markdown",
   "id": "f8b08268",
   "metadata": {},
   "source": [
    "# Localization\n",
    "Now that we have a 3D map of the scene, we can localize any image. To demonstrate this, we download [a night-time image from Wikimedia](https://commons.wikimedia.org/wiki/File:Paris_-_Basilique_du_Sacr%C3%A9_Coeur,_Montmartre_-_panoramio.jpg)."
   ]
  },
  {
   "cell_type": "code",
   "execution_count": null,
   "id": "74f07f86",
   "metadata": {},
   "outputs": [],
   "source": [
    "url = \"https://upload.wikimedia.org/wikipedia/commons/5/53/Paris_-_Basilique_du_Sacr%C3%A9_Coeur%2C_Montmartre_-_panoramio.jpg\"\n",
    "# try other queries by uncommenting their url\n",
    "# url = \"https://upload.wikimedia.org/wikipedia/commons/5/59/Basilique_du_Sacr%C3%A9-C%C5%93ur_%285430392880%29.jpg\"\n",
    "# url = \"https://upload.wikimedia.org/wikipedia/commons/8/8e/Sacr%C3%A9_C%C5%93ur_at_night%21_%285865355326%29.jpg\"\n",
    "query = \"query/night.jpg\"\n",
    "!mkdir -p $images/query && wget $url -O $images/$query -q\n",
    "plot_images([read_image(images / query)], dpi=75)"
   ]
  },
  {
   "cell_type": "markdown",
   "id": "4a035ca4",
   "metadata": {},
   "source": [
    "Again, we extract features for the query and match them exhaustively."
   ]
  },
  {
   "cell_type": "code",
   "execution_count": null,
   "id": "7626a984",
   "metadata": {},
   "outputs": [],
   "source": [
    "extract_features.main(\n",
    "    feature_conf, images, image_list=[query], feature_path=features, overwrite=True\n",
    ")\n",
    "pairs_from_exhaustive.main(loc_pairs, image_list=[query], ref_list=references)\n",
    "match_features.main(\n",
    "    matcher_conf, loc_pairs, features=features, matches=matches, overwrite=True\n",
    ");"
   ]
  },
  {
   "cell_type": "markdown",
   "id": "3b037419",
   "metadata": {},
   "source": [
    "We read the EXIF data of the query to infer a rough initial estimate of camera parameters like the focal length. Then we estimate the absolute camera pose using PnP+RANSAC and refine the camera parameters."
   ]
  },
  {
   "cell_type": "code",
   "execution_count": null,
   "id": "0bd559ad",
   "metadata": {},
   "outputs": [],
   "source": [
    "import pycolmap\n",
    "from hloc.localize_sfm import QueryLocalizer, pose_from_cluster\n",
    "\n",
    "camera = pycolmap.infer_camera_from_image(images / query)\n",
    "ref_ids = [model.find_image_with_name(r).image_id for r in references]\n",
    "conf = {\n",
    "    \"estimation\": {\"ransac\": {\"max_error\": 12}},\n",
    "    \"refinement\": {\"refine_focal_length\": True, \"refine_extra_params\": True},\n",
    "}\n",
    "localizer = QueryLocalizer(model, conf)\n",
    "ret, log = pose_from_cluster(localizer, query, camera, ref_ids, features, matches)\n",
    "\n",
    "print(f'found {ret[\"num_inliers\"]}/{len(ret[\"inliers\"])} inlier correspondences.')\n",
    "visualization.visualize_loc_from_log(images, query, log, model)"
   ]
  },
  {
   "cell_type": "markdown",
   "id": "791e5518",
   "metadata": {},
   "source": [
    "We visualize the correspondences between the query images a few mapping images. We can also visualize the estimated camera pose in the 3D map."
   ]
  },
  {
   "cell_type": "code",
   "execution_count": null,
   "id": "603c5533-f7b5-4e2c-ae62-de047abce7cc",
   "metadata": {},
   "outputs": [],
   "source": [
    "pose = pycolmap.Image(cam_from_world=ret[\"cam_from_world\"])\n",
    "viz_3d.plot_camera_colmap(\n",
    "    fig, pose, camera, color=\"rgba(0,255,0,0.5)\", name=query, fill=True\n",
    ")\n",
    "# visualize 2D-3D correspodences\n",
    "inl_3d = np.array(\n",
    "    [model.points3D[pid].xyz for pid in np.array(log[\"points3D_ids\"])[ret[\"inliers\"]]]\n",
    ")\n",
    "viz_3d.plot_points(fig, inl_3d, color=\"lime\", ps=1, name=query)\n",
    "fig.show()"
   ]
  }
 ],
 "metadata": {
  "kernelspec": {
   "display_name": "Python 3 (ipykernel)",
   "language": "python",
   "name": "python3"
  },
  "language_info": {
   "codemirror_mode": {
    "name": "ipython",
    "version": 3
   },
   "file_extension": ".py",
   "mimetype": "text/x-python",
   "name": "python",
   "nbconvert_exporter": "python",
   "pygments_lexer": "ipython3",
   "version": "3.8.18"
  }
 },
 "nbformat": 4,
 "nbformat_minor": 5
}
